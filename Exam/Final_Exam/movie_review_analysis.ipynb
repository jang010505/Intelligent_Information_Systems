{
 "cells": [
  {
   "cell_type": "markdown",
   "id": "77b53cfe",
   "metadata": {},
   "source": [
    "# 202001549 장희권"
   ]
  },
  {
   "cell_type": "code",
   "execution_count": 1,
   "id": "dd0807db",
   "metadata": {},
   "outputs": [],
   "source": [
    "from urllib.request import urlopen\n",
    "from bs4 import BeautifulSoup\n",
    "from selenium import webdriver\n",
    "from selenium.webdriver.chrome.options import Options\n",
    "from tqdm.notebook import tqdm\n",
    "import time"
   ]
  },
  {
   "cell_type": "code",
   "execution_count": 2,
   "id": "eed0173a",
   "metadata": {},
   "outputs": [
    {
     "name": "stderr",
     "output_type": "stream",
     "text": [
      "C:\\Users\\user\\AppData\\Local\\Temp\\ipykernel_20548\\1296405975.py:1: DeprecationWarning: executable_path has been deprecated, please pass in a Service object\n",
      "  driver = webdriver.Chrome(r\"../chromedriver.exe\")\n"
     ]
    }
   ],
   "source": [
    "driver = webdriver.Chrome(r\"../chromedriver.exe\")\n",
    "main_url = \"https://movie.daum.net/main\"\n",
    "driver.get(main_url)"
   ]
  },
  {
   "cell_type": "code",
   "execution_count": 3,
   "id": "fc5c5d9f",
   "metadata": {},
   "outputs": [],
   "source": [
    "movie_name = '완벽한 타인'\n",
    "\n",
    "time.sleep(1)\n",
    "\n",
    "search_path = '//*[@id=\"mainContent\"]/div/div[1]/form/fieldset/div/input'\n",
    "driver.find_element(\"xpath\", search_path).send_keys(movie_name)\n",
    "\n",
    "time.sleep(1)\n",
    "\n",
    "click_path = '//*[@id=\"mainContent\"]/div/div[1]/div/div/div/ul/li[1]/a'\n",
    "driver.find_element(\"xpath\", click_path).click()\n",
    "\n",
    "time.sleep(1)\n",
    "\n",
    "gradeButton_path = '//*[@id=\"mainContent\"]/div/div[2]/div[1]/ul/li[4]/a'\n",
    "driver.find_element(\"xpath\", gradeButton_path).click()"
   ]
  },
  {
   "cell_type": "code",
   "execution_count": 4,
   "id": "123e54f7",
   "metadata": {},
   "outputs": [],
   "source": [
    "while True:\n",
    "    time.sleep(0.5)\n",
    "    try:\n",
    "        viewMore_path = '//*[@id=\"alex-area\"]/div/div/div/div[3]/div[1]/button'\n",
    "        driver.find_element(\"xpath\", viewMore_path).click()\n",
    "    except:\n",
    "        break"
   ]
  },
  {
   "cell_type": "code",
   "execution_count": 12,
   "id": "e7d9f79a",
   "metadata": {},
   "outputs": [],
   "source": [
    "page = driver.page_source\n",
    "soup = BeautifulSoup(page, 'html.parser')\n",
    "\n",
    "grade_list = []\n",
    "\n",
    "cmt_lst = soup.find('ul', {\"class\":\"list_comment\"}).find_all('li')\n",
    "\n",
    "sentence_class_name = \"desc_txt\"\n",
    "ratings_class_name = \"ratings\"\n",
    "\n",
    "avg_grade = float(soup.find('em', {'class':'num_rating'}).text[:-1])\n",
    "\n",
    "for cmt in cmt_lst:\n",
    "    try:\n",
    "        rating = cmt.find('div', {'class':ratings_class_name}).text\n",
    "        sentence = cmt.find('p', {'class':sentence_class_name}).text\n",
    "        grade_list.append((int(rating), sentence))\n",
    "    except:\n",
    "        pass"
   ]
  },
  {
   "cell_type": "code",
   "execution_count": 14,
   "id": "62bb339e",
   "metadata": {
    "scrolled": true
   },
   "outputs": [
    {
     "data": {
      "text/plain": [
       "1229"
      ]
     },
     "execution_count": 14,
     "metadata": {},
     "output_type": "execute_result"
    }
   ],
   "source": [
    "len(grade_list)"
   ]
  },
  {
   "cell_type": "code",
   "execution_count": 15,
   "id": "447dd097",
   "metadata": {},
   "outputs": [],
   "source": [
    "bad_grade_list = [(rating, sentence) for rating, sentence in grade_list if rating < avg_grade]\n",
    "good_grade_list = [(rating, sentence) for rating, sentence in grade_list if rating >= avg_grade]"
   ]
  },
  {
   "cell_type": "code",
   "execution_count": 16,
   "id": "5345fb8b",
   "metadata": {},
   "outputs": [
    {
     "data": {
      "text/plain": [
       "420"
      ]
     },
     "execution_count": 16,
     "metadata": {},
     "output_type": "execute_result"
    }
   ],
   "source": [
    "len(bad_grade_list)"
   ]
  },
  {
   "cell_type": "code",
   "execution_count": 17,
   "id": "7f0843d0",
   "metadata": {},
   "outputs": [
    {
     "data": {
      "text/plain": [
       "809"
      ]
     },
     "execution_count": 17,
     "metadata": {},
     "output_type": "execute_result"
    }
   ],
   "source": [
    "len(good_grade_list)"
   ]
  }
 ],
 "metadata": {
  "kernelspec": {
   "display_name": "Python 3 (ipykernel)",
   "language": "python",
   "name": "python3"
  },
  "language_info": {
   "codemirror_mode": {
    "name": "ipython",
    "version": 3
   },
   "file_extension": ".py",
   "mimetype": "text/x-python",
   "name": "python",
   "nbconvert_exporter": "python",
   "pygments_lexer": "ipython3",
   "version": "3.9.12"
  }
 },
 "nbformat": 4,
 "nbformat_minor": 5
}
