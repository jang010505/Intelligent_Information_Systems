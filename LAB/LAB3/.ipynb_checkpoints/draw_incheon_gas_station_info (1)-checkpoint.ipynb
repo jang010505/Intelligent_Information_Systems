{
 "cells": [
  {
   "cell_type": "markdown",
   "metadata": {
    "pycharm": {
     "name": "#%% md\n"
    }
   },
   "source": [
    "## 과제 3 - 202001498 김진"
   ]
  },
  {
   "cell_type": "code",
   "execution_count": 1,
   "metadata": {
    "pycharm": {
     "name": "#%%\n"
    }
   },
   "outputs": [],
   "source": [
    "from glob import glob\n",
    "\n",
    "import pandas as pd, matplotlib.pyplot as plt, seaborn as sns"
   ]
  },
  {
   "cell_type": "code",
   "execution_count": 2,
   "metadata": {
    "pycharm": {
     "name": "#%%\n"
    }
   },
   "outputs": [],
   "source": [
    "station_files = glob('지역*.xls')\n",
    "\n",
    "tmp_list = []\n",
    "\n",
    "for file_name in station_files:\n",
    "    tmp = pd.read_excel(file_name, header=2)\n",
    "    tmp_list.append(tmp)\n",
    "\n",
    "stations = pd.concat(tmp_list)"
   ]
  },
  {
   "cell_type": "code",
   "execution_count": 3,
   "metadata": {
    "pycharm": {
     "name": "#%%\n"
    }
   },
   "outputs": [],
   "source": [
    "# 군/구 처리\n",
    "gu_list = []\n",
    "for address in stations['주소']:\n",
    "    address_gu = address.split()[1]\n",
    "    gu_list.append(address_gu)\n",
    "\n",
    "# 군/구 추가\n",
    "stations['군/구'] = gu_list"
   ]
  },
  {
   "cell_type": "markdown",
   "metadata": {
    "pycharm": {
     "name": "#%% md\n"
    }
   },
   "source": [
    "### 가격 처리 - 숫자형으로 변경\n",
    "- 가격이 '-'로 표시된 경우(미기입), 숫자(int)로 변경할 때 오류가 발생하므로 따로 처리가 필요\n",
    "- 가격이 기입되어 있지 않은 주유소를 제외하고 남은 휘발유와 경유 가격을 숫자(int)로 변경해 각각 gasoline_list, diesel_list에 삽입"
   ]
  },
  {
   "cell_type": "code",
   "execution_count": 4,
   "metadata": {
    "pycharm": {
     "name": "#%%\n"
    }
   },
   "outputs": [
    {
     "data": {
      "text/html": [
       "<div>\n",
       "<style scoped>\n",
       "    .dataframe tbody tr th:only-of-type {\n",
       "        vertical-align: middle;\n",
       "    }\n",
       "\n",
       "    .dataframe tbody tr th {\n",
       "        vertical-align: top;\n",
       "    }\n",
       "\n",
       "    .dataframe thead th {\n",
       "        text-align: right;\n",
       "    }\n",
       "</style>\n",
       "<table border=\"1\" class=\"dataframe\">\n",
       "  <thead>\n",
       "    <tr style=\"text-align: right;\">\n",
       "      <th></th>\n",
       "      <th>지역</th>\n",
       "      <th>상호</th>\n",
       "      <th>주소</th>\n",
       "      <th>상표</th>\n",
       "      <th>전화번호</th>\n",
       "      <th>셀프여부</th>\n",
       "      <th>고급휘발유</th>\n",
       "      <th>휘발유</th>\n",
       "      <th>경유</th>\n",
       "      <th>실내등유</th>\n",
       "      <th>군/구</th>\n",
       "    </tr>\n",
       "  </thead>\n",
       "  <tbody>\n",
       "    <tr>\n",
       "      <th>0</th>\n",
       "      <td>인천광역시</td>\n",
       "      <td>원천제2주유소</td>\n",
       "      <td>인천 계양구 벌말로 295</td>\n",
       "      <td>알뜰주유소</td>\n",
       "      <td>032-555-9143</td>\n",
       "      <td>Y</td>\n",
       "      <td>-</td>\n",
       "      <td>1573</td>\n",
       "      <td>1835</td>\n",
       "      <td>-</td>\n",
       "      <td>계양구</td>\n",
       "    </tr>\n",
       "    <tr>\n",
       "      <th>1</th>\n",
       "      <td>인천광역시</td>\n",
       "      <td>현대오일뱅크(주)직영 계양IC셀프주유소</td>\n",
       "      <td>인천 계양구 서부간선로 250  (박촌동)</td>\n",
       "      <td>현대오일뱅크</td>\n",
       "      <td>032-552-5185</td>\n",
       "      <td>Y</td>\n",
       "      <td>1999</td>\n",
       "      <td>1583</td>\n",
       "      <td>1864</td>\n",
       "      <td>-</td>\n",
       "      <td>계양구</td>\n",
       "    </tr>\n",
       "    <tr>\n",
       "      <th>2</th>\n",
       "      <td>인천광역시</td>\n",
       "      <td>그린에너지</td>\n",
       "      <td>인천 계양구 솔고개길 2</td>\n",
       "      <td>S-OIL</td>\n",
       "      <td>032-584-5189</td>\n",
       "      <td>N</td>\n",
       "      <td>-</td>\n",
       "      <td>1584</td>\n",
       "      <td>1864</td>\n",
       "      <td>1650</td>\n",
       "      <td>계양구</td>\n",
       "    </tr>\n",
       "    <tr>\n",
       "      <th>3</th>\n",
       "      <td>인천광역시</td>\n",
       "      <td>박촌주유소</td>\n",
       "      <td>인천 계양구 장제로 1021 (박촌동)</td>\n",
       "      <td>현대오일뱅크</td>\n",
       "      <td>032-519-9922</td>\n",
       "      <td>Y</td>\n",
       "      <td>-</td>\n",
       "      <td>1585</td>\n",
       "      <td>1856</td>\n",
       "      <td>-</td>\n",
       "      <td>계양구</td>\n",
       "    </tr>\n",
       "    <tr>\n",
       "      <th>4</th>\n",
       "      <td>인천광역시</td>\n",
       "      <td>서일석유(주) 갈현주유소</td>\n",
       "      <td>인천 계양구  드림로 764 (갈현동)</td>\n",
       "      <td>GS칼텍스</td>\n",
       "      <td>032-513-8903</td>\n",
       "      <td>N</td>\n",
       "      <td>-</td>\n",
       "      <td>1595</td>\n",
       "      <td>1865</td>\n",
       "      <td>-</td>\n",
       "      <td>계양구</td>\n",
       "    </tr>\n",
       "    <tr>\n",
       "      <th>...</th>\n",
       "      <td>...</td>\n",
       "      <td>...</td>\n",
       "      <td>...</td>\n",
       "      <td>...</td>\n",
       "      <td>...</td>\n",
       "      <td>...</td>\n",
       "      <td>...</td>\n",
       "      <td>...</td>\n",
       "      <td>...</td>\n",
       "      <td>...</td>\n",
       "      <td>...</td>\n",
       "    </tr>\n",
       "    <tr>\n",
       "      <th>22</th>\n",
       "      <td>인천광역시</td>\n",
       "      <td>세광주유소</td>\n",
       "      <td>인천 강화군 선원면 중앙로 205</td>\n",
       "      <td>S-OIL</td>\n",
       "      <td>032-934-1235</td>\n",
       "      <td>N</td>\n",
       "      <td>-</td>\n",
       "      <td>1699</td>\n",
       "      <td>1899</td>\n",
       "      <td>1550</td>\n",
       "      <td>강화군</td>\n",
       "    </tr>\n",
       "    <tr>\n",
       "      <th>23</th>\n",
       "      <td>인천광역시</td>\n",
       "      <td>한국주유소</td>\n",
       "      <td>인천 강화군 선원면 중앙로 445</td>\n",
       "      <td>자가상표</td>\n",
       "      <td>032-933-8700</td>\n",
       "      <td>N</td>\n",
       "      <td>-</td>\n",
       "      <td>1719</td>\n",
       "      <td>1899</td>\n",
       "      <td>1600</td>\n",
       "      <td>강화군</td>\n",
       "    </tr>\n",
       "    <tr>\n",
       "      <th>24</th>\n",
       "      <td>인천광역시</td>\n",
       "      <td>교동주유소</td>\n",
       "      <td>인천 강화군 교동면 대룡안길54번길 5</td>\n",
       "      <td>GS칼텍스</td>\n",
       "      <td>032-932-5039</td>\n",
       "      <td>N</td>\n",
       "      <td>-</td>\n",
       "      <td>1720</td>\n",
       "      <td>1995</td>\n",
       "      <td>1600</td>\n",
       "      <td>강화군</td>\n",
       "    </tr>\n",
       "    <tr>\n",
       "      <th>25</th>\n",
       "      <td>인천광역시</td>\n",
       "      <td>백마외포리주유소</td>\n",
       "      <td>인천 강화군 내가면 중앙로 1301</td>\n",
       "      <td>S-OIL</td>\n",
       "      <td>032-933-8155</td>\n",
       "      <td>N</td>\n",
       "      <td>-</td>\n",
       "      <td>1790</td>\n",
       "      <td>1998</td>\n",
       "      <td>1690</td>\n",
       "      <td>강화군</td>\n",
       "    </tr>\n",
       "    <tr>\n",
       "      <th>26</th>\n",
       "      <td>인천광역시</td>\n",
       "      <td>양갑주유소</td>\n",
       "      <td>인천 강화군 교동면 교동서로 274</td>\n",
       "      <td>SK에너지</td>\n",
       "      <td>032-933-8126</td>\n",
       "      <td>N</td>\n",
       "      <td>-</td>\n",
       "      <td>1795</td>\n",
       "      <td>1990</td>\n",
       "      <td>1695</td>\n",
       "      <td>강화군</td>\n",
       "    </tr>\n",
       "  </tbody>\n",
       "</table>\n",
       "<p>316 rows × 11 columns</p>\n",
       "</div>"
      ],
      "text/plain": [
       "       지역                     상호                       주소      상표  \\\n",
       "0   인천광역시                원천제2주유소           인천 계양구 벌말로 295   알뜰주유소   \n",
       "1   인천광역시  현대오일뱅크(주)직영 계양IC셀프주유소  인천 계양구 서부간선로 250  (박촌동)  현대오일뱅크   \n",
       "2   인천광역시                  그린에너지            인천 계양구 솔고개길 2   S-OIL   \n",
       "3   인천광역시                  박촌주유소    인천 계양구 장제로 1021 (박촌동)  현대오일뱅크   \n",
       "4   인천광역시          서일석유(주) 갈현주유소    인천 계양구  드림로 764 (갈현동)   GS칼텍스   \n",
       "..    ...                    ...                      ...     ...   \n",
       "22  인천광역시                  세광주유소       인천 강화군 선원면 중앙로 205   S-OIL   \n",
       "23  인천광역시                  한국주유소       인천 강화군 선원면 중앙로 445    자가상표   \n",
       "24  인천광역시                  교동주유소    인천 강화군 교동면 대룡안길54번길 5   GS칼텍스   \n",
       "25  인천광역시               백마외포리주유소      인천 강화군 내가면 중앙로 1301   S-OIL   \n",
       "26  인천광역시                  양갑주유소      인천 강화군 교동면 교동서로 274   SK에너지   \n",
       "\n",
       "            전화번호 셀프여부 고급휘발유   휘발유    경유  실내등유  군/구  \n",
       "0   032-555-9143    Y     -  1573  1835     -  계양구  \n",
       "1   032-552-5185    Y  1999  1583  1864     -  계양구  \n",
       "2   032-584-5189    N     -  1584  1864  1650  계양구  \n",
       "3   032-519-9922    Y     -  1585  1856     -  계양구  \n",
       "4   032-513-8903    N     -  1595  1865     -  계양구  \n",
       "..           ...  ...   ...   ...   ...   ...  ...  \n",
       "22  032-934-1235    N     -  1699  1899  1550  강화군  \n",
       "23  032-933-8700    N     -  1719  1899  1600  강화군  \n",
       "24  032-932-5039    N     -  1720  1995  1600  강화군  \n",
       "25  032-933-8155    N     -  1790  1998  1690  강화군  \n",
       "26  032-933-8126    N     -  1795  1990  1695  강화군  \n",
       "\n",
       "[316 rows x 11 columns]"
      ]
     },
     "execution_count": 4,
     "metadata": {},
     "output_type": "execute_result"
    }
   ],
   "source": [
    "# 가격이 '-'인 부분 처리\n",
    "stations = stations.query(\"휘발유 != '-'\").copy()\n",
    "stations = stations.query(\"경유 != '-'\").copy()\n",
    "\n",
    "stations"
   ]
  },
  {
   "cell_type": "code",
   "execution_count": 5,
   "metadata": {
    "pycharm": {
     "name": "#%%\n"
    }
   },
   "outputs": [],
   "source": [
    "# 휘발유 가격 처리\n",
    "gasoline_list = []\n",
    "for price in stations['휘발유']:\n",
    "    price_new = int(price)\n",
    "    gasoline_list.append(price_new)\n",
    "\n",
    "# 경유 가격 처리\n",
    "diesel_list = []\n",
    "for price in stations['경유']:\n",
    "    price_new = int(price)\n",
    "    diesel_list.append(price_new)"
   ]
  },
  {
   "cell_type": "markdown",
   "metadata": {
    "pycharm": {
     "name": "#%% md\n"
    }
   },
   "source": [
    "### columns에 가격과 종류 추가하기\n",
    "- 위에서 변환 완료된 list를 이용해 각각의 DataFrame으로 변환\n",
    "- 우리가 원하는 column만 가져온 후, 가격과 종류를 추가\n",
    "- 모두 추가를 하였다면 concat을 활용해 DataFrame을 하나로 합침"
   ]
  },
  {
   "cell_type": "code",
   "execution_count": 6,
   "metadata": {
    "pycharm": {
     "name": "#%%\n"
    }
   },
   "outputs": [],
   "source": [
    "# 휘발유와 경유 각각 가격 처리 후 DataFrame으로 변환.\n",
    "gasoline_df = pd.DataFrame(gasoline_list)\n",
    "diesel_df = pd.DataFrame(diesel_list)"
   ]
  },
  {
   "cell_type": "code",
   "execution_count": 7,
   "metadata": {
    "pycharm": {
     "name": "#%%\n"
    }
   },
   "outputs": [],
   "source": [
    "# 변환된 DataFrame을 추가해 휘발유/경유 정보를 담은 DataFrame을 각각 생성 후 concat을 이용해 합치기\n",
    "stations_gasolie = stations.loc[:, ['상호', '주소', '상표', '셀프여부', '군/구']]\n",
    "stations_gasolie['가격'] = gasoline_df\n",
    "stations_gasolie['종류'] = '휘발유'\n",
    "\n",
    "stations_diesel = stations.loc[:, ['상호', '주소', '상표', '셀프여부', '군/구']]\n",
    "stations_diesel['가격'] = diesel_df\n",
    "stations_diesel['종류'] = '경유'\n",
    "\n",
    "stations_sel = pd.concat([stations_gasolie, stations_diesel])"
   ]
  },
  {
   "cell_type": "markdown",
   "metadata": {
    "pycharm": {
     "name": "#%% md\n"
    }
   },
   "source": [
    "### 과제 이미지와 동일하게 column 위치와 이름 변경 및 index 설정"
   ]
  },
  {
   "cell_type": "code",
   "execution_count": 8,
   "metadata": {
    "pycharm": {
     "name": "#%%\n"
    }
   },
   "outputs": [
    {
     "data": {
      "text/html": [
       "<div>\n",
       "<style scoped>\n",
       "    .dataframe tbody tr th:only-of-type {\n",
       "        vertical-align: middle;\n",
       "    }\n",
       "\n",
       "    .dataframe tbody tr th {\n",
       "        vertical-align: top;\n",
       "    }\n",
       "\n",
       "    .dataframe thead th {\n",
       "        text-align: right;\n",
       "    }\n",
       "</style>\n",
       "<table border=\"1\" class=\"dataframe\">\n",
       "  <thead>\n",
       "    <tr style=\"text-align: right;\">\n",
       "      <th></th>\n",
       "      <th>주유소</th>\n",
       "      <th>주소</th>\n",
       "      <th>셀프여부</th>\n",
       "      <th>가격</th>\n",
       "      <th>종류</th>\n",
       "      <th>군/구</th>\n",
       "    </tr>\n",
       "    <tr>\n",
       "      <th>상표</th>\n",
       "      <th></th>\n",
       "      <th></th>\n",
       "      <th></th>\n",
       "      <th></th>\n",
       "      <th></th>\n",
       "      <th></th>\n",
       "    </tr>\n",
       "  </thead>\n",
       "  <tbody>\n",
       "    <tr>\n",
       "      <th>알뜰주유소</th>\n",
       "      <td>원천제2주유소</td>\n",
       "      <td>인천 계양구 벌말로 295</td>\n",
       "      <td>Y</td>\n",
       "      <td>1573</td>\n",
       "      <td>휘발유</td>\n",
       "      <td>계양구</td>\n",
       "    </tr>\n",
       "    <tr>\n",
       "      <th>현대오일뱅크</th>\n",
       "      <td>현대오일뱅크(주)직영 계양IC셀프주유소</td>\n",
       "      <td>인천 계양구 서부간선로 250  (박촌동)</td>\n",
       "      <td>Y</td>\n",
       "      <td>1583</td>\n",
       "      <td>휘발유</td>\n",
       "      <td>계양구</td>\n",
       "    </tr>\n",
       "    <tr>\n",
       "      <th>S-OIL</th>\n",
       "      <td>그린에너지</td>\n",
       "      <td>인천 계양구 솔고개길 2</td>\n",
       "      <td>N</td>\n",
       "      <td>1584</td>\n",
       "      <td>휘발유</td>\n",
       "      <td>계양구</td>\n",
       "    </tr>\n",
       "    <tr>\n",
       "      <th>현대오일뱅크</th>\n",
       "      <td>박촌주유소</td>\n",
       "      <td>인천 계양구 장제로 1021 (박촌동)</td>\n",
       "      <td>Y</td>\n",
       "      <td>1585</td>\n",
       "      <td>휘발유</td>\n",
       "      <td>계양구</td>\n",
       "    </tr>\n",
       "    <tr>\n",
       "      <th>GS칼텍스</th>\n",
       "      <td>서일석유(주) 갈현주유소</td>\n",
       "      <td>인천 계양구  드림로 764 (갈현동)</td>\n",
       "      <td>N</td>\n",
       "      <td>1595</td>\n",
       "      <td>휘발유</td>\n",
       "      <td>계양구</td>\n",
       "    </tr>\n",
       "    <tr>\n",
       "      <th>...</th>\n",
       "      <td>...</td>\n",
       "      <td>...</td>\n",
       "      <td>...</td>\n",
       "      <td>...</td>\n",
       "      <td>...</td>\n",
       "      <td>...</td>\n",
       "    </tr>\n",
       "    <tr>\n",
       "      <th>S-OIL</th>\n",
       "      <td>세광주유소</td>\n",
       "      <td>인천 강화군 선원면 중앙로 205</td>\n",
       "      <td>N</td>\n",
       "      <td>1885</td>\n",
       "      <td>경유</td>\n",
       "      <td>강화군</td>\n",
       "    </tr>\n",
       "    <tr>\n",
       "      <th>자가상표</th>\n",
       "      <td>한국주유소</td>\n",
       "      <td>인천 강화군 선원면 중앙로 445</td>\n",
       "      <td>N</td>\n",
       "      <td>1887</td>\n",
       "      <td>경유</td>\n",
       "      <td>강화군</td>\n",
       "    </tr>\n",
       "    <tr>\n",
       "      <th>GS칼텍스</th>\n",
       "      <td>교동주유소</td>\n",
       "      <td>인천 강화군 교동면 대룡안길54번길 5</td>\n",
       "      <td>N</td>\n",
       "      <td>1895</td>\n",
       "      <td>경유</td>\n",
       "      <td>강화군</td>\n",
       "    </tr>\n",
       "    <tr>\n",
       "      <th>S-OIL</th>\n",
       "      <td>백마외포리주유소</td>\n",
       "      <td>인천 강화군 내가면 중앙로 1301</td>\n",
       "      <td>N</td>\n",
       "      <td>1885</td>\n",
       "      <td>경유</td>\n",
       "      <td>강화군</td>\n",
       "    </tr>\n",
       "    <tr>\n",
       "      <th>SK에너지</th>\n",
       "      <td>양갑주유소</td>\n",
       "      <td>인천 강화군 교동면 교동서로 274</td>\n",
       "      <td>N</td>\n",
       "      <td>1885</td>\n",
       "      <td>경유</td>\n",
       "      <td>강화군</td>\n",
       "    </tr>\n",
       "  </tbody>\n",
       "</table>\n",
       "<p>632 rows × 6 columns</p>\n",
       "</div>"
      ],
      "text/plain": [
       "                          주유소                       주소 셀프여부    가격   종류  군/구\n",
       "상표                                                                         \n",
       "알뜰주유소                 원천제2주유소           인천 계양구 벌말로 295    Y  1573  휘발유  계양구\n",
       "현대오일뱅크  현대오일뱅크(주)직영 계양IC셀프주유소  인천 계양구 서부간선로 250  (박촌동)    Y  1583  휘발유  계양구\n",
       "S-OIL                   그린에너지            인천 계양구 솔고개길 2    N  1584  휘발유  계양구\n",
       "현대오일뱅크                  박촌주유소    인천 계양구 장제로 1021 (박촌동)    Y  1585  휘발유  계양구\n",
       "GS칼텍스           서일석유(주) 갈현주유소    인천 계양구  드림로 764 (갈현동)    N  1595  휘발유  계양구\n",
       "...                       ...                      ...  ...   ...  ...  ...\n",
       "S-OIL                   세광주유소       인천 강화군 선원면 중앙로 205    N  1885   경유  강화군\n",
       "자가상표                    한국주유소       인천 강화군 선원면 중앙로 445    N  1887   경유  강화군\n",
       "GS칼텍스                   교동주유소    인천 강화군 교동면 대룡안길54번길 5    N  1895   경유  강화군\n",
       "S-OIL                백마외포리주유소      인천 강화군 내가면 중앙로 1301    N  1885   경유  강화군\n",
       "SK에너지                   양갑주유소      인천 강화군 교동면 교동서로 274    N  1885   경유  강화군\n",
       "\n",
       "[632 rows x 6 columns]"
      ]
     },
     "execution_count": 8,
     "metadata": {},
     "output_type": "execute_result"
    }
   ],
   "source": [
    "stations_sel = pd.DataFrame(stations_sel, columns=['상호', '주소', '상표', '셀프여부', '가격', '종류', '군/구'], )\n",
    "\n",
    "stations_sel.columns = ['주유소', '주소', '상표', '셀프여부', '가격', '종류', '군/구']\n",
    "stations_set_index = stations_sel.set_index('상표')\n",
    "\n",
    "stations_set_index"
   ]
  },
  {
   "cell_type": "markdown",
   "metadata": {
    "pycharm": {
     "name": "#%% md\n"
    }
   },
   "source": [
    "### 그래프 그리기에 사용할 matplotlib 설정"
   ]
  },
  {
   "cell_type": "code",
   "execution_count": 9,
   "metadata": {
    "pycharm": {
     "name": "#%%\n"
    }
   },
   "outputs": [
    {
     "data": {
      "text/plain": [
       "<Figure size 864x576 with 0 Axes>"
      ]
     },
     "execution_count": 9,
     "metadata": {},
     "output_type": "execute_result"
    },
    {
     "data": {
      "text/plain": [
       "<Figure size 864x576 with 0 Axes>"
      ]
     },
     "metadata": {},
     "output_type": "display_data"
    }
   ],
   "source": [
    "plt.rc('font', family = \"Malgun Gothic\")\n",
    "plt.rcParams['axes.unicode_minus'] = False\n",
    "plt.style.use(\"ggplot\")\n",
    "\n",
    "plt.figure(figsize=(12, 8))"
   ]
  },
  {
   "cell_type": "markdown",
   "metadata": {
    "pycharm": {
     "name": "#%% md\n"
    }
   },
   "source": [
    "### 그래프 1) x축: 종류, y축: 가격, 색상: 셀프 여부\n",
    "\n",
    "- 해석\n",
    "    - 휘발유과 경유 각각에서 셀프 여부에 따른 가격 차이는 심하지 않다.\n",
    "    - 휘발유와 경유 가격은 대략 250원 정도의 차이를 보인다."
   ]
  },
  {
   "cell_type": "code",
   "execution_count": 10,
   "metadata": {
    "pycharm": {
     "name": "#%%\n"
    }
   },
   "outputs": [
    {
     "data": {
      "image/png": "[encoded data removed]",
      "text/plain": [
       "<Figure size 432x288 with 1 Axes>"
      ]
     },
     "metadata": {},
     "output_type": "display_data"
    }
   ],
   "source": [
    "sns.boxplot(x=\"종류\", y=\"가격\", hue=\"셀프여부\", data=stations_sel, palette=\"Set3\")\n",
    "plt.show()"
   ]
  },
  {
   "cell_type": "markdown",
   "metadata": {
    "pycharm": {
     "name": "#%% md\n"
    }
   },
   "source": [
    "### 그래프 2) x축: 상표, y축: 가격, 색상: 종류\n",
    "\n",
    "- 해석\n",
    "    - 알뜰주유소의 휘발유와 경유 가격이 다른 상표의 가격보다 낮다.\n",
    "        - 휘발유와 경유 모두 중앙값을 기준으로 다른 상표에 비해 낮은 가격을 형성하고 있다는 것을 알 수 있다.\n",
    "    - 상표가 있는 주유소와 달리 자가 상표로 영업하는 주유소의 개수가 확연히 적다."
   ]
  },
  {
   "cell_type": "code",
   "execution_count": 11,
   "metadata": {
    "pycharm": {
     "name": "#%%\n"
    }
   },
   "outputs": [
    {
     "data": {
      "image/png": "[encoded data removed]",
      "text/plain": [
       "<Figure size 432x288 with 1 Axes>"
      ]
     },
     "metadata": {},
     "output_type": "display_data"
    }
   ],
   "source": [
    "sns.boxplot(x=\"상표\", y=\"가격\", hue=\"종류\", data=stations_sel, palette=\"summer\")\n",
    "plt.show()"
   ]
  },
  {
   "cell_type": "markdown",
   "metadata": {
    "pycharm": {
     "name": "#%% md\n"
    }
   },
   "source": [
    "### 그래프 3) x축: 군/구, y축: 가격, 색상: 종류\n",
    "\n",
    "- 해석\n",
    "    - 남구의 경우, 미추홀구로 이름이 변경되어 아직 주소명이 바뀌지 않은 곳의 값만 출력되어있다.\n",
    "    - 남구를 제외하고 동구와 옹진군의 주유소의 수가 적다는 것을 확인할 수 있다."
   ]
  },
  {
   "cell_type": "code",
   "execution_count": 12,
   "metadata": {
    "pycharm": {
     "name": "#%%\n"
    }
   },
   "outputs": [
    {
     "data": {
      "image/png": "[encoded data removed]",
      "text/plain": [
       "<Figure size 432x288 with 1 Axes>"
      ]
     },
     "metadata": {},
     "output_type": "display_data"
    }
   ],
   "source": [
    "sns.boxplot(x=\"군/구\", y=\"가격\", hue=\"종류\", data=stations_sel, palette=\"summer\")\n",
    "plt.show()"
   ]
  },
  {
   "cell_type": "code",
   "execution_count": null,
   "metadata": {},
   "outputs": [],
   "source": []
  }
 ],
 "metadata": {
  "kernelspec": {
   "display_name": "Python 3 (ipykernel)",
   "language": "python",
   "name": "python3"
  },
  "language_info": {
   "codemirror_mode": {
    "name": "ipython",
    "version": 3
   },
   "file_extension": ".py",
   "mimetype": "text/x-python",
   "name": "python",
   "nbconvert_exporter": "python",
   "pygments_lexer": "ipython3",
   "version": "3.9.12"
  }
 },
 "nbformat": 4,
 "nbformat_minor": 1
}
