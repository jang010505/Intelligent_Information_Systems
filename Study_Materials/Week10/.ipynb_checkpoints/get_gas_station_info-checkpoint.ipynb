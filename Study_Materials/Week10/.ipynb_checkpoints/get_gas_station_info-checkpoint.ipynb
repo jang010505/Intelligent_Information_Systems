{
 "cells": [
  {
   "cell_type": "markdown",
   "id": "3addfe3f",
   "metadata": {},
   "source": [
    "# 202001549 장희권"
   ]
  },
  {
   "cell_type": "code",
   "execution_count": 6,
   "id": "80fd8f5b",
   "metadata": {},
   "outputs": [],
   "source": [
    "from selenium import webdriver\n",
    "from selenium.webdriver.chrome.options import Options\n",
    "from tqdm.notebook import tqdm\n",
    "import time\n",
    "\n",
    "opts = Options()\n",
    "opts.add_experimental_option(\"prefs\", {\"download.default_directory\": 'C:\\\\Users\\\\82107\\\\Develop\\\\dataScience\\\\지능정보시스템\\\\Study_Materials\\\\Week10'})"
   ]
  },
  {
   "cell_type": "code",
   "execution_count": 7,
   "id": "aa880faa",
   "metadata": {},
   "outputs": [],
   "source": [
    "driver = webdriver.Chrome(r\"../chromedriver.exe\", options=opts)\n",
    "main_url = \"http://www.opinet.co.kr/user/main/mainView.do\"\n",
    "driver.get(main_url)"
   ]
  },
  {
   "cell_type": "code",
   "execution_count": 8,
   "id": "91354be9",
   "metadata": {},
   "outputs": [],
   "source": [
    "url = \"https://www.opinet.co.kr/searRgSelect.do\"\n",
    "driver.get(url)"
   ]
  },
  {
   "cell_type": "code",
   "execution_count": 9,
   "id": "8cb71676",
   "metadata": {},
   "outputs": [],
   "source": [
    "city_path = '//*[@id=\"SIDO_NM0\"]'\n",
    "driver.find_element_by_xpath(city_path).send_keys(\"인천\")"
   ]
  },
  {
   "cell_type": "code",
   "execution_count": 10,
   "id": "43f35f99",
   "metadata": {},
   "outputs": [
    {
     "name": "stdout",
     "output_type": "stream",
     "text": [
      "['강화군', '계양구', '남동구', '동구', '미추홀구', '부평구', '서구', '연수구', '옹진군', '중구']\n"
     ]
    }
   ],
   "source": [
    "gu_names = []\n",
    "gu_path = '//*[@id=\"SIGUNGU_NM0\"]'\n",
    "gu_list_raw = driver.find_element_by_xpath(gu_path)\n",
    "gu_list = gu_list_raw.find_elements_by_tag_name(\"option\")\n",
    "\n",
    "for g in gu_list[i]:\n",
    "    gu_names.append(g)\n",
    "\n",
    "print(gu_names)"
   ]
  },
  {
   "cell_type": "code",
   "execution_count": 11,
   "id": "da7315ba",
   "metadata": {},
   "outputs": [
    {
     "data": {
      "application/vnd.jupyter.widget-view+json": {
       "model_id": "e9f4e37c7f874712a332b6a26f4c2550",
       "version_major": 2,
       "version_minor": 0
      },
      "text/plain": [
       "  0%|          | 0/10 [00:00<?, ?it/s]"
      ]
     },
     "metadata": {},
     "output_type": "display_data"
    },
    {
     "name": "stdout",
     "output_type": "stream",
     "text": [
      "강화군\n",
      "계양구\n",
      "남동구\n",
      "동구\n",
      "미추홀구\n",
      "부평구\n",
      "서구\n",
      "연수구\n",
      "옹진군\n",
      "중구\n"
     ]
    }
   ],
   "source": [
    "for g in tqdm(gu_names):\n",
    "    print(g)\n",
    "\n",
    "    gu_xpath = '//*[@id=\"SIGUNGU_NM0\"]'\n",
    "    driver.find_element_by_xpath(gu_xpath).send_keys(g)\n",
    "    time.sleep(3)\n",
    "\n",
    "    search_button = '//*[@id=\"searRgSelect\"]'\n",
    "    driver.find_element_by_xpath(search_button).click()\n",
    "    time.sleep(3)\n",
    "\n",
    "    save_excel_button = '//*[@id=\"glopopd_excel\"]'\n",
    "    driver.find_element_by_xpath(save_excel_button).click()\n",
    "    time.sleep(3)"
   ]
  },
  {
   "cell_type": "markdown",
   "id": "77029aff",
   "metadata": {},
   "source": [
    "# 202001549 장희권"
   ]
  }
 ],
 "metadata": {
  "kernelspec": {
   "display_name": "Python 3",
   "language": "python",
   "name": "python3"
  },
  "language_info": {
   "codemirror_mode": {
    "name": "ipython",
    "version": 3
   },
   "file_extension": ".py",
   "mimetype": "text/x-python",
   "name": "python",
   "nbconvert_exporter": "python",
   "pygments_lexer": "ipython3",
   "version": "3.8.5"
  }
 },
 "nbformat": 4,
 "nbformat_minor": 5
}
