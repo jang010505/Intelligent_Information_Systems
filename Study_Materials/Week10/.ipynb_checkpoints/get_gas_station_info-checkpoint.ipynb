{
 "cells": [
  {
   "cell_type": "markdown",
   "id": "3addfe3f",
   "metadata": {},
   "source": [
    "# 202001549 장희권"
   ]
  },
  {
   "cell_type": "code",
   "execution_count": 1,
   "id": "42c4cae9",
   "metadata": {},
   "outputs": [
    {
     "data": {
      "text/plain": [
       "'C:\\\\Users\\\\82107\\\\Develop\\\\dataScience\\\\지능정보시스템\\\\Study_Materials\\\\Week10'"
      ]
     },
     "execution_count": 1,
     "metadata": {},
     "output_type": "execute_result"
    }
   ],
   "source": [
    "%pwd"
   ]
  },
  {
   "cell_type": "code",
   "execution_count": 2,
   "id": "80fd8f5b",
   "metadata": {},
   "outputs": [],
   "source": [
    "from selenium import webdriver\n",
    "from selenium.webdriver.chrome.options import Options\n",
    "\n",
    "opts = Options()\n",
    "opts.add_experimental_option(\"prefs\", {\"download.default_directory\": 'C:\\\\Users\\\\82107\\\\Develop\\\\dataScience\\\\지능정보시스템\\\\Study_Materials\\\\Week10'})"
   ]
  },
  {
   "cell_type": "code",
   "execution_count": 3,
   "id": "aa880faa",
   "metadata": {},
   "outputs": [],
   "source": [
    "driver = webdriver.Chrome(r\"../chromedriver.exe\")\n",
    "main_url = \"http://www.opinet.co.kr/user/main/mainView.do\"\n",
    "driver.get(main_url)"
   ]
  },
  {
   "cell_type": "code",
   "execution_count": 4,
   "id": "91354be9",
   "metadata": {},
   "outputs": [],
   "source": [
    "url = \"https://www.opinet.co.kr/searRgSelect.do\"\n",
    "driver.get(url)"
   ]
  },
  {
   "cell_type": "code",
   "execution_count": 5,
   "id": "896dd266",
   "metadata": {},
   "outputs": [],
   "source": [
    "city_path = '//*[@id=\"SIDO_NM0\"]'\n",
    "driver.find_element_by_xpath(city_path).send_keys(\"인천\")"
   ]
  },
  {
   "cell_type": "code",
   "execution_count": 6,
   "id": "61958dee",
   "metadata": {},
   "outputs": [],
   "source": [
    "gu_path = '//*[@id=\"SIGUNGU_NM0\"]'\n",
    "driver.find_element_by_xpath(gu_path).send_keys(\"연수구\")"
   ]
  },
  {
   "cell_type": "code",
   "execution_count": 7,
   "id": "6164abd5",
   "metadata": {},
   "outputs": [],
   "source": [
    "search_button = '//*[@id=\"searRgSelect\"]'\n",
    "driver.find_element_by_xpath(search_button).click()"
   ]
  },
  {
   "cell_type": "code",
   "execution_count": 8,
   "id": "53fef9be",
   "metadata": {},
   "outputs": [],
   "source": [
    "save_excel_button = '//*[@id=\"glopopd_excel\"]'\n",
    "driver.find_element_by_xpath(save_excel_button).click()"
   ]
  },
  {
   "cell_type": "markdown",
   "id": "77029aff",
   "metadata": {},
   "source": [
    "# 202001549 장희권"
   ]
  }
 ],
 "metadata": {
  "kernelspec": {
   "display_name": "Python 3",
   "language": "python",
   "name": "python3"
  },
  "language_info": {
   "codemirror_mode": {
    "name": "ipython",
    "version": 3
   },
   "file_extension": ".py",
   "mimetype": "text/x-python",
   "name": "python",
   "nbconvert_exporter": "python",
   "pygments_lexer": "ipython3",
   "version": "3.8.5"
  }
 },
 "nbformat": 4,
 "nbformat_minor": 5
}
