{
 "cells": [
  {
   "cell_type": "markdown",
   "id": "3addfe3f",
   "metadata": {},
   "source": [
    "# 202001549 장희권"
   ]
  },
  {
   "cell_type": "code",
   "execution_count": 25,
   "id": "80fd8f5b",
   "metadata": {},
   "outputs": [],
   "source": [
    "from selenium import webdriver\n",
    "\n",
    "opts = webdriver.ChromeOptions()\n",
    "opts.add_experimental_option('prefs', {\n",
    "    \"download.default_directory\" : \"./\"\n",
    "})"
   ]
  },
  {
   "cell_type": "code",
   "execution_count": 28,
   "id": "aa880faa",
   "metadata": {},
   "outputs": [],
   "source": [
    "driver = webdriver.Chrome(r\"../chromedriver.exe\")\n",
    "main_url = \"http://www.opinet.co.kr/user/main/mainView.do\"\n",
    "driver.get(main_url)"
   ]
  },
  {
   "cell_type": "code",
   "execution_count": 29,
   "id": "91354be9",
   "metadata": {},
   "outputs": [],
   "source": [
    "url = \"https://www.opinet.co.kr/searRgSelect.do\"\n",
    "driver.get(url)"
   ]
  },
  {
   "cell_type": "code",
   "execution_count": 30,
   "id": "896dd266",
   "metadata": {},
   "outputs": [],
   "source": [
    "city_path = '//*[@id=\"SIDO_NM0\"]'\n",
    "driver.find_element_by_xpath(city_path).send_keys(\"인천\")"
   ]
  },
  {
   "cell_type": "code",
   "execution_count": 31,
   "id": "61958dee",
   "metadata": {},
   "outputs": [],
   "source": [
    "gu_path = '//*[@id=\"SIGUNGU_NM0\"]'\n",
    "driver.find_element_by_xpath(gu_path).send_keys(\"인천\")"
   ]
  },
  {
   "cell_type": "code",
   "execution_count": 32,
   "id": "6164abd5",
   "metadata": {},
   "outputs": [],
   "source": [
    "search_button = '//*[@id=\"searRgSelect\"]'\n",
    "driver.find_element_by_xpath(search_button).click()"
   ]
  },
  {
   "cell_type": "code",
   "execution_count": 33,
   "id": "53fef9be",
   "metadata": {},
   "outputs": [],
   "source": [
    "save_excel_button = '//*[@id=\"glopopd_excel\"]'\n",
    "driver.find_element_by_xpath(save_excel_button).click()"
   ]
  },
  {
   "cell_type": "markdown",
   "id": "77029aff",
   "metadata": {},
   "source": [
    "# 202001549 장희권"
   ]
  }
 ],
 "metadata": {
  "kernelspec": {
   "display_name": "Python 3",
   "language": "python",
   "name": "python3"
  },
  "language_info": {
   "codemirror_mode": {
    "name": "ipython",
    "version": 3
   },
   "file_extension": ".py",
   "mimetype": "text/x-python",
   "name": "python",
   "nbconvert_exporter": "python",
   "pygments_lexer": "ipython3",
   "version": "3.8.5"
  }
 },
 "nbformat": 4,
 "nbformat_minor": 5
}
