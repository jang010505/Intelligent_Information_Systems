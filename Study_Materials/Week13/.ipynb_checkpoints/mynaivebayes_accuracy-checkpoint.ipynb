{
 "cells": [
  {
   "cell_type": "markdown",
   "id": "b714c3eb",
   "metadata": {},
   "source": [
    "# 202001549 장희권"
   ]
  },
  {
   "cell_type": "code",
   "execution_count": 10,
   "id": "6b607fe4",
   "metadata": {},
   "outputs": [],
   "source": [
    "import urllib\n",
    "from nltk.tokenize import word_tokenize\n",
    "import nltk\n",
    "from konlpy.tag import Okt\n",
    "import math\n",
    "\n",
    "\n",
    "okt = Okt()"
   ]
  },
  {
   "cell_type": "code",
   "execution_count": 11,
   "id": "6e52ac90",
   "metadata": {},
   "outputs": [
    {
     "data": {
      "text/plain": [
       "('ratings_test.txt', <http.client.HTTPMessage at 0x263ec41dac0>)"
      ]
     },
     "execution_count": 11,
     "metadata": {},
     "output_type": "execute_result"
    }
   ],
   "source": [
    "urllib.request.urlretrieve(\"https://raw.githubusercontent.com/e9t/nsmc/master/ratings_train.txt\", filename=\"ratings_train.txt\")\n",
    "urllib.request.urlretrieve(\"https://raw.githubusercontent.com/e9t/nsmc/master/ratings_test.txt\", filename=\"ratings_test.txt\")"
   ]
  },
  {
   "cell_type": "code",
   "execution_count": 28,
   "id": "ca60d6f4",
   "metadata": {},
   "outputs": [],
   "source": [
    "class MyNaiveBayesClassifier:\n",
    "    def __init__(self, k=0.5, use_morph=False):\n",
    "        self.k = k\n",
    "        self.word_probs = []\n",
    "        self.use_morph = use_morph\n",
    "        \n",
    "        if self.use_morph:\n",
    "            from konlpy.tag import Okt\n",
    "            self.okt = Okt()\n",
    "            \n",
    "    def load_data(self, file_path):\n",
    "        docs = []\n",
    "        labels = []\n",
    "        \n",
    "        count = 0\n",
    "        with open(file_path, 'r', encoding='utf-8') as f:\n",
    "            for line in f.readlines():\n",
    "                if count == 500:\n",
    "                    break\n",
    "                line = line.strip()\n",
    "                id, doc, label = line.split('\\t')\n",
    "                docs.append(doc)\n",
    "                if label == '1': label = 'pos'\n",
    "                elif label == '0': label = 'neg'\n",
    "                labels.append(label)\n",
    "                count += 1\n",
    "            \n",
    "        return docs[1:], labels[1:]\n",
    "    \n",
    "    def tokenize(self, sentence):\n",
    "        if self.use_morph:\n",
    "            pos_sent = []\n",
    "            \n",
    "            sent = self.okt.pos(sentence, norm=True, stem=True)\n",
    "            \n",
    "            for tup in sent:\n",
    "                word, tag = tup\n",
    "                word_tag = word + '/' + tag\n",
    "                pos_sent.append(word_tag)\n",
    "                \n",
    "            sentence = ' '.join(pos_sent)\n",
    "            \n",
    "        return sentence.split()\n",
    "    \n",
    "    def count_words(self, docs, labels):\n",
    "        count_dict = dict()\n",
    "        for doc, label in zip(docs, labels):\n",
    "            for word in self.tokenize(doc):\n",
    "                if word not in count_dict:\n",
    "                    count_dict[word] = {'pos': 0, 'neg':0}\n",
    "                count_dict[word][label] += 1\n",
    "        \n",
    "        print('num of words...', len(count_dict))\n",
    "        return count_dict\n",
    "    \n",
    "    def word_prob(self, count_dict, pos_class_num, neg_class_num, k):\n",
    "        word_prob_list = []\n",
    "        \n",
    "        for word in count_dict:\n",
    "            pos_word_num = count_dict[word]['pos']\n",
    "            neg_word_num = count_dict[word]['neg']\n",
    "            \n",
    "            pos_class_prob = (pos_word_num + k) / (pos_class_num + 2*k)\n",
    "            neg_class_prob = (neg_word_num + k) / (neg_class_num + 2*k)\n",
    "            \n",
    "            tup = (word, pos_class_prob, neg_class_prob)\n",
    "            word_prob_list.append(tup)\n",
    "        \n",
    "        self.word_prob_list = word_prob_list\n",
    "        return word_prob_list\n",
    "    \n",
    "    def class_prob(self, word_prob_list, test_sentence, use_unseen=False):\n",
    "        test_words = self.tokenize(test_sentence)\n",
    "        \n",
    "        sent_log_pos_class_prob, sent_log_neg_class_prob = 0.0, 0.0\n",
    "        \n",
    "        for word, word_pos_class_prob, word_neg_class_prob in word_prob_list:\n",
    "            if word in test_words:\n",
    "                sent_log_pos_class_prob += math.log(word_pos_class_prob) \n",
    "                sent_log_neg_class_prob += math.log(word_neg_class_prob)\n",
    "            else:\n",
    "                if use_unseen:\n",
    "                    sent_log_pos_class_prob += math.log(1-word_pos_class_prob) \n",
    "                    sent_log_neg_class_prob += math.log(1-word_neg_class_prob)\n",
    "            \n",
    "        sent_pos_class_prob = math.exp(sent_log_pos_class_prob)\n",
    "        sent_neg_class_prob = math.exp(sent_log_neg_class_prob)\n",
    "        \n",
    "        pos_class_prob = sent_pos_class_prob/(sent_pos_class_prob+sent_neg_class_prob)\n",
    "        neg_class_prob = sent_neg_class_prob/(sent_pos_class_prob+sent_neg_class_prob)\n",
    "        \n",
    "        return pos_class_prob, neg_class_prob\n",
    "    \n",
    "    def train(self, train_file_path):\n",
    "        train_docs, train_labels = self.load_data(train_file_path)\n",
    "        \n",
    "        word_count_dict = self.count_words(train_docs, train_labels)\n",
    "        \n",
    "        pos_class_num = len([label for label in train_labels if label == 'pos'])\n",
    "        neg_class_num = len([label for label in train_labels if label == 'neg'])\n",
    "        \n",
    "        self.word_probs = self.word_prob(word_count_dict, pos_class_num, neg_class_num, self.k)\n",
    "\n",
    "    def classify(self, test_sentence, use_unseen=False):\n",
    "        pos_class_prob, neg_class_prob = self.class_prob(self.word_prob_list, test_sentence, use_unseen)\n",
    "        \n",
    "        if pos_class_prob > neg_class_prob:\n",
    "            print('pos', pos_class_prob)\n",
    "        else:\n",
    "            print('neg', neg_class_prob)\n",
    "    \n",
    "    def accuracy(self, test_file_path):\n",
    "        test_docs, test_labels = self.load_data(test_file_path)\n",
    "        \n",
    "        total_count = len(test_docs)\n",
    "        count = 0\n",
    "        \n",
    "        for docs, label in zip(test_docs, test_labels):\n",
    "            pos_class_prob, neg_class_prob = self.class_prob(self.word_prob_list, docs, False)\n",
    "            if pos_class_prob < neg_class_prob:\n",
    "                if label == \"neg\":\n",
    "                    count += 1\n",
    "            else:\n",
    "                if label == \"pos\":\n",
    "                    count += 1\n",
    "        \n",
    "        print(\"accuracy: {0:.3f}\".format(count/total_count))"
   ]
  },
  {
   "cell_type": "code",
   "execution_count": 29,
   "id": "cb4c43e8",
   "metadata": {},
   "outputs": [
    {
     "name": "stdout",
     "output_type": "stream",
     "text": [
      "num of words... 3055\n"
     ]
    }
   ],
   "source": [
    "classifier = MyNaiveBayesClassifier(use_morph=False)\n",
    "classifier.train('ratings_train.txt')"
   ]
  },
  {
   "cell_type": "code",
   "execution_count": 30,
   "id": "d29b2dd7",
   "metadata": {},
   "outputs": [
    {
     "name": "stdout",
     "output_type": "stream",
     "text": [
      "accuracy: 0.639\n"
     ]
    }
   ],
   "source": [
    "classifier.accuracy('ratings_test.txt')"
   ]
  },
  {
   "cell_type": "markdown",
   "id": "17f7695d",
   "metadata": {},
   "source": [
    "# 202001549 장희권"
   ]
  }
 ],
 "metadata": {
  "kernelspec": {
   "display_name": "Python 3",
   "language": "python",
   "name": "python3"
  },
  "language_info": {
   "codemirror_mode": {
    "name": "ipython",
    "version": 3
   },
   "file_extension": ".py",
   "mimetype": "text/x-python",
   "name": "python",
   "nbconvert_exporter": "python",
   "pygments_lexer": "ipython3",
   "version": "3.8.5"
  }
 },
 "nbformat": 4,
 "nbformat_minor": 5
}
