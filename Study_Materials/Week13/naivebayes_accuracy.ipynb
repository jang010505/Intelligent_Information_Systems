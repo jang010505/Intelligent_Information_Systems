{
 "cells": [
  {
   "cell_type": "markdown",
   "metadata": {},
   "source": [
    "# 202001549 장희권"
   ]
  },
  {
   "cell_type": "code",
   "execution_count": 23,
   "metadata": {
    "pycharm": {
     "name": "#%%\n"
    }
   },
   "outputs": [],
   "source": [
    "from nltk.tokenize import word_tokenize\n",
    "import nltk\n",
    "\n",
    "from urllib.request import urlretrieve\n",
    "\n",
    "from konlpy.tag import Okt\n",
    "okt = Okt()"
   ]
  },
  {
   "cell_type": "code",
   "execution_count": 24,
   "metadata": {
    "pycharm": {
     "name": "#%%\n"
    }
   },
   "outputs": [
    {
     "name": "stderr",
     "output_type": "stream",
     "text": [
      "[nltk_data] Downloading package punkt to\n",
      "[nltk_data]     C:\\Users\\82107\\AppData\\Roaming\\nltk_data...\n",
      "[nltk_data]   Package punkt is already up-to-date!\n"
     ]
    },
    {
     "data": {
      "text/plain": [
       "True"
      ]
     },
     "execution_count": 24,
     "metadata": {},
     "output_type": "execute_result"
    }
   ],
   "source": [
    "nltk.download('punkt')"
   ]
  },
  {
   "cell_type": "code",
   "execution_count": 25,
   "metadata": {
    "pycharm": {
     "name": "#%%\n"
    }
   },
   "outputs": [],
   "source": [
    "def pos_tokenize(raw_sent):\n",
    "    pos_sent = []\n",
    "\n",
    "    sent = okt.pos(raw_sent, norm=True, stem=True)\n",
    "    for tup in sent:\n",
    "        word, tag = tup\n",
    "        word_tag = word + '/' + tag\n",
    "        pos_sent.append(word_tag)\n",
    "\n",
    "    return ' '.join(pos_sent)"
   ]
  },
  {
   "cell_type": "code",
   "execution_count": 26,
   "metadata": {
    "pycharm": {
     "name": "#%%\n"
    }
   },
   "outputs": [],
   "source": [
    "def load_data(filename, data_count):\n",
    "    train = []\n",
    "    with open(filename, 'r', encoding='utf-8') as f:\n",
    "        count = 0\n",
    "        for line in f.readlines():\n",
    "            if count == data_count:\n",
    "                break\n",
    "            count += 1\n",
    "\n",
    "            line = line.strip()\n",
    "            id, document, label = line.split('\\t')\n",
    "            if label == '1': label = 'pos'\n",
    "            else: label = 'neg'\n",
    "            train_tup = (document, label)\n",
    "            train.append(train_tup)\n",
    "    return train"
   ]
  },
  {
   "cell_type": "code",
   "execution_count": 27,
   "metadata": {
    "pycharm": {
     "name": "#%%\n"
    }
   },
   "outputs": [],
   "source": [
    "def make_word_dict(train, use_morph=False):\n",
    "    all_words = set()\n",
    "\n",
    "    for tup in train:\n",
    "        sent, label = tup\n",
    "        if use_morph: sent = pos_tokenize(sent)\n",
    "        word_list = word_tokenize(sent)\n",
    "        for word in word_list:\n",
    "            all_words.add(word)\n",
    "\n",
    "    return all_words"
   ]
  },
  {
   "cell_type": "code",
   "execution_count": 28,
   "metadata": {
    "pycharm": {
     "name": "#%%\n"
    }
   },
   "outputs": [],
   "source": [
    "def make_train_feats(train, all_words, use_morph=False):\n",
    "    train_features = []\n",
    "\n",
    "    for tup in train:\n",
    "        sent, label = tup\n",
    "        if use_morph: sent = pos_tokenize(sent)\n",
    "        word_list = word_tokenize(sent)\n",
    "        tmp = {set_word: set_word in word_list for set_word in all_words}\n",
    "        train_feature = (tmp, label)\n",
    "        train_features.append(train_feature)\n",
    "\n",
    "    return train_features"
   ]
  },
  {
   "cell_type": "markdown",
   "metadata": {},
   "source": [
    "# count가 500일 때"
   ]
  },
  {
   "cell_type": "code",
   "execution_count": 29,
   "metadata": {
    "pycharm": {
     "name": "#%%\n"
    }
   },
   "outputs": [],
   "source": [
    "date_count = 500\n",
    "train = load_data('ratings_train.txt', date_count)\n",
    "train = train[1:]"
   ]
  },
  {
   "cell_type": "code",
   "execution_count": 30,
   "metadata": {
    "pycharm": {
     "name": "#%%\n"
    }
   },
   "outputs": [],
   "source": [
    "use_morph = True\n",
    "\n",
    "all_words = make_word_dict(train, use_morph)\n",
    "train_features = make_train_feats(train, all_words, use_morph)"
   ]
  },
  {
   "cell_type": "code",
   "execution_count": 31,
   "metadata": {
    "pycharm": {
     "name": "#%%\n"
    }
   },
   "outputs": [
    {
     "name": "stdout",
     "output_type": "stream",
     "text": [
      "Most Informative Features\n",
      "                       ; = True              neg : pos    =      8.2 : 1.0\n",
      "          재미없다/Adjective = True              neg : pos    =      8.2 : 1.0\n",
      "                주인공/Noun = True              neg : pos    =      7.5 : 1.0\n",
      "                 최고/Noun = True              pos : neg    =      6.9 : 1.0\n",
      "                  뭐/Noun = True              neg : pos    =      6.8 : 1.0\n",
      "           재밌다/Adjective = True              pos : neg    =      6.5 : 1.0\n",
      "                 내용/Noun = True              neg : pos    =      6.2 : 1.0\n",
      "       ㅡㅡ/KoreanParticle = True              neg : pos    =      6.1 : 1.0\n",
      "                스토리/Noun = True              neg : pos    =      6.1 : 1.0\n",
      "                 다시/Noun = True              pos : neg    =      5.9 : 1.0\n"
     ]
    }
   ],
   "source": [
    "classifier = nltk.NaiveBayesClassifier.train(train_features)\n",
    "classifier.show_most_informative_features()"
   ]
  },
  {
   "cell_type": "code",
   "execution_count": 34,
   "metadata": {
    "pycharm": {
     "name": "#%%\n"
    }
   },
   "outputs": [
    {
     "data": {
      "text/plain": [
       "0.9579158316633266"
      ]
     },
     "execution_count": 34,
     "metadata": {},
     "output_type": "execute_result"
    }
   ],
   "source": [
    "urlretrieve(\"https://raw.githubusercontent.com/e9t/nsmc/master/\" + \"ratings_test.txt\", \"ratings_test.txt\")\n",
    "\n",
    "# ratings_test.txt를 처리하는 부분 작성\n",
    "test = load_data('ratings_test.txt', date_count)\n",
    "test_feature = make_train_feats(train, all_words, use_morph)\n",
    "nltk.classify.accuracy(classifier, test_feature)"
   ]
  },
  {
   "cell_type": "markdown",
   "metadata": {},
   "source": [
    "# count가 1000일 때"
   ]
  },
  {
   "cell_type": "code",
   "execution_count": 36,
   "metadata": {},
   "outputs": [],
   "source": [
    "date_count = 1000\n",
    "train = load_data('ratings_train.txt', date_count)\n",
    "train = train[1:]"
   ]
  },
  {
   "cell_type": "code",
   "execution_count": 37,
   "metadata": {},
   "outputs": [],
   "source": [
    "use_morph = True\n",
    "\n",
    "all_words = make_word_dict(train, use_morph)\n",
    "train_features = make_train_feats(train, all_words, use_morph)"
   ]
  },
  {
   "cell_type": "code",
   "execution_count": 38,
   "metadata": {},
   "outputs": [
    {
     "name": "stdout",
     "output_type": "stream",
     "text": [
      "Most Informative Features\n",
      "                쓰레기/Noun = True              neg : pos    =     11.9 : 1.0\n",
      "                 인생/Noun = True              pos : neg    =     10.0 : 1.0\n",
      "                 최고/Noun = True              pos : neg    =      9.5 : 1.0\n",
      "           괜찮다/Adjective = True              pos : neg    =      8.6 : 1.0\n",
      "                       ; = True              neg : pos    =      8.3 : 1.0\n",
      "          재미없다/Adjective = True              neg : pos    =      8.1 : 1.0\n",
      "       ㅡㅡ/KoreanParticle = True              neg : pos    =      8.1 : 1.0\n",
      "           아깝다/Adjective = True              neg : pos    =      7.6 : 1.0\n",
      "          지루하다/Adjective = True              neg : pos    =      7.5 : 1.0\n",
      "           재밌다/Adjective = True              pos : neg    =      7.5 : 1.0\n"
     ]
    }
   ],
   "source": [
    "classifier = nltk.NaiveBayesClassifier.train(train_features)\n",
    "classifier.show_most_informative_features()"
   ]
  },
  {
   "cell_type": "code",
   "execution_count": 39,
   "metadata": {},
   "outputs": [
    {
     "data": {
      "text/plain": [
       "0.973973973973974"
      ]
     },
     "execution_count": 39,
     "metadata": {},
     "output_type": "execute_result"
    }
   ],
   "source": [
    "urlretrieve(\"https://raw.githubusercontent.com/e9t/nsmc/master/\" + \"ratings_test.txt\", \"ratings_test.txt\")\n",
    "\n",
    "# ratings_test.txt를 처리하는 부분 작성\n",
    "test = load_data('ratings_test.txt', date_count)\n",
    "test_feature = make_train_feats(train, all_words, use_morph)\n",
    "nltk.classify.accuracy(classifier, test_feature)"
   ]
  },
  {
   "cell_type": "markdown",
   "metadata": {},
   "source": [
    "데이터가 많으면 많을수록 학습량이 커져 정확도가 높아진다."
   ]
  }
 ],
 "metadata": {
  "kernelspec": {
   "display_name": "Python 3",
   "language": "python",
   "name": "python3"
  },
  "language_info": {
   "codemirror_mode": {
    "name": "ipython",
    "version": 3
   },
   "file_extension": ".py",
   "mimetype": "text/x-python",
   "name": "python",
   "nbconvert_exporter": "python",
   "pygments_lexer": "ipython3",
   "version": "3.8.5"
  }
 },
 "nbformat": 4,
 "nbformat_minor": 1
}
