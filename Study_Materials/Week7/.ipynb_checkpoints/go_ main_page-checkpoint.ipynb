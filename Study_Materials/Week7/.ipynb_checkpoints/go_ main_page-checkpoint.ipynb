{
 "cells": [
  {
   "cell_type": "markdown",
   "id": "6958ba7d",
   "metadata": {},
   "source": [
    "# 202001549 장희권"
   ]
  },
  {
   "cell_type": "code",
   "execution_count": 3,
   "id": "d013ec5b",
   "metadata": {},
   "outputs": [],
   "source": [
    "from urllib.request import urlopen\n",
    "from bs4 import BeautifulSoup"
   ]
  },
  {
   "cell_type": "code",
   "execution_count": 14,
   "id": "71313b03",
   "metadata": {
    "scrolled": true
   },
   "outputs": [
    {
     "name": "stdout",
     "output_type": "stream",
     "text": [
      "네이버를 시작페이지로\n"
     ]
    }
   ],
   "source": [
    "url = \"https://www.naver.com\"\n",
    "html = urlopen(url)\n",
    "\n",
    "soup = BeautifulSoup(html.read(), \"html.parser\")\n",
    "\n",
    "result = soup.find(\"a\", {\"id\" : \"NM_set_home_btn\"})\n",
    "print(result.text)"
   ]
  },
  {
   "cell_type": "markdown",
   "id": "c49a39c9",
   "metadata": {},
   "source": [
    "# 202001549 장희권"
   ]
  }
 ],
 "metadata": {
  "kernelspec": {
   "display_name": "Python 3",
   "language": "python",
   "name": "python3"
  },
  "language_info": {
   "codemirror_mode": {
    "name": "ipython",
    "version": 3
   },
   "file_extension": ".py",
   "mimetype": "text/x-python",
   "name": "python",
   "nbconvert_exporter": "python",
   "pygments_lexer": "ipython3",
   "version": "3.8.5"
  }
 },
 "nbformat": 4,
 "nbformat_minor": 5
}
