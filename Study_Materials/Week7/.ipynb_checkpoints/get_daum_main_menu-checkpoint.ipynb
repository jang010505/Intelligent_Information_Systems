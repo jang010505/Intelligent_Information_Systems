{
 "cells": [
  {
   "cell_type": "markdown",
   "id": "b4e8bbcf",
   "metadata": {},
   "source": [
    "# 202001549 장희권"
   ]
  },
  {
   "cell_type": "code",
   "execution_count": 16,
   "id": "4cf6f9c1",
   "metadata": {},
   "outputs": [],
   "source": [
    "from urllib.request import urlopen\n",
    "from bs4 import BeautifulSoup"
   ]
  },
  {
   "cell_type": "code",
   "execution_count": 17,
   "id": "1e3fdec6",
   "metadata": {},
   "outputs": [],
   "source": [
    "url = \"https://www.naver.com\"\n",
    "html = urlopen(url)\n",
    "soup = BeautifulSoup(html.read(), \"html.parser\")"
   ]
  },
  {
   "cell_type": "code",
   "execution_count": 47,
   "id": "42c24bd8",
   "metadata": {},
   "outputs": [],
   "source": [
    "result = soup.find(\"div\", {\"class\" : \"thumb_area\"})\n",
    "div_result = result.find_all(\"img\")"
   ]
  },
  {
   "cell_type": "code",
   "execution_count": 51,
   "id": "3cc7ed90",
   "metadata": {},
   "outputs": [
    {
     "name": "stdout",
     "output_type": "stream",
     "text": [
      "조선일보\n",
      "시사인\n",
      "아시아경제\n",
      "중앙일보\n",
      "코리아헤럴드\n",
      "스포츠조선\n",
      "한국경제TV\n",
      "연합뉴스TV\n",
      "조선비즈\n",
      "지지통신\n",
      "이데일리\n",
      "한국경제\n",
      "프레시안\n",
      "KBS\n",
      "YTN\n",
      "제주의소리\n",
      "경인일보\n",
      "전북일보\n",
      "뉴스클레임\n",
      "비즈니스포스트\n",
      "여성신문\n",
      "KBC광주방송\n",
      "일요신문\n",
      "스포츠춘추\n"
     ]
    }
   ],
   "source": [
    "for div in div_result:\n",
    "    print(div.get(\"alt\"))"
   ]
  },
  {
   "cell_type": "markdown",
   "id": "b3e9e3ff",
   "metadata": {},
   "source": [
    "# 202001549 장희권"
   ]
  }
 ],
 "metadata": {
  "kernelspec": {
   "display_name": "Python 3",
   "language": "python",
   "name": "python3"
  },
  "language_info": {
   "codemirror_mode": {
    "name": "ipython",
    "version": 3
   },
   "file_extension": ".py",
   "mimetype": "text/x-python",
   "name": "python",
   "nbconvert_exporter": "python",
   "pygments_lexer": "ipython3",
   "version": "3.8.5"
  }
 },
 "nbformat": 4,
 "nbformat_minor": 5
}
