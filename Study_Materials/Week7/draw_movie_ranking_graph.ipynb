{
 "cells": [
  {
   "cell_type": "code",
   "execution_count": 1,
   "outputs": [],
   "source": [
    "import pandas as pd"
   ],
   "metadata": {
    "collapsed": false,
    "pycharm": {
     "name": "#%%\n"
    }
   }
  },
  {
   "cell_type": "code",
   "execution_count": 2,
   "outputs": [
    {
     "data": {
      "text/plain": "DatetimeIndex(['2020-10-01', '2020-10-02', '2020-10-03', '2020-10-04',\n               '2020-10-05', '2020-10-06', '2020-10-07', '2020-10-08',\n               '2020-10-09', '2020-10-10',\n               ...\n               '2022-10-10', '2022-10-11', '2022-10-12', '2022-10-13',\n               '2022-10-14', '2022-10-15', '2022-10-16', '2022-10-17',\n               '2022-10-18', '2022-10-19'],\n              dtype='datetime64[ns]', length=749, freq='D')"
     },
     "execution_count": 2,
     "metadata": {},
     "output_type": "execute_result"
    }
   ],
   "source": [
    "pd.date_range(start=\"10/01/2020\", end=\"10/19/2022\")"
   ],
   "metadata": {
    "collapsed": false,
    "pycharm": {
     "name": "#%%\n"
    }
   }
  }
 ],
 "metadata": {
  "kernelspec": {
   "display_name": "Python 3",
   "language": "python",
   "name": "python3"
  },
  "language_info": {
   "codemirror_mode": {
    "name": "ipython",
    "version": 2
   },
   "file_extension": ".py",
   "mimetype": "text/x-python",
   "name": "python",
   "nbconvert_exporter": "python",
   "pygments_lexer": "ipython2",
   "version": "2.7.6"
  }
 },
 "nbformat": 4,
 "nbformat_minor": 0
}