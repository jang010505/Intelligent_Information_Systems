{
 "cells": [
  {
   "cell_type": "markdown",
   "metadata": {},
   "source": [
    "# 202001549 장희권"
   ]
  },
  {
   "cell_type": "code",
   "execution_count": 1,
   "metadata": {
    "pycharm": {
     "name": "#%%\n"
    }
   },
   "outputs": [],
   "source": [
    "from konlpy.tag import Hannanum, Kkma, Komoran, Okt\n",
    "\n",
    "import time"
   ]
  },
  {
   "cell_type": "code",
   "execution_count": 2,
   "metadata": {
    "pycharm": {
     "name": "#%%\n"
    }
   },
   "outputs": [],
   "source": [
    "hannanum = Hannanum()\n",
    "kkma = Kkma()\n",
    "komoran = Komoran()\n",
    "okt = Okt()"
   ]
  },
  {
   "cell_type": "code",
   "execution_count": 3,
   "metadata": {
    "pycharm": {
     "name": "#%%\n"
    }
   },
   "outputs": [
    {
     "name": "stdout",
     "output_type": "stream",
     "text": [
      "[[[('롯데마트', 'ncn'), ('의', 'jcm')], [('롯데마트의', 'ncn')], [('롯데마트', 'nqq'), ('의', 'jcm')], [('롯데마트의', 'nqq')]], [[('흑마늘', 'ncn')], [('흑마늘', 'nqq')]], [[('양념', 'ncn')]], [[('치킨', 'ncn'), ('이', 'jcc')], [('치킨', 'ncn'), ('이', 'jcs')], [('치킨', 'ncn'), ('이', 'ncn')]], [[('논란', 'ncpa'), ('이', 'jcc')], [('논란', 'ncpa'), ('이', 'jcs')], [('논란', 'ncpa'), ('이', 'ncn')]], [[('되', 'nbu'), ('고', 'jcj')], [('되', 'nbu'), ('이', 'jp'), ('고', 'ecc')], [('되', 'nbu'), ('이', 'jp'), ('고', 'ecs')], [('되', 'nbu'), ('이', 'jp'), ('고', 'ecx')], [('되', 'paa'), ('고', 'ecc')], [('되', 'paa'), ('고', 'ecs')], [('되', 'paa'), ('고', 'ecx')], [('되', 'pvg'), ('고', 'ecc')], [('되', 'pvg'), ('고', 'ecs')], [('되', 'pvg'), ('고', 'ecx')], [('되', 'px'), ('고', 'ecc')], [('되', 'px'), ('고', 'ecs')], [('되', 'px'), ('고', 'ecx')]], [[('있', 'paa'), ('다', 'ef')], [('있', 'px'), ('다', 'ef')]], [[('.', 'sf')], [('.', 'sy')]]]\n",
      "\n",
      "['롯데마트', '의', '흑마늘', '양념', '치킨', '이', '논란', '이', '되', '고', '있', '다', '.']\n",
      "\n",
      "['다람쥐', '쳇바퀴', '타고파']\n",
      "\n",
      "[('웃', 'P'), ('으면', 'E'), ('더', 'M'), ('행복', 'N'), ('하', 'X'), ('ㅂ니다', 'E'), ('!', 'S')]\n"
     ]
    }
   ],
   "source": [
    "print(hannanum.analyze(u'롯데마트의 흑마늘 양념 치킨이 논란이 되고 있다.'))\n",
    "print()\n",
    "\n",
    "# 위에 분리한 걸 아래처럼 표현\n",
    "print(hannanum.morphs(u'롯데마트의 흑마늘 양념 치킨이 논란이 되고 있다.'))\n",
    "print()\n",
    "\n",
    "# 명사만 추출, 타고파는 동사인데 명사로 인식 -> 완벽하진 않음\n",
    "print(hannanum.nouns(u'다람쥐 헌 쳇바퀴에 타고파'))\n",
    "print()\n",
    "\n",
    "# 형태소만 표현, P, E 등 품사까지 표현\n",
    "print(hannanum.pos(u'웃으면 더 행복합니다!'))"
   ]
  },
  {
   "cell_type": "code",
   "execution_count": 4,
   "metadata": {
    "pycharm": {
     "name": "#%%\n"
    }
   },
   "outputs": [
    {
     "name": "stdout",
     "output_type": "stream",
     "text": [
      "['단독', '입찰', '보다', '복수', '입찰', '의', '경우']\n",
      "\n",
      "['날카로운 분석', '날카로운 분석과 신뢰감', '날카로운 분석과 신뢰감 있는 진행', '분석', '신뢰', '진행']\n",
      "\n",
      "[('이', 'Determiner'), ('것', 'Noun'), ('도', 'Josa'), ('되나욬', 'Noun'), ('ㅋㅋ', 'KoreanParticle')]\n"
     ]
    }
   ],
   "source": [
    "print(okt.morphs(u'단독입찰보다 복수입찰의 경우'))\n",
    "print()\n",
    "\n",
    "print(okt.phrases(u'날카로운 분석과 신뢰감 있는 진행으로'))\n",
    "print()\n",
    "\n",
    "print(okt.pos(u'이것도 되나욬ㅋㅋ'))"
   ]
  },
  {
   "cell_type": "code",
   "execution_count": 5,
   "metadata": {
    "pycharm": {
     "name": "#%%\n"
    }
   },
   "outputs": [
    {
     "name": "stdout",
     "output_type": "stream",
     "text": [
      "Hannanum:  [('아버지가방에들어가', 'N'), ('이', 'J'), ('시ㄴ다', 'E')]\n",
      "time:  0.006346464157104492\n",
      "\n",
      "Kkma:  [('아버지', 'NNG'), ('가방', 'NNG'), ('에', 'JKM'), ('들어가', 'VV'), ('시', 'EPH'), ('ㄴ다', 'EFN')]\n",
      "time:  4.846584320068359\n",
      "\n",
      "Komoran:  [('아버지', 'NNG'), ('가방', 'NNP'), ('에', 'JKB'), ('들어가', 'VV'), ('시', 'EP'), ('ㄴ다', 'EC')]\n",
      "time:  0.005509853363037109\n",
      "\n",
      "Okt:  [('아버지', 'Noun'), ('가방', 'Noun'), ('에', 'Josa'), ('들어가신다', 'Verb')]\n",
      "time:  0.03172039985656738\n"
     ]
    }
   ],
   "source": [
    "test_sent = \"아버지가방에들어가신다\"\n",
    "\n",
    "start_time = time.time()\n",
    "print(\"Hannanum: \", hannanum.pos(test_sent))\n",
    "print(\"time: \", time.time() - start_time)\n",
    "\n",
    "print()\n",
    "start_time = time.time()\n",
    "print(\"Kkma: \", kkma.pos(test_sent))\n",
    "print(\"time: \", time.time() - start_time)\n",
    "\n",
    "print()\n",
    "start_time = time.time()\n",
    "print(\"Komoran: \", komoran.pos(test_sent))\n",
    "print(\"time: \", time.time() - start_time)\n",
    "\n",
    "print()\n",
    "start_time = time.time()\n",
    "print(\"Okt: \", okt.pos(test_sent))\n",
    "print(\"time: \", time.time() - start_time)"
   ]
  },
  {
   "cell_type": "markdown",
   "metadata": {},
   "source": [
    "# 202001549 장희권"
   ]
  }
 ],
 "metadata": {
  "kernelspec": {
   "display_name": "Python 3",
   "language": "python",
   "name": "python3"
  },
  "language_info": {
   "codemirror_mode": {
    "name": "ipython",
    "version": 3
   },
   "file_extension": ".py",
   "mimetype": "text/x-python",
   "name": "python",
   "nbconvert_exporter": "python",
   "pygments_lexer": "ipython3",
   "version": "3.8.5"
  }
 },
 "nbformat": 4,
 "nbformat_minor": 1
}
