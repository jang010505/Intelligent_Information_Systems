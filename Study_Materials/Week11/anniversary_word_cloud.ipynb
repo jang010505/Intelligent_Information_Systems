{
 "cells": [
  {
   "cell_type": "code",
   "execution_count": 1,
   "metadata": {
    "pycharm": {
     "name": "#%%\n"
    }
   },
   "outputs": [],
   "source": [
    "from bs4 import BeautifulSoup\n",
    "from urllib.request import urlopen\n",
    "from tqdm.notebook import tqdm\n",
    "from konlpy.tag import Okt\n",
    "from collections import Counter\n",
    "\n",
    "import pandas as pd\n",
    "import numpy as np\n",
    "import urllib\n",
    "import time"
   ]
  },
  {
   "cell_type": "code",
   "execution_count": 2,
   "metadata": {
    "pycharm": {
     "name": "#%%\n"
    }
   },
   "outputs": [
    {
     "data": {
      "application/vnd.jupyter.widget-view+json": {
       "model_id": "d59ccc312cc7421eafb2e9c6d676f50a",
       "version_major": 2,
       "version_minor": 0
      },
      "text/plain": [
       "  0%|          | 0/9 [00:00<?, ?it/s]"
      ]
     },
     "metadata": {},
     "output_type": "display_data"
    }
   ],
   "source": [
    "tmp_list = []\n",
    "\n",
    "for i in tqdm(range(1, 10)):\n",
    "    url = \"https://kin.naver.com/search/list.naver?query=%EB%B9%BC%EB%B9%BC%EB%A1%9C+%EB%8D%B0%EC%9D%B4&page=\"+str(i)\n",
    "    html = urlopen(url)\n",
    "\n",
    "    soup = BeautifulSoup(html, \"html.parser\")\n",
    "\n",
    "    docs = soup.find(\"ul\", {\"class\": \"basic1\"}).find_all(\"li\")\n",
    "\n",
    "    for doc in docs:\n",
    "        ans = doc.find_all(\"dd\")[1]\n",
    "        tmp_list.append(ans.text.strip())\n",
    "\n",
    "    time.sleep(0.5)"
   ]
  },
  {
   "cell_type": "code",
   "execution_count": 6,
   "metadata": {
    "pycharm": {
     "name": "#%%\n"
    }
   },
   "outputs": [],
   "source": [
    "okt = Okt()\n",
    "\n",
    "ko_doc = '\\n'.join(tmp_list)\n",
    "ko_doc_noun = okt.nouns(ko_doc)"
   ]
  },
  {
   "cell_type": "code",
   "execution_count": 7,
   "metadata": {
    "pycharm": {
     "name": "#%%\n"
    }
   },
   "outputs": [
    {
     "data": {
      "text/plain": [
       "[('빼빼로데이', 120),\n",
       " ('빼빼로', 97),\n",
       " ('선물', 74),\n",
       " ('데이', 36),\n",
       " ('여자친구', 27),\n",
       " ('추천', 26),\n",
       " ('친구', 23),\n",
       " ('때', 18),\n",
       " ('제', 16),\n",
       " ('저', 15),\n",
       " ('거', 11),\n",
       " ('남자친구', 11),\n",
       " ('이번', 11),\n",
       " ('내일', 10),\n",
       " ('직접', 10),\n",
       " ('요', 10),\n",
       " ('날', 10),\n",
       " ('좀', 10),\n",
       " ('남자', 9),\n",
       " ('준비', 8)]"
      ]
     },
     "execution_count": 7,
     "metadata": {},
     "output_type": "execute_result"
    }
   ],
   "source": [
    "count_noun = Counter(ko_doc_noun)\n",
    "count_noun.most_common(20)"
   ]
  },
  {
   "cell_type": "code",
   "execution_count": null,
   "metadata": {
    "pycharm": {
     "name": "#%%\n"
    }
   },
   "outputs": [],
   "source": [
    "stopword_list = ['빼빼로데이']"
   ]
  }
 ],
 "metadata": {
  "kernelspec": {
   "display_name": "Python 3",
   "language": "python",
   "name": "python3"
  },
  "language_info": {
   "codemirror_mode": {
    "name": "ipython",
    "version": 3
   },
   "file_extension": ".py",
   "mimetype": "text/x-python",
   "name": "python",
   "nbconvert_exporter": "python",
   "pygments_lexer": "ipython3",
   "version": "3.8.5"
  }
 },
 "nbformat": 4,
 "nbformat_minor": 1
}
