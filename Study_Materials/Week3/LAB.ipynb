{
 "cells": [
  {
   "cell_type": "code",
   "execution_count": 127,
   "id": "89912efd",
   "metadata": {},
   "outputs": [],
   "source": [
    "import csv"
   ]
  },
  {
   "cell_type": "code",
   "execution_count": 131,
   "id": "031763f7",
   "metadata": {},
   "outputs": [],
   "source": [
    "f = open(\"incheon_weather.csv\", \"r\", encoding=\"cp949\")\n",
    "data = csv.reader(f)\n",
    "header = next(data)"
   ]
  },
  {
   "cell_type": "code",
   "execution_count": 132,
   "id": "15bb9e4e",
   "metadata": {},
   "outputs": [
    {
     "name": "stdout",
     "output_type": "stream",
     "text": [
      "기상 관측 이래, 인천 최고 기온이 가장 높았던 날은 1949-07-16 이고, 38.9 도 이다.\n"
     ]
    }
   ],
   "source": [
    "date, _, _, _, max_temp = list(zip(*data))\n",
    "max_temp = list(map(float, [\"-999\" if i == \"\" else i for i in max_temp]))\n",
    "print(\"기상 관측 이래, 인천 최고 기온이 가장 높았던 날은 {0} 이고, {1} 도 이다.\".format(date[max_temp.index(max(max_temp))], max(max_temp)))"
   ]
  },
  {
   "cell_type": "code",
   "execution_count": 133,
   "id": "08dc53c4",
   "metadata": {},
   "outputs": [],
   "source": [
    "f.close()"
   ]
  }
 ],
 "metadata": {
  "kernelspec": {
   "display_name": "Python 3",
   "language": "python",
   "name": "python3"
  },
  "language_info": {
   "codemirror_mode": {
    "name": "ipython",
    "version": 3
   },
   "file_extension": ".py",
   "mimetype": "text/x-python",
   "name": "python",
   "nbconvert_exporter": "python",
   "pygments_lexer": "ipython3",
   "version": "3.8.5"
  }
 },
 "nbformat": 4,
 "nbformat_minor": 5
}
