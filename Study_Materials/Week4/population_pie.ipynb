{
 "cells": [
  {
   "cell_type": "markdown",
   "id": "9573481b",
   "metadata": {},
   "source": [
    "# 202001549 장희권"
   ]
  },
  {
   "cell_type": "code",
   "execution_count": 2,
   "id": "099ad606",
   "metadata": {},
   "outputs": [],
   "source": [
    "import matplotlib.pyplot as plt\n",
    "import csv"
   ]
  },
  {
   "cell_type": "code",
   "execution_count": 9,
   "id": "0c43ba58",
   "metadata": {},
   "outputs": [
    {
     "data": {
      "image/png": "[encoded data removed]",
      "text/plain": [
       "<Figure size 432x288 with 1 Axes>"
      ]
     },
     "metadata": {},
     "output_type": "display_data"
    }
   ],
   "source": [
    "f = open('incheon_population.csv', 'r')\n",
    "data = csv.reader(f)\n",
    "\n",
    "s_male = 0\n",
    "s_female = 0\n",
    "for row in data:\n",
    "    if \"송도1동\" in row[0]:\n",
    "        for m, fm in zip(row[3:104], row[106:207]):\n",
    "            s_male += int(m)\n",
    "            s_female += int(fm)\n",
    "\n",
    "            \n",
    "f.close()\n",
    "\n",
    "result = [s_male, s_female]\n",
    "\n",
    "plt.rc('font', family = 'Malgun Gothic')\n",
    "\n",
    "label = ['남', '여']\n",
    "color = ['crimson', 'darkcyan']\n",
    "plt.pie(result, labels=label, autopct='%.lf%%', colors=color, startangle=90)\n",
    "plt.legend()\n",
    "plt.show()\n"
   ]
  },
  {
   "cell_type": "markdown",
   "id": "0b01ea4f",
   "metadata": {},
   "source": [
    "# 202001549 장희권"
   ]
  }
 ],
 "metadata": {
  "kernelspec": {
   "display_name": "Python 3 (ipykernel)",
   "language": "python",
   "name": "python3"
  },
  "language_info": {
   "codemirror_mode": {
    "name": "ipython",
    "version": 3
   },
   "file_extension": ".py",
   "mimetype": "text/x-python",
   "name": "python",
   "nbconvert_exporter": "python",
   "pygments_lexer": "ipython3",
   "version": "3.9.12"
  }
 },
 "nbformat": 4,
 "nbformat_minor": 5
}
