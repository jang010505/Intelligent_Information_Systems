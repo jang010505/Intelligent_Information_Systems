{
 "cells": [
  {
   "cell_type": "markdown",
   "id": "69cc47a4",
   "metadata": {},
   "source": [
    "# 202001549 장희권"
   ]
  },
  {
   "cell_type": "code",
   "execution_count": 14,
   "id": "da97e7ec",
   "metadata": {},
   "outputs": [],
   "source": [
    "import os\n",
    "import sys\n",
    "import requests\n",
    "import urllib.request\n",
    "import json\n",
    "import pandas as pd"
   ]
  },
  {
   "cell_type": "code",
   "execution_count": 2,
   "id": "05bd7bdc",
   "metadata": {},
   "outputs": [],
   "source": [
    "client_id = '6AYXNDw__B7kUE0eRYZb'\n",
    "client_secret = 'fkYE6Q3j_m'"
   ]
  },
  {
   "cell_type": "code",
   "execution_count": 5,
   "id": "ebbb32e4",
   "metadata": {},
   "outputs": [
    {
     "name": "stdout",
     "output_type": "stream",
     "text": [
      "{\"info\":{\"size\":{\"width\":700,\"height\":394},\"faceCount\":1},\"faces\":[{\"celebrity\":{\"value\":\"박보검\",\"confidence\":1.0}}]}\n"
     ]
    }
   ],
   "source": [
    "url = 'https://openapi.naver.com/v1/vision/celebrity'\n",
    "files = {'image': open('my_photo.jpg', 'rb')}\n",
    "headers = {'X-Naver-Client-Id': client_id, 'X-Naver-Client-Secret': client_secret }\n",
    "response = requests.post(url,  files=files, headers=headers)\n",
    "rescode = response.status_code\n",
    "if(rescode==200):\n",
    "    print (response.text)\n",
    "else:\n",
    "    print(\"Error Code:\" + rescode)"
   ]
  },
  {
   "cell_type": "code",
   "execution_count": 34,
   "id": "2002784a",
   "metadata": {},
   "outputs": [
    {
     "name": "stdout",
     "output_type": "stream",
     "text": [
      "{'lastBuildDate': 'Mon, 05 Dec 2022 11:24:48 +0900', 'total': 379150, 'start': 1, 'display': 100, 'items': [{'title': '<b>완벽한 타인</b> 결말까지 긴장하며 잘봤다', 'link': 'https://blog.naver.com/leganza07/222616653130', 'description': '남들에게는 <b>완벽한 타인</b>이 되고 싶은 그 마음을 잘 표현한 영화가 아닌가 싶어요 그래서 사람들이 인스타 등을 통해 세상 누구보다 행복한 사람이 되는것처럼 피드를 올리게 되는것 같아요 그렇게 멋진고 완벽한... ', 'bloggername': 'Ten2. Style', 'bloggerlink': 'blog.naver.com/leganza07', 'postdate': '20220109'}, {'title': '『<b>완벽한 타인</b>』의 『빈집』', 'link': 'https://jangdolbange.tistory.com/2338', 'description': \"영화『<b>완벽한 타인</b>』은 죽마고우들이 부부 동반으로 한 자리에 모여 저녁을 먹는 것으로 시작된다.... 또 다른 자신이라고 믿었던 배우자며 친구가 속내를 알 수 없는 '<b>완벽한 타인</b>'으로 낯설어지는 것이다.... \", 'bloggername': '장돌뱅이와 곱단이의 살아가는 이야기', 'bloggerlink': 'https://jangdolbange.tistory.com/', 'postdate': '20210831'}, {'title': '위험한 만찬 vs <b>완벽한 타인</b> / 유럽인 vs 한국인?', 'link': 'https://blog.naver.com/foxinthemoon/222632343769', 'description': \"위험한 만찬 vs <b>완벽한 타인</b> 자유를 달라는 유럽인 vs '차카게' 순종하는 한국인? 몇 년 전에 본... 프랑스 판이 완벽하다는 건 아니다. 다만 둘을 비교해 보자니 더 두드러지게 확인되는 몇 가지. 모르니까... \", 'bloggername': '열한 번째 달', 'bloggerlink': 'blog.naver.com/foxinthemoon', 'postdate': '20220126'}, {'title': '<b>완벽한 타인</b> 출연진 때문에 봤다가 몇 번이고 곱씹게 된 영화', 'link': 'https://blog.naver.com/grandheamur/222705979494', 'description': \"최근 가장 기억에 남는 영화를 꼽으라면 저는 '<b>완벽한 타인</b>'이라는 영화가 가장 기억에 남아요. 쿠팡플레이를 통해 집에서 와인 한잔하며 봤는데 처음엔 화려한 캐스팅의 <b>완벽한 타인</b> 출연진 라인업 때문에... \", 'bloggername': 'INFO알리미 뷰티공간', 'bloggerlink': 'blog.naver.com/grandheamur', 'postdate': '20220420'}, {'title': '[연극] <b>완벽한 타인</b> - 그리고... 비밀스러운 삶이 존재한다.', 'link': 'https://blog.naver.com/xo150/222472254512', 'description': '연극&lt;<b>완벽한 타인</b>&gt;를 보고 나서 배우들간의 티키타카의 완벽한 호흡을 본거 같아서 기분이 좋았습니다. 특히 정말 친한 친구들끼리 대화하든 자연스러운 대사들의 소화해 가는 배우분들이 정말 대단하다고... ', 'bloggername': '삶의 樂을 즐기지 못하는 1人', 'bloggerlink': 'blog.naver.com/xo150', 'postdate': '20210816'}, {'title': '영화 &lt;<b>완벽한 타인</b>&gt;', 'link': 'https://blog.naver.com/screem33/222703175319', 'description': '친구들이 완벽한 지인이 아닌 <b>완벽한 타인</b>이 돼버리는 영화입니다. 보는 내내 코미디지만 코미디가... 영화를 보는 내내 나도 내 폰을 아무런 꺼림 없이 타인에게 공개할 수 있을까? 하는 생각이 들었습니다.... ', 'bloggername': '형래플릭스', 'bloggerlink': 'blog.naver.com/screem33', 'postdate': '20220417'}, {'title': '★&lt;<b>완벽한 타인</b>&gt; 스포있음. 웃기면서도 씁쓸한 영화', 'link': 'https://blog.naver.com/nonoasdfg/222662277447', 'description': '영화 &lt;<b>완벽한 타인</b>&gt;은 아무리 친하더라도 결국 완벽하게 타인인 모습. 어쩌면 그렇기 때문에 서로의 관계가 유지되는 것을 보여준 영화입니다. 타인의 비밀을 알려고 하고 파헤치려고 하면, 결국 그 관계는... ', 'bloggername': '슈슈야의 영화 저장소', 'bloggerlink': 'blog.naver.com/nonoasdfg', 'postdate': '20220302'}, {'title': '미디어 전공생이 본 다중 주인공 영화의 표본, [<b>완벽한 타인</b>] 리뷰!', 'link': 'https://blog.naver.com/spdlike/222938422086', 'description': '※영화 <b>완벽한 타인</b> | 석호: 세상에 완벽한 사람은 없어 물론, 마지막에 인셉션을 오마주한 영상으로... 서로이웃해요 #<b>완벽한타인</b> #영화리뷰 #영화 #시나리오 #대본작성 #이서진 #조진웅 #송하윤 #유해진 #타인', 'bloggername': '미디어 전공생의 리뷰/영화/드라마', 'bloggerlink': 'blog.naver.com/spdlike', 'postdate': '20221126'}, {'title': '킬링타임용 영화 <b>완벽한 타인</b> 출연진 평점 명대사 다시보기 하자!', 'link': 'https://blog.naver.com/daikkoji/222935459350', 'description': '<b>완벽한 타인</b> 정보 2. <b>완벽한 타인</b> 출연진 3. <b>완벽한 타인</b> 명대사 4. <b>완벽한 타인</b> 평점 (9.08점) 5. <b>완벽한 타인</b> 다시보기 하는 곳은? 진짜 이제 같이 알아보러 가보자고~ 1. <b>완벽한 타인</b> 정보 <b>완벽한 타인</b> 감독... ', 'bloggername': '영화 드라마 리뷰왕국', 'bloggerlink': 'blog.naver.com/daikkoji', 'postdate': '20221122'}, {'title': '연극 <b>완벽한타인</b> @세종문화회관 M씨어터 6열 5,6번 시야', 'link': 'https://blog.naver.com/hkkroni/222373493354', 'description': '<b>완벽한타인</b>은 영화로도 익숙하지만 이탈리아 영화가 원작이다. 저녁식사 시간 동안 핸드폰을 모두와... <b>완벽한 타인</b>의 경우 앞쪽에 테이블이 있고 뒷쪽에 거실이 셋팅되어 있는데 거실에서의 장면은 그리 많지... ', 'bloggername': '노조미의 움직이는 성', 'bloggerlink': 'blog.naver.com/hkkroni', 'postdate': '20210531'}, {'title': '&lt;위험한 만찬&gt;, <b>완벽한 타인</b>들의 휴대폰 까대기', 'link': 'https://blog.naver.com/ahn0312/222600496919', 'description': '우리나라에서는 2018년 10월 말에 개봉해 529만 관객의 사랑을 받은 이재규 감독의 &lt;<b>완벽한 타인</b>&gt;이 한 갈래 작품이다. 전망 좋은 펜트하우스에 사는 의사 부부의 만찬에 초대된 35년 지기 친구들. 완벽해... ', 'bloggername': '동탄남자의 상상바다', 'bloggerlink': 'blog.naver.com/ahn0312', 'postdate': '20211220'}, {'title': '[쨈난영화] <b>완벽한 타인</b>', 'link': 'https://blog.naver.com/uisig0603/222445794505', 'description': '●[<b>완벽한 타인</b>]의 선택 과정. [시청: 21년7월, 개봉: 18년10월, 시간: 115분] 본 영화는 5월·6월 추천... 따라서 이런저런 이유로 타인과의 통화가 빈번하게 등장한다. 그때 상대방 통화 목소리를 잘 들어라. 그리고... ', 'bloggername': '제 기준으로 말입니다.™', 'bloggerlink': 'blog.naver.com/uisig0603', 'postdate': '20210726'}, {'title': '[영화] <b>완벽한 타인</b>', 'link': 'https://blog.naver.com/syyu02/222930127092', 'description': '<b>완벽한 타인</b> 감독 이재규 출연 유해진, 조진웅, 이서진, 염정아, 김지수, 송하윤, 윤경호 개봉 2018.10.31.... 다르기에 타인의 비밀스러운 모습을 완벽히 이해할 수 없을것이다. 비밀을 알게되면 아 너는 이런... ', 'bloggername': '지구멸망 전 마지막 기록', 'bloggerlink': 'blog.naver.com/syyu02', 'postdate': '20221116'}, {'title': '박상미의 가족상담소 - 박상미 : 가족은 <b>완벽한 타인</b>입니다', 'link': 'https://blog.naver.com/mari160901/222894257034', 'description': \"&quot;부부는 <b>완벽한 타인</b>이다.&quot;라는 말이 새삼 새롭게 느껴졌습니다. 제 무의식에 &quot;부부는 일심동체&quot;라는 말이 콕 박혀 있었던 게 아닐까라는 생각이 들었어요. 그래서 머리로는 '남편은 타인'이라는 것을 알면서도... \", 'bloggername': '아이와 함께하는 즐거운 책 이야기', 'bloggerlink': 'blog.naver.com/mari160901', 'postdate': '20221007'}, {'title': '연극 <b>완벽한타인</b> 후기 @세종문화회관 M씨어터 좌석', 'link': 'https://blog.naver.com/cherrypuddin/222408309295', 'description': '연극 <b>완벽한타인</b> 총평*본인이 아니면 전부 타인이지 뭐~ 이 작품이 국내 리메이크 영화가 아닌... 연극 <b>완벽한 타인</b> 한정해서 완벽하게 좋은 자리는 없는거같아요. 그냥 꼭 피할 좌석은 피하고, 갈만한 자리... ', 'bloggername': 'planB', 'bloggerlink': 'blog.naver.com/cherrypuddin', 'postdate': '20210624'}, {'title': '추천영화 <b>완벽한 타인</b> 원작이 있었어?', 'link': 'https://blog.naver.com/jksy3345/222183783723', 'description': '[ <b>완벽한 타인</b> ]은 겉으로는 완벽해 보이는 커플모임에서 한정된 시간동안 핸드폰으로 오는 전화, 문자, 카톡을 강제로 공개해야 하는 게임 때문에 벌어지는 예측불허 이야기를 그린 영화로 나의 핸드폰이 옆... ', 'bloggername': '별숲&apos;s 오늘 뭐 보지?', 'bloggerlink': 'blog.naver.com/jksy3345', 'postdate': '20201224'}, {'title': '[영화리뷰] <b>완벽한 타인</b> (Intimate Strangers, 2018)', 'link': 'https://blog.naver.com/soulmater_/222637818773', 'description': '오늘 제가 리뷰할 영화는 <b>완벽한 타인</b> (Intimate Strangers, 2018) 입니다. 이 영화는 원작이 따로 있다고... 그럼, 자세한 영화 <b>완벽한 타인</b> 리뷰는 지금부터 시작합니다! <b>완벽한 타인</b> 영화의 줄거리는? Intimate... ', 'bloggername': '영화를 말하다', 'bloggerlink': 'blog.naver.com/soulmater_', 'postdate': '20220203'}, {'title': '한국드라마영화 <b>완벽한타인</b> - 가까운 사람에게도 공개할 수... ', 'link': 'https://blog.naver.com/kyakya_4001/222579795069', 'description': '한국드라마영화 <b>완벽한타인</b> Intimate Strangers 작품개요 런닝타임 115분 개봉 2018 .10. 31. 감독 이재규... 한국드라마영화 <b>완벽한타인</b> CHARACTER 정석호 조진웅 서울대학교 의대 출신으로 유방성형 전문 성형외과... ', 'bloggername': 'A || E', 'bloggerlink': 'blog.naver.com/kyakya_4001', 'postdate': '20211127'}, {'title': '가리든 지구로 가리든, 달은 가려지지 않는다” 영화 &lt;<b>완벽한 타인</b>&gt;', 'link': 'https://blog.naver.com/ceres701/222903680366', 'description': '살아가는 타인일 수밖에 없음을 보여주는 훌륭한 장치로 기능한다. 일곱 사람이나 무대에 서 있어서... 말처럼 &lt;<b>완벽한 타인</b>&gt;이라는 연극을 통해 이 사람들이 완벽하지 못하다는 것을 폭로를 통해 몽땅... ', 'bloggername': '게자리_Dexter', 'bloggerlink': 'blog.naver.com/ceres701', 'postdate': '20221018'}, {'title': '투 서머스 후기 <b>완벽한 타인</b>과 비슷한 결을 지닌 넷플릭스... ', 'link': 'https://blog.naver.com/c106507/222758917668', 'description': '드라마 버전의 &lt;<b>완벽한 타인</b>&gt;? 벨기에 드라마 &lt;투 서머스&gt;는 1992년과 현재, 이렇게 두 가지 시점을... 영화 &lt;<b>완벽한 타인</b>&gt;(2018) 및 &lt;<b>완벽한 타인</b>&gt;의 원작인 이탈리아 영화 &lt;퍼펙트 스트레인저&gt;(2016)와 비슷한 결을... ', 'bloggername': '써니 아저씨의 솔직한 영화 이야기', 'bloggerlink': 'blog.naver.com/c106507', 'postdate': '20220604'}, {'title': 'csei 테스트- <b>완벽한 타인</b> 테스트 나의 사랑 유형은?', 'link': 'https://blog.naver.com/kinoje333/222931844071', 'description': '타인을 알아가는 것만이 유일한 우승 방법. ? 테스트가 아니라 게임이야? 내 앞에 있는 사람과 익명의... 25.000명. 이제야 이해한 ~!! <b>완벽한 타인</b> 테스트 https://creatorclub.kr/typeform? formId=DwiXycqF ㅎㅎㅎ;;;', 'bloggername': '은묘의 공유세상', 'bloggerlink': 'blog.naver.com/kinoje333', 'postdate': '20221119'}, {'title': '<b>완벽한 타인</b> 원작, 세계에서 가장 많이 리메이크 되어... ', 'link': 'https://blog.naver.com/mosmik/222923756987', 'description': '이 완벽한 기계로 게임을 한다.. 이것은 좋은 생각이 아니에요.. 사람들은 내가 아는 것보다 낯설 수가 있거든&quot; <b>완벽한 타인</b> 후기 각자의 비밀을 간직한 사람들이 한데 모여 그 비밀을 공유했을 때 어떤 일이... ', 'bloggername': '베리, 안녕', 'bloggerlink': 'blog.naver.com/mosmik', 'postdate': '20221110'}, {'title': '<b>완벽한 타인</b>', 'link': 'https://blog.naver.com/novita1/222931049517', 'description': '서로가 <b>완벽한 타인</b>인만큼 드러나지 않았을 뿐, 저들도 뭔가 하나라도 있겠지 싶다 겉으로 보면 아무런... 연출도 미쳤음 털어서 먼지 안나는 사람은 없고 핸드폰은 쓸데없이 너무 많은 걸 담고있다 #<b>완벽한타인</b>', 'bloggername': 'ROXANNE BABY', 'bloggerlink': 'blog.naver.com/novita1', 'postdate': '20221117'}, {'title': '<b>완벽한 타인</b> (2018): 승리자는 저 자리에 없었던 순대 씨', 'link': 'https://blog.naver.com/duddjw1004/222563351608', 'description': '제아무리 가까운 사람이라고 해도 나 자신이 아닌 이상에야 사람은 결국 타인, 그것도 <b>완벽한 타인</b>이라는 것을 새삼 깨닫게 되었을 만큼. 영화의 마지막에 이런 문구가 나온다. ‘사람은 누구나 세 개의 삶을... ', 'bloggername': '키위의 방', 'bloggerlink': 'blog.naver.com/duddjw1004', 'postdate': '20211109'}, {'title': '리안 모리아티 &quot;아홉명의 <b>완벽한 타인</b>들&quot; 짧은 서평', 'link': 'https://blog.naver.com/deathlv77/222863400675', 'description': '리안 모리아티의 아홉명의 <b>완벽한 타인</b>들은 서스펜스 스릴러 장르라고 부를 수 있겠지만 과연 그렇게... 그러나 제목에서 암시하는 바와같이 9명의 타인들과 또 다른 주인공 그룹의 캐릭터는 제법 탄탄하게... ', 'bloggername': '카임&apos;의 스마트폰/VR게임기획&리뷰', 'bloggerlink': 'blog.naver.com/deathlv77', 'postdate': '20220831'}, {'title': '미드 아홉명의 <b>완벽한 타인</b>들 후기 눈 돌아가는 초호화 캐스팅... ', 'link': 'https://blog.naver.com/worldrama/222550946845', 'description': '리안 모리아티의 동명 소설을 원작으로 한 Hulu 신작 미드 &lt;아홉명의 <b>완벽한 타인</b>들&gt; 미드 아홉 명의 <b>완벽한 타인</b>들 (나인 퍼펙트 스트레인저스 Nine Perfect Strangers)은 니콜 키드먼, 마이클 섀넌, 루크 에반스... ', 'bloggername': '스크린 관찰자 은빛유니콘', 'bloggerlink': 'blog.naver.com/worldrama', 'postdate': '20211028'}, {'title': '친구들이랑 같이 해본 :: <b>완벽한 타인</b> CEIS 테스트 (사랑 유형... ', 'link': 'https://blog.naver.com/5804tngus/222941710676', 'description': '이번에는 스위티가 가져온 테스트 <b>완벽한 타인</b> CEIS 사랑 유형 심리 테스트 이 날은 5시간동안 줌... formId=DwiXycqF 다른 유형도 자세히 궁금하면 구글에 &quot;<b>완벽한 타인</b> CSEI 테스트&quot; 검색하면 티스토리 블로그에... ', 'bloggername': 'busanish', 'bloggerlink': 'blog.naver.com/5804tngus', 'postdate': '20221129'}, {'title': '21.06.26 연극&lt;<b>완벽한 타인</b>&gt;', 'link': 'https://blog.naver.com/mj791007/222417649888', 'description': '연극 &lt;<b>완벽한 타인</b>&gt;을 친구와 함께 보고 왔다. 연극 &lt;<b>완벽한 타인</b>&gt;은 이탈리아 영화인 &lt;<b>완벽한 타인</b>&gt;을 원작으로 개봉 3년 만에 전 세계 18개국으로 리메이크 되어 가장 많이 리메이크된 영화로 기네스북에 오른... ', 'bloggername': 'MInjung&apos;s story', 'bloggerlink': 'blog.naver.com/mj791007', 'postdate': '20210702'}, {'title': '[ 쉐이크아트시네마 ] <b>완벽한 타인</b> 영화 리뷰 토크 !', 'link': 'https://blog.naver.com/shindage/222915630198', 'description': 'Youtube : 쉐이크아트시네마 오늘의영화:<b>완벽한타인</b> 게스트:알베르토 몬디 , 조경희 교수 매일 매일... 영화 <b>완벽한 타인</b> 영화토크 현장입니다! 씨네스토랑 게스트분들과 함께 리뷰를한 <b>완벽한타인</b> 토크 에... ', 'bloggername': '행복에 이르는 길이 어디 한가지 뿐이랴!', 'bloggerlink': 'blog.naver.com/shindage', 'postdate': '20221031'}, {'title': '영화 <b>완벽한 타인</b>: 블러디 문 정보 (결말,반전,평점,출연진,원작... ', 'link': 'https://blog.naver.com/mangowith/222649016690', 'description': '<b>완벽한 타인</b>: 블러디 문 감독 쿠앙 둥 뉴엔 출연 호 타이 화, 안 홍, 흐어 비 반 개봉 미개봉 사진 및 영상출처: 네이버영화 / 구글이미지 (이하 동일) ¶ 기본 정보 제목 : <b>완벽한 타인</b>: 블러디 문 (Bloody Moon Fest)... ', 'bloggername': '체스키안개', 'bloggerlink': 'blog.naver.com/mangowith', 'postdate': '20220216'}, {'title': '<b>완벽한 타인</b>: 블러디 문Tiec Trang Mau (Bloody Moon... ', 'link': 'https://blog.naver.com/eastok7/222597187762', 'description': '이처럼 완벽한 리메이크로 베트남 역대 관객 수 1위와 박스오피스 5주 연속 1위를 휩쓴 &lt;<b>완벽한 타인</b>: 블러디 문&gt; 이처럼 완벽한 리메이크로 베트남 역대 관객 수 1위와 박스오피스 5주 연속 1위를 휩쓴... ', 'bloggername': '클린트 이스트우드 사랑 I love Clint Eastwood', 'bloggerlink': 'blog.naver.com/eastok7', 'postdate': '20211216'}, {'title': '172_영화 &lt;<b>완벽한 타인</b>&gt; 리뷰', 'link': 'https://blog.naver.com/pooh0512/222284491417', 'description': '<b>완벽한 타인</b> 감독 이재규 출연 유해진, 조진웅, 이서진, 염정아, 김지수, 송하윤, 윤경호 개봉 2018. 10. 31. 제목 : <b>완벽한 타인</b> 개봉 : 2018년 10월 31일 감독 : 이재규 배우 : 유해진, 조진웅, 이서진, 염정아, 김지수... ', 'bloggername': '시간의마법사', 'bloggerlink': 'blog.naver.com/pooh0512', 'postdate': '20210323'}, {'title': '낯선 지인, 불편한 진실. 영화 <b>완벽한 타인</b> 대사', 'link': 'https://blog.naver.com/zoomaker05/222595146852', 'description': '영화 <b>완벽한 타인</b>에서는 어쩌다 보니 하게 된 게임으로 [개인적은 삶]과 [비밀의 삶]이 공개되면서, 알고 있지만 [낯선 지인]들을 경험하게 됩니다. 세상에는 완벽한 사람들이 없어요 우리는 상처받기 쉽고... 근데... ', 'bloggername': '소행성 B614의 이야기나무', 'bloggerlink': 'blog.naver.com/zoomaker05', 'postdate': '20211214'}, {'title': '영화 <b>완벽한 타인</b> (Intimate Strangers,2018) 리뷰', 'link': 'https://blog.naver.com/emfj7/222682264665', 'description': '<b>완벽한 타인</b> 감독 이재규 출연 유해진, 조진웅, 이서진, 염정아, 김지수, 송하윤, 윤경호 개봉 2018. 10. 31. 넷플릭스 (Netflix) <b>완벽한 타인</b> (Intimate Strangers,2018) (2018년 10월 개봉) 이재규 감독 유해진, 조진웅, 이서진... ', 'bloggername': '홀든의 리뷰 저장소', 'bloggerlink': 'blog.naver.com/emfj7', 'postdate': '20220327'}, {'title': '연극 <b>완벽한 타인</b> 출연진 1차 티켓팅 기본정보', 'link': 'https://blog.naver.com/eunpiri715/222311800034', 'description': '드디어 연극 <b>완벽한 타인</b> 1차 티켓오픈 시작하네요. 무대화 된다는 소식을 접하고 다시금 영화를... 출처 shownote_theatre #연극<b>완벽한타인</b> #연극<b>완벽한타인</b>기본정보 #연극<b>완벽한타인</b>츨연진... ', 'bloggername': '당신 빼고 다 보는 공연, 전시', 'bloggerlink': 'blog.naver.com/eunpiri715', 'postdate': '20210416'}, {'title': '<b>완벽한 타인</b> - 찜찜해, 찜찜해', 'link': 'https://blog.naver.com/suya71/222629207405', 'description': \"<b>완벽한 타인</b> 감독 이재규 출연 유해진, 조진웅, 이서진, 염정아, 김지수, 송하윤, 윤경호 개봉 2018. 10. 31. '<b>완벽한 타인</b>'이라는 제목이 매력적인지 같은 이름의 영화가 무려 5편!(알고보니 원작이 이탈리아 것이고... \", 'bloggername': '수야의 산책 - 여행, 영화, 그리고 책s', 'bloggerlink': 'blog.naver.com/suya71', 'postdate': '20220123'}, {'title': '<b>완벽한 타인</b>', 'link': 'https://blog.naver.com/bang_0215/222261211267', 'description': '과연 타인이 나와 다름을 얼마나 인정하고 있는 지 생각해보게 만들었음 굳이 이해하려하지 않아도... 하다 <b>완벽한 타인</b> 감독 이재규 출연 유해진, 조진웅, 이서진, 염정아, 김지수, 송하윤, 윤경호 개봉 2018.10.... ', 'bloggername': 'SOMETHIN&apos; SPECIAL', 'bloggerlink': 'blog.naver.com/bang_0215', 'postdate': '20210301'}, {'title': '[영화리뷰] <b>완벽한 타인</b> (Intimate Strangers, 2018)', 'link': 'https://blog.naver.com/choongchoongchoong/222311231447', 'description': '영화의 타이틀인 ‘<b>완벽한 타인</b>’은 너무나도 완벽한 물건이 완벽하지 못한 자신의 모습을 감춰주기에 만들어지는 존재라는 걸 주인공들이 벌이는 게임을 통해 알려준다. 그리고 이 과정은 당사자가 처한... ', 'bloggername': 'Life Never Felt So Good', 'bloggerlink': 'blog.naver.com/choongchoongchoong', 'postdate': '20210415'}, {'title': '아홉 명의 <b>완벽한 타인</b>들 - 리안 모리아티 / 심리 드라마 소설', 'link': 'https://blog.naver.com/lemontree17/222915376533', 'description': '(p.524) 『아홉 명의 <b>완벽한 타인</b>들』 낯선 공간에 모여든 사람들, 타인끼리 얽히고설키는 심리 드라마 소설. 어떤 사람으로 다시 새롭게 변하고 싶나요? 바로 나 자신에 답이 있다는 것. 사람은 다시금 사람으로... ', 'bloggername': '책을 만나다.', 'bloggerlink': 'blog.naver.com/lemontree17', 'postdate': '20221031'}, {'title': '아홉 명의 <b>완벽한 타인</b>들', 'link': 'https://blog.naver.com/khan2050/222903279529', 'description': '#아홉명의<b>완벽한타인</b>들 각자 여러가지 어려움과 사연을 가진 사람들 아홉 명이 최고급 건강 휴양지 “평온의집”에 모이고 이후 벌어지는 일들로 이루어진 소설입니다. 아홉 명의 <b>완벽한 타인</b>들 저자 리안... ', 'bloggername': '11개의 별 Cadeau 블로그', 'bloggerlink': 'blog.naver.com/khan2050', 'postdate': '20221018'}, {'title': '[영화] <b>완벽한 타인</b>... 리뷰 - 타인이라서 완벽할... ', 'link': 'https://blog.naver.com/soyoung3355/222644054908', 'description': '<b>완벽한 타인</b>이라서 완벽해 보인다. 40년 불알친구, 배우자 혹은 연인이라고 할지언정 과연 나는 옆에 있는 타인에 대해서 얼마나 아는가에 대한 물음 또한 이 작품의 핵심을 관통하는 소재라고 생각할 수 있을... ', 'bloggername': '키루(Kiru)의 취미&리뷰 블로그', 'bloggerlink': 'blog.naver.com/soyoung3355', 'postdate': '20220210'}, {'title': '아홉명의 <b>완벽한 타인</b>들 - 리안 모리아티', 'link': 'https://blog.naver.com/withgodmin/222932831473', 'description': \"마샤의 말 530p 책은 각자의 바뀌고자 하는 목표를 가지고 '요양원'으로 모이는 완벽하게 다른 9명과... 얼마나 <b>완벽한 타인</b>들인지 보여주려는 것 같은 감상을 받았다. 이들이 다른 소설의 주인공으로 출연해서... \", 'bloggername': '모노 가 타리', 'bloggerlink': 'blog.naver.com/withgodmin', 'postdate': '20221119'}, {'title': '<b>완벽한 타인</b> 후기', 'link': 'https://blog.naver.com/onionorange/222187798789', 'description': '&lt;<b>완벽한 타인</b> 후기 내 맘대로 텐&gt; 1. 아닛 이 조합은 무엇 이 둘이 부부라니 2. 이서진 진짜 기뻐 보임... 귀걸이 <b>완벽한 타인</b> 감독 이재규 출연 유해진, 조진웅, 이서진, 염정아, 김지수, 송하윤, 윤경호 개봉... ', 'bloggername': '<漫樂館>', 'bloggerlink': 'blog.naver.com/onionorange', 'postdate': '20201228'}, {'title': '연극 <b>완벽한 타인</b>', 'link': 'https://blog.naver.com/matich/222449805737', 'description': '<b>완벽한 타인</b>의 제목이 심상치 않다.타인이면 그만인데 완벽한 이란 형용사를 왜 사용했을까? 범죄행위를 했는데 가해자가 누군지 밝혀지지 않거나 범죄 증거를 찾지 못할 때 완전범죄라고 한다면 <b>완벽한 타인</b>은... ', 'bloggername': '폴초이의 일상 이야기들', 'bloggerlink': 'blog.naver.com/matich', 'postdate': '20210729'}, {'title': '<b>완벽한 타인</b> : 판도라의 상자에 관한 영화', 'link': 'https://blog.naver.com/blanche15/222416143204', 'description': '오늘은 영화 &lt;<b>완벽한 타인</b>&gt;을 소개할게요. 독특하면서도 색다른 작품이라고 볼 수 있는데요. 2시간의 긴... <b>완벽한 타인</b> - 줄거리 - 우리 게임 한 번 해볼까? 다들 핸드폰 올려봐 저녁 먹는 동안 오는 모든 걸... ', 'bloggername': '블랑부케&apos;story', 'bloggerlink': 'blog.naver.com/blanche15', 'postdate': '20210701'}, {'title': '&lt;<b>완벽한 타인</b>&gt;', 'link': 'https://blog.naver.com/arnoldmt/222211490761', 'description': '제목이 왜 <b>완벽한 타인</b>일까? 휴대폰 속 친구, 배우자의 모습이 알던 모습과 다르다는 것을 나타내고... 인셉션에서 사용된 소품이 <b>완벽한 타인</b>에서도 사용되었다. 기억나는가? 많은 사람들의 뇌리에 강하게 박힌... ', 'bloggername': '한 뼘씩 더 가까이', 'bloggerlink': 'blog.naver.com/arnoldmt', 'postdate': '20210118'}, {'title': '영화 <b>완벽한 타인</b> 감상평', 'link': 'https://blog.naver.com/kps3806/222513136436', 'description': '<b>완벽한 타인</b> 감독 이재규 출연 유해진, 조진웅, 이서진, 염정아, 김지수, 송하윤, 윤경호 개봉 2018.10.31. 대한민국 평점 리뷰보기 인간에겐 누구나 자기만의 비밀이 있다. 그 비밀의 경중이 크던 작던간에, 가족... ', 'bloggername': '아무거나 끄적끄적 리뷰', 'bloggerlink': 'blog.naver.com/kps3806', 'postdate': '20210922'}, {'title': '<b>완벽한 타인</b>', 'link': 'https://blog.naver.com/jay4613/222938382747', 'description': '오늘은 <b>완벽한 타인</b>이라는 영화를 봤습니다. 어쩌다 유튜브 쇼츠로 본 영상 때문에 보게 되었습니다.... 완벽하려면 더 철저하게 완벽해야 합니다. 숨기려면 완벽히 숨겨야하고 드러내려면 완벽히 드러 내는 편이... ', 'bloggername': '어떤 하루', 'bloggerlink': 'blog.naver.com/jay4613', 'postdate': '20221126'}, {'title': '<b>완벽한 타인</b> 사랑유형 CSEI 테스트 동반가형PUCS', 'link': 'https://blog.naver.com/zhtmah200/222926578326', 'description': '이번에 눈에 들어와 해본 무료심리테스트 <b>완벽한 타인</b> 사랑유형테스트 #연애유형테스트 CSEI 테스트... 커리큘럽 <b>완벽한타인</b> 테스트 당신의 사랑유형심리테스트 결과를 도출 중이라는 문구와 함께 바로 CSEI... ', 'bloggername': '♾', 'bloggerlink': 'blog.naver.com/zhtmah200', 'postdate': '20221112'}, {'title': '연극 <b>완벽한 타인</b>, 이시언 컴백작품 기대작(세종문화회관 공연)', 'link': 'https://blog.naver.com/kkjs7002/222356729718', 'description': '연극 <b>완벽한 타인</b>, 이시언 컴백작품 기대작(세종문화회관 공연) 여러분에게 걸려온 전화나 문자 카톡... 18일부터 시작된 연극 <b>완벽한 타인</b>에선 이런 다소 황당한 질문과 함께 110분동안의 이야기가 시작돼요.... ', 'bloggername': '알밤캘리', 'bloggerlink': 'blog.naver.com/kkjs7002', 'postdate': '20210519'}, {'title': '[9/17 대학로 연극] <b>완벽한 타인</b>', 'link': 'https://blog.naver.com/baby_nacho/222877058897', 'description': '<b>완벽한 타인</b> 예전에 영화로 진짜 재밌게봤는데!! 그래서 더 기대감 급상승 ㅎㅎ 언니네 어머니 만나서 반갑게 인사도 함 ㅎㅎ A구역 앞에서 네번째 줄 중간 시야! 공연장이 넓지 않아서 어디서든 잘 보일듯 ㅎ... ', 'bloggername': '박애주의', 'bloggerlink': 'blog.naver.com/baby_nacho', 'postdate': '20220917'}, {'title': '[영화/한국] <b>완벽한 타인</b> (2018) - 이재규, 이서진, 유해진... ', 'link': 'https://blog.naver.com/komoedia/222628164242', 'description': '이처럼 가까워도 완벽히 타인 그 자체인 인간들끼리 모여서 나의 본질적 자아를 상징하는 휴대전화를 공유한다면 어떻게 될까. 상상만 해도 끔찍하다. [<b>완벽한 타인</b>]은 모든 것을 터놓을 정도로 친한 이들끼리... ', 'bloggername': '대중문화예술 아고라', 'bloggerlink': 'blog.naver.com/komoedia', 'postdate': '20220122'}, {'title': '영화 <b>완벽한 타인</b>(Intimate Strangers, 2018)을 보고...', 'link': 'https://blog.naver.com/itmaster1/222290528977', 'description': '있는 <b>완벽한 타인</b>~~~ 과연 이 친구들이 가진 비밀을 친구들이 서로 공유함으로서 얻는 가치와 그냥 비밀로서 유지되는 가치가 어떤 것이 좋을까도 있을 것 같다. 하지만 사람이 타인의 시선을 의식하지... ', 'bloggername': 'itmaster1님의 블로그', 'bloggerlink': 'blog.naver.com/itmaster1', 'postdate': '20210328'}, {'title': '연극-<b>완벽한 타인</b>', 'link': 'https://blog.naver.com/red9house/222456956431', 'description': '#<b>완벽한 타인</b>, 세종문화회관 M씨어터 2021.07.27 드랴큐라는 김준수가 출연하느라 예매하기 어려웠고... 하물며 내가 아닌 타인이야 말해 무엇할 것인가. 우리가 절친이라 믿고 있는 지인도 결국엔 타인일 수 밖에... ', 'bloggername': '감사한 여유미님의 블로그', 'bloggerlink': 'blog.naver.com/red9house', 'postdate': '20210804'}, {'title': '<b>완벽한 타인</b>', 'link': 'https://blog.naver.com/skully0221/222692355441', 'description': '<b>완벽한 타인</b> 감독 이재규 출연 유해진, 조진웅, 이서진, 염정아, 김지수, 송하윤, 윤경호 개봉 2018.10.31.... 그것이 타인에 대한 예의 일까? 이 영화는 서로에게 가장 완벽한 상대인 듯 하지만 결국은 그저 또 다른... ', 'bloggername': 'coolpark의 순정만화처럼', 'bloggerlink': 'blog.naver.com/skully0221', 'postdate': '20220405'}, {'title': '<b>완벽한 타인</b>도 없습니다', 'link': 'https://blog.naver.com/skill06/222878284076', 'description': '반쪽도 완벽한 직장도 <b>완벽한 타인</b>도 없습니다 그러니 너무 고르지 마세요 부족한 부분이 있다면 시간을 갖고 함께 채워 가면 됩니다 오늘의 명언 완벽함이란 더 이상 보탤 것이 남아 있지 않을 때가 아니라 더... ', 'bloggername': '힐링', 'bloggerlink': 'blog.naver.com/skill06', 'postdate': '20220919'}, {'title': '<b>완벽한 타인</b>으로부터', 'link': 'https://blog.naver.com/eunjinid/222655239458', 'description': \"모름지기 '<b>완벽한 타인</b>'들이 모여 24시간 중에 깨어있는 대부분의 시간을 보내는 곳이라고 생각하였는데요. 현재 직장의 경우 이 개성넘치는 <b>완벽한 타인</b>들이 제게 주는 신선한 자극들이 처음엔 그저 새롭게만... \", 'bloggername': '프로N잡러, 열정키위', 'bloggerlink': 'blog.naver.com/eunjinid', 'postdate': '20220223'}, {'title': '연극: <b>완벽한 타인</b> 관람 후기 (세종문화회관)', 'link': 'https://blog.naver.com/yhnkm/222364881910', 'description': \"하지만 내가 관심을 가질 만한 콘서트는 1도 없었고 죄다 트롯이나 뭐 그런거 그래서 연극 쪽으로 넘어가봤는데 '<b>완벽한 타인</b>'이라는 연극이 끌려 예매하게 되어 어제 다녀왔다. 아 몇 주 전도 아니고 열흘 전에... \", 'bloggername': 'JOHNBURR TIMES', 'bloggerlink': 'blog.naver.com/yhnkm', 'postdate': '20210524'}, {'title': '영화)<b>완벽한 타인</b>', 'link': 'https://blog.naver.com/neatdoll/222927581324', 'description': '오늘 고른 영화는 배우들 각자의 연기력이 돋보시는 <b>완벽한 타인</b>(2018) 출처: 네이버 30여년의 불알... 영화 <b>완벽한 타인</b> 중에서 누구에게나 감추거나 알리고 싶지 않은 비밀스런 것이 있다. 지극히 개인적인... ', 'bloggername': '오늘은 뭐하지?', 'bloggerlink': 'blog.naver.com/neatdoll', 'postdate': '20221113'}, {'title': '<b>완벽한 타인</b>, 연극관람', 'link': 'https://blog.naver.com/power0642/222388983565', 'description': '연극 제목: <b>완벽한 타인</b> 연극관람 : 2021. 6.6(일) 저녁 6시 동행: 극단 메카네 대표 창환, 드라마 작가인... 무대막 전환없이 런웨이로 극이 진행되었다. #세종문화회관 #세종M씨어터 #광화문 #<b>완벽한</b>_<b>타인</b>', 'bloggername': '순간순간 충만함을 향하여!', 'bloggerlink': 'blog.naver.com/power0642', 'postdate': '20210607'}, {'title': '<b>완벽한 타인</b>( Perfect Stranger, 2018) 감상후기', 'link': 'https://blog.naver.com/kristalog92/222375513524', 'description': \"이름하여 '<b>완벽한 타인</b>' 변호사인 유해진, 전업주부 염정아 성형외과의사 조진웅, 정신과의사 김지수... 한국영화로 <b>완벽한 타인</b>을 추천한다. <b>완벽한 타인</b> 감독 이재규 출연 유해진, 조진웅, 이서진, 염정아... \", 'bloggername': '길이 있는 곳에 뜻이 있을까?', 'bloggerlink': 'blog.naver.com/kristalog92', 'postdate': '20210530'}, {'title': 'CSEI 테스트+링크, 사랑유형 MBTI <b>완벽한 타인</b>', 'link': 'https://blog.naver.com/sae0420/222927443530', 'description': '<b>완벽한 타인</b> CSEI 테스트는 본인의 사랑유형이 대해 MBTI 와 비슷하게 분석을 해주는 정말 재미있는... <b>완벽한 타인</b> 게임을 위해 만들어 졌다고 하는데 무료로 할 수 있어서 더 좋은 갓 같다. 이 테스트와 관련된... ', 'bloggername': '해피도리의 리얼 라이프♬', 'bloggerlink': 'blog.naver.com/sae0420', 'postdate': '20221113'}, {'title': '[공연 후기] 연극 <b>완벽한 타인</b> 2021-06-25 세종문화회관M', 'link': 'https://blog.naver.com/faithjjj/222410221571', 'description': '<b>완벽한 타인</b>, 은 예나 지금이나 늘 똑같았다. 지금 더 잘 숨길 수 있다고 생각하지만 한순간에 거대한 상흔을 남기고 폭발할지도 모른다. 그래서 나는 타인, 이라는 표현에는 이의가 없는 편. 그걸 드러내고... ', 'bloggername': '나무&', 'bloggerlink': 'blog.naver.com/faithjjj', 'postdate': '20210625'}, {'title': '[평행이론: 도플갱어 살인] &apos;<b>완벽한 타인</b>&apos;의 판타지 버전 (약스포)', 'link': 'https://blog.naver.com/vegeta78/222635568811', 'description': \"&lt;<b>완벽한 타인</b>&gt;이 절로 떠오른다. 오싹함과 공포의 밀도조차도 비슷하지 않을지. 그런 의미에서, &lt;Coherence&gt;는 '<b>완벽한 타인</b>+양자물리학+판타지'같은 느낌이다. 근데, 나와 같은 '나'는 정말 나와 같다고 할... \", 'bloggername': '재치있게 선 지키기', 'bloggerlink': 'blog.naver.com/vegeta78', 'postdate': '20220131'}, {'title': '오늘의 명대사(영화 <b>완벽한 타인</b>) [2022년 11월 20일]', 'link': 'https://blog.naver.com/drmvlove/222933233614', 'description': '그래서 완벽한 사람은 없고 <b>완벽한 타인</b>도 없습니다. 타인을 위해 본성을 감추겠지만 나중에 드러날 본성에 더 큰 상처를 받을 걸 알면서도요. 마치 월식처럼 말이에요.', 'bloggername': '드라마와 영화 리뷰하는 사람', 'bloggerlink': 'blog.naver.com/drmvlove', 'postdate': '20221120'}, {'title': '[book 35 - 38] 리안 모리아티 - 아홉명의 <b>완벽한 타인</b>들, 기억을... ', 'link': 'https://blog.naver.com/cocomaeng/222890333889', 'description': '제일 재미없게 읽은 아홉 명의 <b>완벽한 타인</b>들 스포가 될까봐 자세히 쓰지 못하겠는데 처음에는 여신... 앨리스가 완벽해지고, 철저해지고, 세련되지고, 날씬해진게 문제인가?? 왜 앨리스만 바뀌면 된다고... ', 'bloggername': '꼬맹자매와 함께하는 소소한 일상의 행복', 'bloggerlink': 'blog.naver.com/cocomaeng', 'postdate': '20221003'}, {'title': '오늘 본 영화&lt;<b>완벽한 타인</b>&gt;/나의 MBTI는 INFP', 'link': 'https://blog.naver.com/ldenol/222390382425', 'description': \"&lt;<b>완벽한 타인</b>&gt; <b>완벽한 타인</b> 감독 이재규 출연 유해진, 조진웅, 이서진, 염정아, 김지수, 송하윤, 윤경호 개봉 2018. 10. 31. 영화를 다 본 뒤, 제목을 두 가지로 생각해 봤다. '완벽'해 보이는 타인도 탈탈 털면... \", 'bloggername': '보석상자', 'bloggerlink': 'blog.naver.com/ldenol', 'postdate': '20210608'}, {'title': '[공연] 연극 &lt;<b>완벽한 타인</b>&gt;', 'link': 'https://blog.naver.com/gscaltexfund/222442348909', 'description': \"연극 &lt;<b>완벽한 타인</b>&gt;을 더욱 '완벽한 무대'로 만들고 있습니다. &lt;예울마루 공연 요일별 라인업&gt; 그럼 멋진 공연으로 안전하게! 찾아뵙겠습니다! 우리 모두 건강하게 만나요~ 꼭이요~ [공연 정보] ▼▼▼ 예울마루... \", 'bloggername': 'GS칼텍스 예울마루', 'bloggerlink': 'blog.naver.com/gscaltexfund', 'postdate': '20210723'}, {'title': '영화 &lt;<b>완벽한 타인</b>&gt; 대사, 아빠가 딸에게 해주는 말.', 'link': 'https://blog.naver.com/yesrosy/222920535950', 'description': '오늘, 인스타에서 <b>완벽한 타인</b>의 한 장면을 보았다. 굳이 찾아본 건 아니고, 그냥 보인 것 . 그리고 이미 본 영화다. 딸 : 아빠 지금 통화 가능하세요? 아빠 : 그럼 ~ 얘기해 딸 : 오빠가 ~ 내일모레 군대가요. 그래서... ', 'bloggername': '로지네', 'bloggerlink': 'blog.naver.com/yesrosy', 'postdate': '20221105'}, {'title': '백S5+18. <b>완벽한 타인</b> (Intimate Strangers, 2018)', 'link': 'https://blog.naver.com/bbting2/222633524871', 'description': '완벽하다. 그렇게 만난 영화 중 하나가 이것이다. 좋아하는 배우가 나오는데도 불구하고 지금까지 미뤄온 건 뻔한 이야기로 느껴졌기 때문이다. <b>완벽한 타인</b> 감독 이재규 출연 유해진, 조진웅, 이서진, 염정아... ', 'bloggername': '왈츠서사 횡단기', 'bloggerlink': 'blog.naver.com/bbting2', 'postdate': '20220128'}, {'title': '[책] 리안 모리아티-아홉 명의 <b>완벽한 타인</b>들', 'link': 'https://blog.naver.com/ggg1677/222803907385', 'description': '아홉 명의 <b>완벽한 타인</b>들 저자 리안 모리아티 출판 마시멜로 발매 2019.10.25. 진지하게 또는 가벼운 마음으로 다른 삶을 살고 싶었던 사람들이, 자신이 알던 모든 상식이 무너진 뒤 새로운 삶을 살게되는 이야기... ', 'bloggername': '제목 없는 블로그', 'bloggerlink': 'blog.naver.com/ggg1677', 'postdate': '20220707'}, {'title': '<b>완벽한타인</b> (영화,2018,이재규감독)', 'link': 'https://blog.naver.com/mistyi/222669596367', 'description': '제목이 왜 <b>완벽한 타인</b>인지 잘 모르겠다. 넷플릭스에서 봤다. 흥미롭게 긴장하면서 본 작품. https://www.youtube.com/watch?v=-UWdeFywycs #<b>완벽한타인</b> #넷플릭스 #스마트폰 #유해진 #염정아 #조진웅 #김지수 #이서진', 'bloggername': '難治病', 'bloggerlink': 'blog.naver.com/mistyi', 'postdate': '20220311'}, {'title': '210306-0307 공주파티  (8) <b>완벽한 타인</b> 상영회', 'link': 'https://blog.naver.com/candy108/222283490119', 'description': '볼 것이 이렇게 많지만 내가 볼 것은 없는 그런 위대한 채널이란 말씀 한참을 뭘 볼까 돌아다니다 주인공, 더 깜찍 스텔라가 추천한 <b>완벽한 타인</b>을 보기로 했다. <b>완벽한 타인</b> 감독 이재규 출연 유해진, 조진웅... ', 'bloggername': '홍이야 : 언제나와 같이 빛나리', 'bloggerlink': 'blog.naver.com/candy108', 'postdate': '20210322'}, {'title': '진남문예회관 디어마이프렌즈  <b>완벽한타인</b>  갓버터도나스', 'link': 'https://blog.naver.com/by7797/222915025916', 'description': '굽는 도나스 그속에 고메버터와 여수갓의 만남 달콤해~~~남해가는길 차속에서 한개 순삭! 남해와서 온쌤이랑 밥먹고 귀가~~ #여수리딩모임 #진남문예회관 #디어마이프렌즈 #<b>완벽한타인</b> #여수갓버터도나스 #화통', 'bloggername': '지나의 보물창고', 'bloggerlink': 'blog.naver.com/by7797', 'postdate': '20221030'}, {'title': '[영화] - <b>완벽한 타인</b>', 'link': 'https://blog.naver.com/fhsl_/222597881296', 'description': '<b>완벽한 타인</b> 감독 이재규 출연 유해진, 조진웅, 이서진, 염정아, 김지수, 송하윤, 윤경호 개봉 2018. 10. 31. #영화 #<b>완벽한타인</b> #2018 #유해진 #조진웅 #이서진 #윤경호 #염정아 #김지수 #송하윤 오랜만에 하는... ', 'bloggername': '언제나 떠나고 싶은 1인 ♡', 'bloggerlink': 'blog.naver.com/fhsl_', 'postdate': '20211218'}, {'title': '<b>완벽한 타인</b> 해석과 결말, 명대사(부엉이의 의미)', 'link': 'https://blog.naver.com/goddns7775/221405568435', 'description': '안녕하세요~ 오늘은, 영화 &lt;<b>완벽한 타인</b>&gt;에 대해 썰을 풀어보려해요 하핫. 제가 영화 리뷰는 처음 쓰는데... 윤경호 &quot;세상엔 완벽한 사람은 없다. 그래서 우리는 상처받기 쉽다&quot; -조진웅 &quot;여자는 아이폰, 남자는... ', 'bloggername': '용산댁의 야무진 블로그♡', 'bloggerlink': 'blog.naver.com/goddns7775', 'postdate': '20181126'}, {'title': '연극 <b>완벽한 타인</b> (2021.06.19 6시)', 'link': 'https://tinuviel09.tistory.com/760', 'description': '공연예술/Other Stage 연극 <b>완벽한 타인</b> (2021.06.19 6시) 누비` 2021. 6. 20. 21:57 <b>완벽한 타인</b> in 세종문화회관... 타인에게 완벽하게 솔직하고 떳떳할 수 있는 사람은 얼마나 될까. 극 속 인물들 같은 이들이 만연하지는... ', 'bloggername': '차가운 머리, 뜨거운 가슴', 'bloggerlink': 'https://tinuviel09.tistory.com/', 'postdate': '20210620'}, {'title': '<b>완벽한 타인</b> 해석 그리고 3개의 원작과 같은 결말', 'link': 'https://blog.naver.com/itcools/221460762307', 'description': '오래간만에 리클라이너 소파에서 가장 편안한 자세로 <b>완벽한 타인</b> (15세 이상 관람가), 폴라 (19세 이상... 앞에서는 세상에 둘도 없는 사이처럼 친한 척을 하지만 그 뒤에서는 타인에게 험담을 잔뜩 늘어놓은... ', 'bloggername': 'ITcools True Reviews', 'bloggerlink': 'blog.naver.com/itcools', 'postdate': '20190208'}, {'title': '시사회 이벤트 무려 1인 4석 &lt;<b>완벽한 타인</b>&gt; 롯데시네마 월드타워', 'link': 'https://blog.naver.com/bluyuna/221373414586', 'description': '바로 영화 &lt;<b>완벽한 타인</b>&gt;입니다. 드라마, 코미디 장르로 115세 관람가 115분의 상영시간을 가지고 있는... 개성 넘치는 캐릭터로 어떤 코믹함을 선사해줄지 ~ 얼른 보고 싶네요~ 영화 #<b>완벽한</b>_<b>타인</b> 어떤 영화 나면요... ', 'bloggername': '어쩜조아', 'bloggerlink': 'blog.naver.com/bluyuna', 'postdate': '20181008'}, {'title': '<b>완벽한타인</b> 결말, 너무 많이 알면 다친다', 'link': 'https://blog.naver.com/binliden/221405909719', 'description': '&quot;&quot; &quot;&quot; <b>완벽한 타인</b> 감독 이재규 출연 유해진, 조진웅, 이서진, 염정아, 김지수, 송하윤, 윤경호 개봉 2018.10.... 서로 무슨 일이든 함께 했던 죽마고우라는 것을 강조하면서도 결국 어쩔 수 없이 타인이라는 것을... ', 'bloggername': '대도무문', 'bloggerlink': 'blog.naver.com/binliden', 'postdate': '20181126'}, {'title': '독특한 코미디X완벽한 연기 호흡, &lt;<b>완벽한 타인</b>&gt; 언론 시사 반응', 'link': 'https://blog.naver.com/cine_play/221378849483', 'description': '진실을 맞닥뜨렸을 때의 감정,얼마나 타인의 진심을 아는가 등 이야깃거리도 많다. 이학후 영화 칼럼니스트 7인 7색 배우들의 완벽 호흡 &lt;<b>완벽한 타인</b>&gt; &lt;<b>완벽한 타인</b>&gt;은 유해진과 염정아, 조진웅과 김지수... ', 'bloggername': '씨네플레이', 'bloggerlink': 'blog.naver.com/cine_play', 'postdate': '20181016'}, {'title': '<b>완벽한 타인</b> 후기, 결말만 아님 더 좋았을 거 같다', 'link': 'https://blog.naver.com/luckymasiwoo/221390806030', 'description': \"&lt;<b>완벽한 타인</b>&gt; 후기 &amp; 리뷰 태수(유해진), 석호(조진웅), 준모(이서진), 영배(윤경호)는 어린 시절부터... 이미지 출처 - Naver 심리 '인간'이라는 동물 시사회를 통해 재미나다는 반응이 많았던 영화 &lt;<b>완벽한 타인</b>&gt;. 이... \", 'bloggername': '마시우가 영화 본다', 'bloggerlink': 'blog.naver.com/luckymasiwoo', 'postdate': '20181103'}, {'title': '광명 신짱과 후쿠마루 - <b>완벽한 타인</b>', 'link': 'https://blog.naver.com/phy1017/221501576235', 'description': '<b>완벽한 타인</b>을 봤습니다 영화 보는내내 영화관이 떠나갈 듯 큰소리로 웃으며 오랜만에 오장육부 운동을 했네요 소재가 소재이다 보니 뒷맛이 씁쓸하긴 하지만 제가 너무 즐겁게 웃으면서 봤으니 <b>완벽한 타인</b>의... ', 'bloggername': '후후의 식도락', 'bloggerlink': 'blog.naver.com/phy1017', 'postdate': '20190401'}, {'title': '1016  <b>완벽한 타인</b> 시사회 ★★★★☆', 'link': 'https://blog.naver.com/dogstylist/221381860710', 'description': '<b>완벽한 타인</b> 감독 이재규 출연 유해진, 조진웅, 이서진, 염정아, 김지수, 송하윤, 윤경호 개봉 2018.10.31. 대한민국 리뷰보기 1016(화) 14:00 롯데시네마 월드타워 &lt;<b>완벽한 타인</b>&gt;(2018) 시사회 ★★★★☆ 집들이... ', 'bloggername': '반이정 미술평론', 'bloggerlink': 'blog.naver.com/dogstylist', 'postdate': '20181021'}, {'title': '<b>완벽한 타인</b> * 말맛으로 버무린 민낯 까발리기', 'link': 'https://blog.naver.com/fkdnf0808/221390091844', 'description': '때로는 타인처럼 &lt;<b>완벽한 타인</b>&gt;은 지극히 현실적이고 지독한 이야기다. 각 인물을 구렁텅이로 몰아넣고 알아서 생각하라며 물음표를 던지는데 스크린 속 모습을 기본으로 상상을 보태 현실에 적용하면 오싹한... ', 'bloggername': '젤소미나의 일상다반사^^', 'bloggerlink': 'blog.naver.com/fkdnf0808', 'postdate': '20181102'}, {'title': '<b>완벽한 타인</b>, 2018', 'link': 'https://blog.naver.com/sharptheng/222130458416', 'description': '2018 국내 최고 완벽한 호러물. 월식이다! 달이 없어지내? 없어지다 어느 순간 달이 빨갛게 변하면... 유해진의 다른 작품들 <b>완벽한 타인</b> 예고편 영상 #줄거리 #내용 #호러 #코미디 #명대사 #결말 #리뷰 #반전... ', 'bloggername': '글로 듣는 영화', 'bloggerlink': 'blog.naver.com/sharptheng', 'postdate': '20201030'}, {'title': '<b>완벽한 타인</b> / 신재희', 'link': 'https://blog.naver.com/gulsame/221639670037', 'description': \"사진&lt;네이버 포토갤러리&gt;'에반'(pringles0984)님 <b>완벽한 타인</b>* 신재희 사물에도 인격이 있어 클릭하는 순간... 드러나지** <b>완벽한 타인</b>이 되기 위해 *이재규 감독의 영화 제목. **<b>완벽한 타인</b> 영화 대사에서 인용.... \", 'bloggername': '내 영혼의 깊은 곳', 'bloggerlink': 'blog.naver.com/gulsame', 'postdate': '20190905'}, {'title': '[영화산책] 평택역 CGV &quot;<b>완벽한타인</b>&quot; (전망좋은 CGV)', 'link': 'https://blog.naver.com/ymw24/221398608711', 'description': '<b>완벽한 타인</b> 내가 좋아하는 배우는 다 나온다. ㅎ 예전엔 김지수도 정말 좋아했는뎅~ <b>완벽한 타인</b> 감독 이재규 출연 유해진, 조진웅, 이서진, 염정아, 김지수, 송하윤, 윤경호 개봉 2018.10.31. <b>완벽한타인</b>.. 예전... ', 'bloggername': '\"불꽃남자의 은밀한 사생활\"', 'bloggerlink': 'blog.naver.com/ymw24', 'postdate': '20181114'}, {'title': '아홉명의 <b>완벽한 타인</b>들', 'link': 'https://blog.naver.com/1002bsh/221849003075', 'description': '내 달점  마음의 상처를 치유하기 위해 또는 자신의 상처를 외면하던 아홉명의 <b>완벽한 타인</b>들이... p.446 아홉 명의 <b>완벽한 타인</b>들 저자 리안 모리아티 출판 마시멜로 발매 2019.10.25. #아홉명의<b>완벽한타인</b>들... ', 'bloggername': 'lemonsky', 'bloggerlink': 'blog.naver.com/1002bsh', 'postdate': '20200311'}, {'title': '[ <b>완벽한 타인</b> ] 알면 다치는 어른들의 속사정', 'link': 'https://blog.naver.com/tiptop704/221386910492', 'description': '그저 적정선에서 서로를 알고 있다고 믿으며 각자가 결국에는 타인이라는 것을 받아들이며 살아가는 것이 행복한 관계의 척도라는 것을 영리하게 풀어내 주는 영화 &lt; <b>완벽한 타인</b> &gt;은 인물들간의 대화와 관계... ', 'bloggername': '잉여맘의 느리게 맛보는 세상', 'bloggerlink': 'blog.naver.com/tiptop704', 'postdate': '20181029'}, {'title': '&apos;<b>완벽한 타인</b>&apos;과 프랑스 버젼 &apos;위험한 만찬&apos;-스포없음', 'link': 'https://blog.naver.com/red7h2k/221436857212', 'description': '한국영화 #<b>완벽한타인</b>을 먼저보고 프랑스 버젼을 찾아서 봤네요. 어릴 때부터 같이 자란 네명의... 프랑스 영화 #<b>완벽한타인</b> 포스터. 폰에서 알람이 울릴 때마다 모두들 긴장하며 서로의 얼굴을 살피게 됩니다.... ', 'bloggername': '다녕 이야기', 'bloggerlink': 'blog.naver.com/red7h2k', 'postdate': '20190108'}, {'title': '아홉 명의 <b>완벽한 타인</b>들 - 리안 모리아티', 'link': 'https://blog.naver.com/queaven/222028138208', 'description': \"'아홉명의 <b>완벽한 타인</b>들' 은 2018년에 출간된 리안 모리아티의 추리소설이다. 그녀는 이번에도 다양한... 두명의 <b>완벽한 타인</b>들' 로 이름 붙여야 정확하지 않을까 싶다. 한물 간 전직베스트셀러 작가 '프랜시스... \", 'bloggername': '추리문학쪼개기', 'bloggerlink': 'blog.naver.com/queaven', 'postdate': '20200711'}, {'title': '[영화리뷰] <b>완벽한 타인</b>', 'link': 'https://blacka.tistory.com/184', 'description': '영화와 책 리뷰 [영화리뷰] <b>완벽한 타인</b> 근무시간형 2019. 1. 9. 07:00 역시나 인기있었던 영화는 한참이... <b>완벽한 타인</b> 친구, 옆자리 동료에게서 벌어질만한 일들이기에 현실감있었고, 그런 일들이 한꺼번에... ', 'bloggername': '근무시간', 'bloggerlink': 'https://blacka.tistory.com/', 'postdate': '20190109'}, {'title': '영화 [<b>완벽한 타인</b>] &lt;4/5&gt;', 'link': 'https://blog.naver.com/fojesus/221479456279', 'description': '버전인 <b>완벽한 타인</b> 을 보긴 했는데, 내용을 거의 다 알고 봐서 그런지 이 영화가 프랑스 버전인 위험한 만찬 만큼 재미있지는 않았다. <b>완벽한 타인</b>을 먼저 본 사람은 위험한 만찬이 별로라고 하던데, 내 입장에서... ', 'bloggername': 'Entertainment', 'bloggerlink': 'blog.naver.com/fojesus', 'postdate': '20190306'}, {'title': '[<b>완벽한 타인</b>] 개그 뒤에 숨긴 &apos;타인은 지옥이다&apos;', 'link': 'https://blog.naver.com/i2krs/221387623481', 'description': '다 웃고 난 뒤, 남들 몰래, 타인 몰래 내 등 뒤에 흐르는 식은 땀 하나. 코미디는 코미디인데 묘하게 식은 땀 흘리게 하는 드라마 &lt;<b>완벽한 타인</b>&gt;이다. 그때는 몰랐었다, 이게.... 소박한 홈드라마에서 인생 한 방에... ', 'bloggername': '레드써니의 Project-R', 'bloggerlink': 'blog.naver.com/i2krs', 'postdate': '20181029'}, {'title': '영화 <b>완벽한 타인</b> - 완벽한 연기자들의 막장 블랙코미디!', 'link': 'https://blog.naver.com/hikgayon/221392549411', 'description': '그런데 영화 &lt;<b>완벽한 타인</b>&gt;은 이 시나리오를 완벽한 연기자들의 연기와 캐미로 제대로 살려낸다! 사람을 빨려들어갈 수밖에 없게 만들어주는 연기자들의 연기에 일순 영화관에는 긴장감이 흘렀고, 이후... ', 'bloggername': '단단한 달걀의 쉼터~☆^-^', 'bloggerlink': 'blog.naver.com/hikgayon', 'postdate': '20181106'}, {'title': '토크 스릴러 &lt;<b>완벽한 타인</b>&gt;, 설 마무리 영화 추천', 'link': 'https://blog.naver.com/smoker3/221459289138', 'description': \"2018년 말에 개봉한 영화인 &lt;<b>완벽한 타인</b>&gt;이라는 영화다. 굉장히 좋은 영화였고, 적당히 흥행도 했지만... 그 '만약'을 테스트해서 보여 준 영화가 &lt;<b>완벽한 타인</b>&gt;이다. 그 따뜻했던 표정과 우정과 사랑은 그리... \", 'bloggername': '브레인렌탈(구 마켓ing)', 'bloggerlink': 'blog.naver.com/smoker3', 'postdate': '20190206'}, {'title': '추리소설 &lt;아홉 명의 <b>완벽한 타인</b>들&gt;', 'link': 'https://blog.naver.com/kebegos/221750387158', 'description': '▼ &lt;아홉 명의 <b>완벽한 타인</b>들&gt; 이 책은 제목 그대로 아홉 명의 타인들에 의해 사건이 생긴다. 최고의 휴양지인 평온의 집에서 각기 다른 사연의 9명의 타인들이 나타난다. 이 평온의 집에서는 핸드폰도... ', 'bloggername': '람람스러운 일상', 'bloggerlink': 'blog.naver.com/kebegos', 'postdate': '20191226'}, {'title': '아홉명의 <b>완벽한 타인</b>들', 'link': 'https://blog.naver.com/arakny/222039475870', 'description': '그리고 아홉명의 <b>완벽한 타인</b>들은 상상하지도 못했던 일을 겪게 된다. 각각의 등장인물의 시선으로 전개되는 이야기가 흥미있다. 누구나 다 타인에 대한 단편적인 이해로 갖게되는 편견도 재미있고 시간을... ', 'bloggername': '끌리는대로 살기', 'bloggerlink': 'blog.naver.com/arakny', 'postdate': '20200723'}, {'title': '<b>완벽한 타인</b>(Intimate Strangers)', 'link': 'https://blog.naver.com/newballight/221393168961', 'description': '&lt;<b>완벽한 타인</b>(Intimate Strangers)&gt; (2018/11/04 : CGV 오리) 역시 좋은 영화는 좋은 각본에 의해 좌우된다는 걸... 그래서 &lt;<b>완벽한 타인</b>&gt;은 여러 인물을 한 공간에 몰아넣은 후 몇 가지 규칙을 쥐여준 채 게임을 강제하는... ', 'bloggername': '취미학개론(趣味學槪論)', 'bloggerlink': 'blog.naver.com/newballight', 'postdate': '20181107'}]}\n"
     ]
    }
   ],
   "source": [
    "encText = urllib.parse.quote(\"완벽한 타인\")\n",
    "url = \"https://openapi.naver.com/v1/search/blog?query=\" + encText + '&display=100'\n",
    "request = urllib.request.Request(url)\n",
    "request.add_header(\"X-Naver-Client-Id\",client_id)\n",
    "request.add_header(\"X-Naver-Client-Secret\",client_secret)\n",
    "response = urllib.request.urlopen(request)\n",
    "rescode = response.getcode()\n",
    "if(rescode==200):\n",
    "    response_body = response.read().decode('utf-8')\n",
    "    result = json.loads(response_body)\n",
    "    print(result)\n",
    "else:\n",
    "    print(\"Error Code:\" + rescode)"
   ]
  },
  {
   "cell_type": "code",
   "execution_count": 35,
   "id": "07e5b4bb",
   "metadata": {},
   "outputs": [
    {
     "data": {
      "text/plain": [
       "{'title': '<b>완벽한 타인</b> 결말까지 긴장하며 잘봤다',\n",
       " 'link': 'https://blog.naver.com/leganza07/222616653130',\n",
       " 'description': '남들에게는 <b>완벽한 타인</b>이 되고 싶은 그 마음을 잘 표현한 영화가 아닌가 싶어요 그래서 사람들이 인스타 등을 통해 세상 누구보다 행복한 사람이 되는것처럼 피드를 올리게 되는것 같아요 그렇게 멋진고 완벽한... ',\n",
       " 'bloggername': 'Ten2. Style',\n",
       " 'bloggerlink': 'blog.naver.com/leganza07',\n",
       " 'postdate': '20220109'}"
      ]
     },
     "execution_count": 35,
     "metadata": {},
     "output_type": "execute_result"
    }
   ],
   "source": [
    "result['items'][0]"
   ]
  },
  {
   "cell_type": "code",
   "execution_count": 36,
   "id": "53dc3c69",
   "metadata": {},
   "outputs": [
    {
     "data": {
      "text/html": [
       "<div>\n",
       "<style scoped>\n",
       "    .dataframe tbody tr th:only-of-type {\n",
       "        vertical-align: middle;\n",
       "    }\n",
       "\n",
       "    .dataframe tbody tr th {\n",
       "        vertical-align: top;\n",
       "    }\n",
       "\n",
       "    .dataframe thead th {\n",
       "        text-align: right;\n",
       "    }\n",
       "</style>\n",
       "<table border=\"1\" class=\"dataframe\">\n",
       "  <thead>\n",
       "    <tr style=\"text-align: right;\">\n",
       "      <th></th>\n",
       "      <th>제목</th>\n",
       "      <th>링크</th>\n",
       "      <th>날짜</th>\n",
       "    </tr>\n",
       "  </thead>\n",
       "  <tbody>\n",
       "    <tr>\n",
       "      <th>0</th>\n",
       "      <td>&lt;b&gt;완벽한 타인&lt;/b&gt; 결말까지 긴장하며 잘봤다</td>\n",
       "      <td>https://blog.naver.com/leganza07/222616653130</td>\n",
       "      <td>20220109</td>\n",
       "    </tr>\n",
       "    <tr>\n",
       "      <th>1</th>\n",
       "      <td>『&lt;b&gt;완벽한 타인&lt;/b&gt;』의 『빈집』</td>\n",
       "      <td>https://jangdolbange.tistory.com/2338</td>\n",
       "      <td>20210831</td>\n",
       "    </tr>\n",
       "    <tr>\n",
       "      <th>2</th>\n",
       "      <td>위험한 만찬 vs &lt;b&gt;완벽한 타인&lt;/b&gt; / 유럽인 vs 한국인?</td>\n",
       "      <td>https://blog.naver.com/foxinthemoon/222632343769</td>\n",
       "      <td>20220126</td>\n",
       "    </tr>\n",
       "    <tr>\n",
       "      <th>3</th>\n",
       "      <td>&lt;b&gt;완벽한 타인&lt;/b&gt; 출연진 때문에 봤다가 몇 번이고 곱씹게 된 영화</td>\n",
       "      <td>https://blog.naver.com/grandheamur/222705979494</td>\n",
       "      <td>20220420</td>\n",
       "    </tr>\n",
       "    <tr>\n",
       "      <th>4</th>\n",
       "      <td>[연극] &lt;b&gt;완벽한 타인&lt;/b&gt; - 그리고... 비밀스러운 삶이 존재한다.</td>\n",
       "      <td>https://blog.naver.com/xo150/222472254512</td>\n",
       "      <td>20210816</td>\n",
       "    </tr>\n",
       "  </tbody>\n",
       "</table>\n",
       "</div>"
      ],
      "text/plain": [
       "                                           제목  \\\n",
       "0                 <b>완벽한 타인</b> 결말까지 긴장하며 잘봤다   \n",
       "1                       『<b>완벽한 타인</b>』의 『빈집』   \n",
       "2       위험한 만찬 vs <b>완벽한 타인</b> / 유럽인 vs 한국인?   \n",
       "3    <b>완벽한 타인</b> 출연진 때문에 봤다가 몇 번이고 곱씹게 된 영화   \n",
       "4  [연극] <b>완벽한 타인</b> - 그리고... 비밀스러운 삶이 존재한다.   \n",
       "\n",
       "                                                 링크        날짜  \n",
       "0     https://blog.naver.com/leganza07/222616653130  20220109  \n",
       "1             https://jangdolbange.tistory.com/2338  20210831  \n",
       "2  https://blog.naver.com/foxinthemoon/222632343769  20220126  \n",
       "3   https://blog.naver.com/grandheamur/222705979494  20220420  \n",
       "4         https://blog.naver.com/xo150/222472254512  20210816  "
      ]
     },
     "execution_count": 36,
     "metadata": {},
     "output_type": "execute_result"
    }
   ],
   "source": [
    "df = pd.DataFrame(result['items'])\n",
    "df = df.drop([\"description\",'bloggername', 'bloggerlink'], axis=1)\n",
    "df.columns = ['제목', '링크', '날짜']\n",
    "df.head()"
   ]
  },
  {
   "cell_type": "code",
   "execution_count": 37,
   "id": "69ac7bb8",
   "metadata": {},
   "outputs": [
    {
     "name": "stderr",
     "output_type": "stream",
     "text": [
      "<ipython-input-37-9caaaf367f2a>:1: UserWarning: Pandas requires version '1.4.3' or newer of 'xlsxwriter' (version '1.3.8' currently installed).\n",
      "  writer = pd.ExcelWriter('search_result_movie.xlsx')\n",
      "<ipython-input-37-9caaaf367f2a>:3: FutureWarning: save is not part of the public API, usage can give unexpected results and will be removed in a future version\n",
      "  writer.save()\n"
     ]
    }
   ],
   "source": [
    "writer = pd.ExcelWriter('search_result_movie.xlsx')\n",
    "df.to_excel(writer)\n",
    "writer.save()"
   ]
  },
  {
   "cell_type": "code",
   "execution_count": null,
   "id": "ce9fb5fc",
   "metadata": {},
   "outputs": [],
   "source": []
  }
 ],
 "metadata": {
  "kernelspec": {
   "display_name": "Python 3",
   "language": "python",
   "name": "python3"
  },
  "language_info": {
   "codemirror_mode": {
    "name": "ipython",
    "version": 3
   },
   "file_extension": ".py",
   "mimetype": "text/x-python",
   "name": "python",
   "nbconvert_exporter": "python",
   "pygments_lexer": "ipython3",
   "version": "3.8.5"
  }
 },
 "nbformat": 4,
 "nbformat_minor": 5
}
