{
 "cells": [
  {
   "cell_type": "code",
   "execution_count": 1,
   "metadata": {
    "pycharm": {
     "name": "#%%\n"
    }
   },
   "outputs": [],
   "source": [
    "from selenium import webdriver"
   ]
  },
  {
   "cell_type": "code",
   "execution_count": 2,
   "outputs": [
    {
     "name": "stderr",
     "output_type": "stream",
     "text": [
      "C:\\Users\\kbgi0\\AppData\\Local\\Temp\\ipykernel_13884\\1176268786.py:1: DeprecationWarning: executable_path has been deprecated, please pass in a Service object\n",
      "  driver = webdriver.Chrome(r\"D:\\chromedriver_win32/chromedriver.exe\")\n"
     ]
    }
   ],
   "source": [
    "driver = webdriver.Chrome(r\"D:\\chromedriver_win32/chromedriver.exe\")"
   ],
   "metadata": {
    "collapsed": false,
    "pycharm": {
     "name": "#%%\n"
    }
   }
  },
  {
   "cell_type": "code",
   "execution_count": 3,
   "outputs": [],
   "source": [
    "driver.get(\"https://www.naver.com\")"
   ],
   "metadata": {
    "collapsed": false,
    "pycharm": {
     "name": "#%%\n"
    }
   }
  },
  {
   "cell_type": "code",
   "execution_count": 4,
   "metadata": {
    "pycharm": {
     "name": "#%%\n"
    }
   },
   "outputs": [
    {
     "ename": "NoSuchWindowException",
     "evalue": "Message: no such window: target window already closed\nfrom unknown error: web view not found\n  (Session info: chrome=107.0.5304.88)\nStacktrace:\nBacktrace:\n\tOrdinal0 [0x006CACD3+2075859]\n\tOrdinal0 [0x0065EE61+1633889]\n\tOrdinal0 [0x0055B7BD+571325]\n\tOrdinal0 [0x00542E1A+470554]\n\tOrdinal0 [0x005AAA0B+895499]\n\tOrdinal0 [0x005B03F0+918512]\n\tOrdinal0 [0x005A72E3+881379]\n\tOrdinal0 [0x0057FEFD+720637]\n\tOrdinal0 [0x00580F3F+724799]\n\tGetHandleVerifier [0x0097EED2+2769538]\n\tGetHandleVerifier [0x00970D95+2711877]\n\tGetHandleVerifier [0x0075A03A+521194]\n\tGetHandleVerifier [0x00758DA0+516432]\n\tOrdinal0 [0x0066682C+1665068]\n\tOrdinal0 [0x0066B128+1683752]\n\tOrdinal0 [0x0066B215+1683989]\n\tOrdinal0 [0x00676484+1729668]\n\tBaseThreadInitThunk [0x74FD7BA9+25]\n\tRtlInitializeExceptionChain [0x772EBB3B+107]\n\tRtlClearBits [0x772EBABF+191]\n",
     "output_type": "error",
     "traceback": [
      "\u001B[1;31m---------------------------------------------------------------------------\u001B[0m",
      "\u001B[1;31mNoSuchWindowException\u001B[0m                     Traceback (most recent call last)",
      "Cell \u001B[1;32mIn [4], line 1\u001B[0m\n\u001B[1;32m----> 1\u001B[0m \u001B[43mdriver\u001B[49m\u001B[38;5;241;43m.\u001B[39;49m\u001B[43mclose\u001B[49m\u001B[43m(\u001B[49m\u001B[43m)\u001B[49m\n",
      "File \u001B[1;32mD:\\INU-LECTURE\\Jupyter-notebook\\venv\\lib\\site-packages\\selenium\\webdriver\\remote\\webdriver.py:551\u001B[0m, in \u001B[0;36mWebDriver.close\u001B[1;34m(self)\u001B[0m\n\u001B[0;32m    542\u001B[0m \u001B[38;5;28;01mdef\u001B[39;00m \u001B[38;5;21mclose\u001B[39m(\u001B[38;5;28mself\u001B[39m) \u001B[38;5;241m-\u001B[39m\u001B[38;5;241m>\u001B[39m \u001B[38;5;28;01mNone\u001B[39;00m:\n\u001B[0;32m    543\u001B[0m     \u001B[38;5;124;03m\"\"\"\u001B[39;00m\n\u001B[0;32m    544\u001B[0m \u001B[38;5;124;03m    Closes the current window.\u001B[39;00m\n\u001B[0;32m    545\u001B[0m \n\u001B[1;32m   (...)\u001B[0m\n\u001B[0;32m    549\u001B[0m \u001B[38;5;124;03m            driver.close()\u001B[39;00m\n\u001B[0;32m    550\u001B[0m \u001B[38;5;124;03m    \"\"\"\u001B[39;00m\n\u001B[1;32m--> 551\u001B[0m     \u001B[38;5;28;43mself\u001B[39;49m\u001B[38;5;241;43m.\u001B[39;49m\u001B[43mexecute\u001B[49m\u001B[43m(\u001B[49m\u001B[43mCommand\u001B[49m\u001B[38;5;241;43m.\u001B[39;49m\u001B[43mCLOSE\u001B[49m\u001B[43m)\u001B[49m\n",
      "File \u001B[1;32mD:\\INU-LECTURE\\Jupyter-notebook\\venv\\lib\\site-packages\\selenium\\webdriver\\remote\\webdriver.py:429\u001B[0m, in \u001B[0;36mWebDriver.execute\u001B[1;34m(self, driver_command, params)\u001B[0m\n\u001B[0;32m    427\u001B[0m response \u001B[38;5;241m=\u001B[39m \u001B[38;5;28mself\u001B[39m\u001B[38;5;241m.\u001B[39mcommand_executor\u001B[38;5;241m.\u001B[39mexecute(driver_command, params)\n\u001B[0;32m    428\u001B[0m \u001B[38;5;28;01mif\u001B[39;00m response:\n\u001B[1;32m--> 429\u001B[0m     \u001B[38;5;28;43mself\u001B[39;49m\u001B[38;5;241;43m.\u001B[39;49m\u001B[43merror_handler\u001B[49m\u001B[38;5;241;43m.\u001B[39;49m\u001B[43mcheck_response\u001B[49m\u001B[43m(\u001B[49m\u001B[43mresponse\u001B[49m\u001B[43m)\u001B[49m\n\u001B[0;32m    430\u001B[0m     response[\u001B[38;5;124m'\u001B[39m\u001B[38;5;124mvalue\u001B[39m\u001B[38;5;124m'\u001B[39m] \u001B[38;5;241m=\u001B[39m \u001B[38;5;28mself\u001B[39m\u001B[38;5;241m.\u001B[39m_unwrap_value(\n\u001B[0;32m    431\u001B[0m         response\u001B[38;5;241m.\u001B[39mget(\u001B[38;5;124m'\u001B[39m\u001B[38;5;124mvalue\u001B[39m\u001B[38;5;124m'\u001B[39m, \u001B[38;5;28;01mNone\u001B[39;00m))\n\u001B[0;32m    432\u001B[0m     \u001B[38;5;28;01mreturn\u001B[39;00m response\n",
      "File \u001B[1;32mD:\\INU-LECTURE\\Jupyter-notebook\\venv\\lib\\site-packages\\selenium\\webdriver\\remote\\errorhandler.py:243\u001B[0m, in \u001B[0;36mErrorHandler.check_response\u001B[1;34m(self, response)\u001B[0m\n\u001B[0;32m    241\u001B[0m         alert_text \u001B[38;5;241m=\u001B[39m value[\u001B[38;5;124m'\u001B[39m\u001B[38;5;124malert\u001B[39m\u001B[38;5;124m'\u001B[39m]\u001B[38;5;241m.\u001B[39mget(\u001B[38;5;124m'\u001B[39m\u001B[38;5;124mtext\u001B[39m\u001B[38;5;124m'\u001B[39m)\n\u001B[0;32m    242\u001B[0m     \u001B[38;5;28;01mraise\u001B[39;00m exception_class(message, screen, stacktrace, alert_text)  \u001B[38;5;66;03m# type: ignore[call-arg]  # mypy is not smart enough here\u001B[39;00m\n\u001B[1;32m--> 243\u001B[0m \u001B[38;5;28;01mraise\u001B[39;00m exception_class(message, screen, stacktrace)\n",
      "\u001B[1;31mNoSuchWindowException\u001B[0m: Message: no such window: target window already closed\nfrom unknown error: web view not found\n  (Session info: chrome=107.0.5304.88)\nStacktrace:\nBacktrace:\n\tOrdinal0 [0x006CACD3+2075859]\n\tOrdinal0 [0x0065EE61+1633889]\n\tOrdinal0 [0x0055B7BD+571325]\n\tOrdinal0 [0x00542E1A+470554]\n\tOrdinal0 [0x005AAA0B+895499]\n\tOrdinal0 [0x005B03F0+918512]\n\tOrdinal0 [0x005A72E3+881379]\n\tOrdinal0 [0x0057FEFD+720637]\n\tOrdinal0 [0x00580F3F+724799]\n\tGetHandleVerifier [0x0097EED2+2769538]\n\tGetHandleVerifier [0x00970D95+2711877]\n\tGetHandleVerifier [0x0075A03A+521194]\n\tGetHandleVerifier [0x00758DA0+516432]\n\tOrdinal0 [0x0066682C+1665068]\n\tOrdinal0 [0x0066B128+1683752]\n\tOrdinal0 [0x0066B215+1683989]\n\tOrdinal0 [0x00676484+1729668]\n\tBaseThreadInitThunk [0x74FD7BA9+25]\n\tRtlInitializeExceptionChain [0x772EBB3B+107]\n\tRtlClearBits [0x772EBABF+191]\n"
     ]
    }
   ],
   "source": [
    "driver.close()"
   ]
  }
 ],
 "metadata": {
  "kernelspec": {
   "display_name": "Python 3 (ipykernel)",
   "language": "python",
   "name": "python3"
  },
  "language_info": {
   "codemirror_mode": {
    "name": "ipython",
    "version": 3
   },
   "file_extension": ".py",
   "mimetype": "text/x-python",
   "name": "python",
   "nbconvert_exporter": "python",
   "pygments_lexer": "ipython3",
   "version": "3.9.12"
  }
 },
 "nbformat": 4,
 "nbformat_minor": 1
}