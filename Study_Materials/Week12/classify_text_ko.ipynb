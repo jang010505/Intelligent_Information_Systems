{
 "cells": [
  {
   "cell_type": "code",
   "execution_count": 1,
   "metadata": {
    "pycharm": {
     "name": "#%%\n"
    }
   },
   "outputs": [],
   "source": [
    "from konlpy.tag import Okt\n",
    "from nltk.tokenize import word_tokenize\n",
    "import nltk"
   ]
  },
  {
   "cell_type": "code",
   "execution_count": 2,
   "metadata": {
    "pycharm": {
     "name": "#%%\n"
    }
   },
   "outputs": [
    {
     "name": "stderr",
     "output_type": "stream",
     "text": [
      "[nltk_data] Downloading package punkt to\n",
      "[nltk_data]     C:\\Users\\user\\AppData\\Roaming\\nltk_data...\n",
      "[nltk_data]   Package punkt is already up-to-date!\n"
     ]
    }
   ],
   "source": [
    "nltk.download('punkt')\n",
    "okt = Okt()"
   ]
  },
  {
   "cell_type": "code",
   "execution_count": 3,
   "metadata": {
    "pycharm": {
     "name": "#%%\n"
    }
   },
   "outputs": [],
   "source": [
    "def pos_tokenize(raw_sent):\n",
    "    pos_sent = []\n",
    "\n",
    "    # raw_sent = '사과가 좋아'\n",
    "    sent = okt.pos(raw_sent, norm=True, stem=True)\n",
    "    # sent = [('사과', 'Noun'), ('가', 'Josa'), ('좋다', 'Adjective')]\n",
    "\n",
    "    for tup in sent:\n",
    "        word, tag = tup[0], tup[1]\n",
    "        word_tag = word + '/' + tag\n",
    "        pos_sent.append(word_tag)\n",
    "\n",
    "    return ' '.join(pos_sent)"
   ]
  },
  {
   "cell_type": "code",
   "execution_count": 4,
   "metadata": {
    "pycharm": {
     "name": "#%%\n"
    }
   },
   "outputs": [],
   "source": [
    "# 데이터 입력 - 한국어\n",
    "train = [('사과가 좋아', 'pos'), ('밤에 먹는 사과는 비추야', 'neg'),\n",
    "         ('사과가 잘 익어서 맛있겠다', 'pos')]"
   ]
  },
  {
   "cell_type": "code",
   "execution_count": 5,
   "metadata": {
    "pycharm": {
     "name": "#%%\n"
    }
   },
   "outputs": [
    {
     "name": "stdout",
     "output_type": "stream",
     "text": [
      "{'좋다/Adjective', '가/Josa', '는/Josa', '사과/Noun', '자다/Verb', '익다/Verb', '먹다/Verb', '에/Josa', '비추다/Verb', '맛있다/Adjective', '밤/Noun'}\n"
     ]
    }
   ],
   "source": [
    "# train에 있는 문장의 단어 set 만들기\n",
    "# set()을 이용해 집합 만들기\n",
    "all_words = set()\n",
    "\n",
    "for tup in train:\n",
    "    sent, label = tup[0], tup[1]\n",
    "    sent = pos_tokenize(sent)\n",
    "    words = word_tokenize(sent)\n",
    "\n",
    "    for word in words:\n",
    "        all_words.add(word)\n",
    "\n",
    "print(all_words)"
   ]
  },
  {
   "cell_type": "code",
   "execution_count": 6,
   "metadata": {
    "pycharm": {
     "name": "#%%\n"
    }
   },
   "outputs": [
    {
     "name": "stdout",
     "output_type": "stream",
     "text": [
      "({'좋다/Adjective': True, '가/Josa': True, '는/Josa': False, '사과/Noun': True, '자다/Verb': False, '익다/Verb': False, '먹다/Verb': False, '에/Josa': False, '비추다/Verb': False, '맛있다/Adjective': False, '밤/Noun': False}, 'pos')\n",
      "({'좋다/Adjective': False, '가/Josa': False, '는/Josa': True, '사과/Noun': True, '자다/Verb': False, '익다/Verb': False, '먹다/Verb': True, '에/Josa': True, '비추다/Verb': True, '맛있다/Adjective': False, '밤/Noun': True}, 'neg')\n",
      "({'좋다/Adjective': False, '가/Josa': True, '는/Josa': False, '사과/Noun': True, '자다/Verb': True, '익다/Verb': True, '먹다/Verb': False, '에/Josa': False, '비추다/Verb': False, '맛있다/Adjective': True, '밤/Noun': False}, 'pos')\n"
     ]
    }
   ],
   "source": [
    "# 각 문장에 단어 집합 안의 단어의 존재 여부 표현\n",
    "train_features = []\n",
    "\n",
    "for tup in train:\n",
    "    sent, label = tup[0], tup[1]\n",
    "    sent = pos_tokenize(sent)\n",
    "    words = word_tokenize(sent)\n",
    "\n",
    "    tmp = {set_word: (set_word in words) for set_word in all_words}\n",
    "\n",
    "    sent_tup = (tmp, label)\n",
    "    train_features.append(sent_tup)\n",
    "\n",
    "# 단어 등장 순서 무시 -> 빈도만 사용, 실행할 때마다 단어 순서 바뀜\n",
    "print(train_features[0])\n",
    "print(train_features[1])\n",
    "print(train_features[2])"
   ]
  },
  {
   "cell_type": "code",
   "execution_count": 7,
   "metadata": {
    "pycharm": {
     "name": "#%%\n"
    }
   },
   "outputs": [
    {
     "name": "stdout",
     "output_type": "stream",
     "text": [
      "Most Informative Features\n",
      "           맛있다/Adjective = False             neg : pos    =      1.5 : 1.0\n",
      "                 익다/Verb = False             neg : pos    =      1.5 : 1.0\n",
      "                 자다/Verb = False             neg : pos    =      1.5 : 1.0\n",
      "            좋다/Adjective = False             neg : pos    =      1.5 : 1.0\n"
     ]
    }
   ],
   "source": [
    "# 단어별 확률 계산\n",
    "classifier = nltk.NaiveBayesClassifier.train(train_features)\n",
    "classifier.show_most_informative_features() # 긍정/부정을 계산하는데 가장 영향력있는 단어는 무엇인가?"
   ]
  },
  {
   "cell_type": "code",
   "execution_count": 16,
   "metadata": {
    "pycharm": {
     "name": "#%%\n"
    }
   },
   "outputs": [
    {
     "name": "stdout",
     "output_type": "stream",
     "text": [
      "{'좋다/Adjective': False, '가/Josa': False, '는/Josa': True, '사과/Noun': True, '자다/Verb': False, '익다/Verb': False, '먹다/Verb': False, '에/Josa': False, '비추다/Verb': True, '맛있다/Adjective': False, '밤/Noun': False}\n"
     ]
    },
    {
     "data": {
      "text/plain": [
       "'neg'"
      ]
     },
     "execution_count": 16,
     "metadata": {},
     "output_type": "execute_result"
    }
   ],
   "source": [
    "# 테스트\n",
    "test_sent = \"사과는 비추다\"\n",
    "\n",
    "test_sent = pos_tokenize(test_sent)\n",
    "words = word_tokenize(test_sent)\n",
    "test_feature = {set_word: (set_word in words) for set_word in all_words}\n",
    "\n",
    "print(test_feature)\n",
    "classifier.classify(test_feature)"
   ]
  },
  {
   "cell_type": "code",
   "execution_count": null,
   "metadata": {},
   "outputs": [],
   "source": []
  }
 ],
 "metadata": {
  "kernelspec": {
   "display_name": "Python 3 (ipykernel)",
   "language": "python",
   "name": "python3"
  },
  "language_info": {
   "codemirror_mode": {
    "name": "ipython",
    "version": 3
   },
   "file_extension": ".py",
   "mimetype": "text/x-python",
   "name": "python",
   "nbconvert_exporter": "python",
   "pygments_lexer": "ipython3",
   "version": "3.9.12"
  }
 },
 "nbformat": 4,
 "nbformat_minor": 1
}
