{
 "cells": [
  {
   "cell_type": "code",
   "execution_count": 14,
   "outputs": [],
   "source": [
    "from konlpy.tag import Okt\n",
    "from nltk.tokenize import word_tokenize\n",
    "import nltk\n",
    "from urllib.request import urlretrieve"
   ],
   "metadata": {
    "collapsed": false,
    "pycharm": {
     "name": "#%%\n"
    }
   }
  },
  {
   "cell_type": "code",
   "execution_count": 15,
   "outputs": [],
   "source": [
    "okt = Okt()"
   ],
   "metadata": {
    "collapsed": false,
    "pycharm": {
     "name": "#%%\n"
    }
   }
  },
  {
   "cell_type": "code",
   "execution_count": 16,
   "metadata": {
    "collapsed": true,
    "pycharm": {
     "name": "#%%\n"
    }
   },
   "outputs": [],
   "source": [
    "def load_data(file_path):\n",
    "    # file_path에 있는 데이터를 읽어 옴\n",
    "\n",
    "    train = []\n",
    "    count = 0\n",
    "\n",
    "    with open(file_path, 'r', encoding='utf-8') as f:\n",
    "        for line in f.readlines():\n",
    "            if count == 500: break\n",
    "\n",
    "            line = line.strip()\n",
    "            id, doc, label = line.split('\\t')\n",
    "\n",
    "            if label == '1': label = 'pos'\n",
    "            elif label == '0': label = 'neg'\n",
    "            train.append((doc, label))\n",
    "\n",
    "            count += 1\n",
    "\n",
    "    return train"
   ]
  },
  {
   "cell_type": "code",
   "execution_count": 17,
   "outputs": [],
   "source": [
    "def pos_tokenize(raw_sent):\n",
    "    pos_sent = []\n",
    "    sent = okt.pos(raw_sent, norm=True, stem=True)\n",
    "\n",
    "    for tup in sent:\n",
    "        word, tag = tup[0], tup[1]\n",
    "        word_tag = word + '/' + tag\n",
    "        pos_sent.append(word_tag)\n",
    "\n",
    "    return ' '.join(pos_sent)"
   ],
   "metadata": {
    "collapsed": false,
    "pycharm": {
     "name": "#%%\n"
    }
   }
  },
  {
   "cell_type": "code",
   "execution_count": 18,
   "outputs": [
    {
     "name": "stdout",
     "output_type": "stream",
     "text": [
      "[('document', 'label'), ('굳 ㅋ', 'pos'), ('GDNTOPCLASSINTHECLUB', 'neg'), ('뭐야 이 평점들은.... 나쁘진 않지만 10점 짜리는 더더욱 아니잖아', 'neg'), ('지루하지는 않은데 완전 막장임... 돈주고 보기에는....', 'neg')]\n"
     ]
    }
   ],
   "source": [
    "# test_sent = urlretrieve(\"https://github.com/e9t/nsmc/raw/master/ratings_test.txt\", filename=\"ratings_test.txt\")\n",
    "\n",
    "test_sent = load_data('ratings_test.txt')\n",
    "print(test_sent[:5])"
   ],
   "metadata": {
    "collapsed": false,
    "pycharm": {
     "name": "#%%\n"
    }
   }
  },
  {
   "cell_type": "code",
   "execution_count": 19,
   "outputs": [
    {
     "name": "stdout",
     "output_type": "stream",
     "text": [
      "{'이별/Noun', '긁다/Verb', '가다/Verb', '김희선/Noun', '글쎄/Noun', '전/Noun', '나가다/Verb', '일본/Noun', '이쁘다/Adjective', '다미앙/Noun', '스릴러/Noun', '패권/Noun', '순수/Noun', '정점/Noun', '이만/Noun', '또는/Adverb', '순위/Noun', '8/Number', '들보/Noun', '아직도/Adverb', '부활/Noun', '참고/Noun', '하얗다/Adjective', '웃기다/Verb', '본적/Noun', '영화배우/Noun', '소품/Noun', '소통/Noun', '80~90년/Number', '장난/Noun', '연/Modifier', '속편/Noun', '뭐병/Noun', '대로/Josa', '슈래기/Noun', '-_-', '스탈/Noun', '로망스/Noun', '쯤/Suffix', '계/Suffix', '만/Noun', '장가/Noun', '폭발/Noun', '청춘/Noun', 'C/Alpha', '흘러나오다/Verb', '읽다/Verb', '아름답다/Adjective', '조카/Noun', '로/Noun', '옆/Noun', '감싸다/Verb', '비/Noun', '몇/Noun', '조잡하다/Adjective', '건빵/Noun', '예술/Noun', '땐/Noun', '사이코패스/Noun', '보신/Noun', '이란/Josa', '과소/Noun', '욕/Noun', '씩/Suffix', 'ㅉㅉ/KoreanParticle', '깨뜨리다/Verb', '자극/Noun', '헷/Noun', '신선하다/Adjective', '소/Modifier', '껄껄/Noun', '말다/Verb', '오래되다/Adjective', '차원/Noun', '쓰다/Verb', '떠올리다/Verb', '소녀/Noun', '화판/Noun', '한번/Noun', '목숨/Noun', 'EBS/Alpha', '질/Noun', '물론/Adverb', 'ㅐ/KoreanParticle', '내/Determiner', '쥐다/Verb', '뿜어내다/Verb', '모두/Noun', '어이/Noun', '30/Number', '전세계/Noun', '다르다/Adjective', '즈음/Noun', '주군의태양/Noun', '법조인/Noun', 'ㅡ/KoreanParticle', '본/Modifier', '젊다/Adjective', '이야기/Noun', '지저분하다/Adjective', '직장/Noun', '기/Noun', '하지만/Conjunction', '담다/Verb', '국가/Noun', '후속작/Noun', '만들기/Noun', '소개/Noun', '으으윽/Adverb', '타인/Noun', '스토리/Noun', '마모루/Noun', '꽃/Noun', '그래도/Adverb', '헤라클레스/Noun', '대다/Verb', '까지/Josa', '난생처음/Noun', '말/Noun', '것임/Noun', '조종사/Noun', '롭/Noun', '바지/Noun', '부산/Noun', '부치다/Verb', '라는/Josa', '이/Suffix', '미지/Noun', '다니다/Verb', '쌩뚱맞다/Noun', '캐스팅/Noun', '메트로폴리탄/Noun', '좀글/Noun', '몸/Noun', '케이스/Noun', '더욱/Noun', '멋진날/Noun', '속지/Noun', '쯤/Foreign', '깊다/Adjective', '..', '살아가다/Verb', '개인/Noun', '맘/Noun', '궁금하다/Adjective', '한계/Noun', '눈/Noun', '슬프다/Adjective', '우와/Exclamation', '요괴/Noun', '늘다/Verb', '들이다/Verb', '집중/Noun', '0/Number', '사라지다/Verb', '라이언/Noun', '끌리다/Verb', '속/Noun', '어리다/Verb', '쉬리/Noun', '이입/Noun', '바뀌다/Verb', '아무렇다/Adjective', '서/Josa', '진심/Noun', '목잡/Noun', '시키다/Verb', '애/Noun', '애플렉/Noun', '회색/Noun', '전쟁/Noun', '단/Noun', '무리하다/Adjective', '적다/Verb', '오랜/Modifier', '의/Josa', '타임/Noun', '연기/Noun', '스콜/Noun', '빛나다/Verb', '마트/Noun', '꼭/Noun', '주저리주저리/Adverb', '저/Determiner', '잼/Noun', '판단/Noun', '개막/Noun', 'ㅋ/KoreanParticle', '시점/Noun', '미쉘/Noun', '젊음/Noun', '대로는/Josa', '계산/Noun', '텅/Noun', '그렇다고/Conjunction', '조음/Noun', '그러나/Conjunction', '바람/Noun', '무리/Noun', '보다는/Josa', '나니아/Noun', '미치다/Adjective', '2/Number', '줄거리/Noun', '찬/Noun', '셍/Noun', '시절/Noun', '사랑/Noun', '소탕/Noun', '조인성/Noun', '뿐/Suffix', '분/Noun', '형님/Noun', '감/Noun', '칠하다/Adjective', '나이스/Noun', '다해/Noun', '화면/Noun', '과정/Noun', '꺅/Adverb', '너무나도/Adverb', '움/Noun', '인기/Noun', '언제/Noun', '기쁘다/Adjective', '한심하다/Adjective', '메시지/Noun', '시청률/Noun', '최고/Noun', '방송/Noun', '매주/Adverb', '폐인/Noun', '신분/Noun', '봉착/Noun', '101/Number', '욕심/Noun', '감정이입/Noun', '오르다/Verb', '가치/Noun', '구해/Noun', '비추다/Verb', 'ㄷㄷ/KoreanParticle', '뭐/Exclamation', '맨/Modifier', '대한/Noun', 'ㄱ/KoreanParticle', '^/Punctuation', '심하다/Adjective', 'ㄹㄹ/KoreanParticle', '극치/Noun', '흘리다/Verb', '마무리/Noun', '노력/Noun', '빛/Noun', '인형/Noun', \"'/Punctuation\", '원조/Noun', '세기/Noun', '찾아보다/Verb', '몰입/Noun', '북한/Noun', '돈키호테/Noun', '소간/Noun', '빌리다/Verb', '로멘/Noun', '교인/Noun', '6/Number', '유부녀/Noun', '구체/Noun', '제발/Noun', '하고도/Josa', '태도/Noun', '교훈/Noun', '무섭다/Adjective', '부담스럽다/Adjective', '다른/Noun', '이면/Noun', '인격/Noun', '보이/Noun', '극장/Noun', '신나다/Adjective', '적나라/Noun', '갈고리/Noun', '적응/Noun', '우연히/Adverb', '끝/Noun', '으로서/Josa', '적당하다/Adjective', '메세지/Noun', '2012년/Number', '아메리칸/Noun', '탕웨이/Noun', '목표/Noun', '보단/Josa', '소위/Noun', '폭풍/Noun', '사투리/Noun', '볼땐/Noun', '기쁨/Noun', '노파/Noun', '혼자/Noun', '인양/Noun', '시즌/Noun', '킬링/Noun', '학교/Noun', '벨/Modifier', '길다/Adjective', '오지/Noun', '만들다/Verb', '냐/Josa', '끔찍하다/Adjective', '간결하다/Adjective', '으론/Josa', '아내/Noun', '밖에는/Josa', '군/Suffix', '오프닝/Noun', '함/Noun', '어미/Noun', '솔직하다/Adjective', '처럼/Noun', '베스트/Noun', 'OST/Alpha', '재밌다/Adjective', '업슴/Noun', '손바닥/Noun', '소원/Noun', '애니/Noun', '뜸/Noun', '만으로도/Josa', '내다보다/Verb', '볼거리/Noun', ',', '총/Noun', '귀요미/Noun', '타/Modifier', '^^/Punctuation', '당/Suffix', '오시/Noun', '액션영화/Noun', '다니엘/Noun', '죠/Noun', '미소/Noun', '음악/Noun', '두/Josa', '이상하다/Adjective', '성격/Noun', '토사/Noun', '반딧불/Noun', '난간/Noun', '탈출/Noun', '4년/Number', '닿다/Verb', '충고/Noun', '짜증나다/Adjective', '10분/Number', '꾸미다/Verb', '평등하다/Adjective', '극/Suffix', '몸매/Noun', 'vs/Alpha', '사건/Noun', '한다는/Modifier', '브로큰/Noun', '전달/Noun', '공포/Noun', '저따위/Noun', '배설/Noun', '렷습/Noun', '권/Suffix', '찾기/Noun', '만이/Noun', '노인/Noun', '선/Noun', '저만/Modifier', '인가/Josa', '작살/Noun', '재미없다/Adjective', '틱/Suffix', '생각/Noun', '타임스/Noun', '여운/Noun', '거리/Noun', '아주/Noun', '웃음/Noun', '묘/Noun', '대단하다/Adjective', '자연/Noun', '남지/Noun', '경상도/Noun', '압권/Noun', '.......', '지혜/Noun', '나쁘다/Adjective', '수없이/Adverb', '심심하다/Adjective', '혐오/Noun', '칠이/Noun', '곰/Noun', '일회용/Noun', '거인/Noun', '중하/Noun', '어의/Noun', '파워/Noun', '후/Noun', '끝내주다/Adjective', '기리/Noun', '한국영/Noun', '@', '주기/Noun', '이상/Noun', '흰둥이/Noun', '뀌/Noun', '더빙/Noun', '실제/Noun', '망작/Noun', '더/Noun', '의외로/Adverb', '잠바/Noun', '쏘다/Verb', '재수없다/Adjective', '에서도/Josa', '바라보다/Verb', '대/Suffix', '션/Noun', '나레이션/Noun', '나이라/Noun', '.', '수작/Noun', '선리기연/Noun', '듀브/Noun', '현/Modifier', '올리다/Verb', '흥행/Noun', '음슴다/Verb', '뭐라다/Verb', '발휘/Noun', '소년/Noun', '게임/Noun', '으로만/Josa', '방안/Noun', '비교/Noun', '간만/Noun', '엔딩/Noun', '제시카/Noun', '불가/Noun', '참신하다/Adjective', '기세/Noun', '시/Modifier', '진짜/Noun', '초한지/Noun', '가끔/Noun', '작가/Noun', '아래/Noun', '중요하다/Adjective', '가려지다/Verb', '코헨/Noun', '상상력/Noun', '바우어/Noun', '나르다/Verb', '돌려주다/Verb', '섬세하다/Adjective', '케빈/Noun', '사극/Noun', '아프다/Adjective', '발연기/Noun', '판타스틱/Noun', '짜이다/Verb', '언론플레이/Noun', '애매하다/Adjective', '갈수록/Noun', '2001년/Number', '경제학자/Noun', '맞다/Verb', '마법/Noun', '아직/Adverb', '펑퍼짐하다/Adjective', '승리/Noun', '~', '품/Noun', '되돌리다/Verb', '대해/Noun', '힘드다/Adjective', '접/Noun', '애로/Noun', '하고/Josa', '꺅꺅/Adverb', '2천만/Number', '반갑다/Adjective', '꽂히다/Verb', '이민호/Noun', '부스/Noun', '할아버지/Noun', 'ㅠ/KoreanParticle', '싫어지다/Adjective', '참으로/Noun', '김민/Noun', '단연/Noun', '잊다/Verb', '이영화/Noun', '굿굿/Noun', '스타일/Noun', '삼류/Noun', '종로/Noun', '다소/Noun', '완벽하다/Adjective', '야/Josa', '캬악/Noun', '황정민/Noun', '런스/Noun', '거지/Noun', '을/Josa', '속이다/Verb', '오광록/Noun', '충분하다/Adjective', '다가오다/Verb', '마인드/Noun', '언제나/Adverb', '더지니어스/Noun', '남자/Noun', '진하다/Adjective', '크보/Noun', '바로/Noun', '를/Noun', '전하/Noun', '얼른/Noun', '털/Noun', '지혜롭/Noun', '여기/Noun', '20년/Number', '로는/Josa', '펭귄/Noun', '후의/Noun', '머리/Noun', '용/Noun', '작/Noun', '공포영화/Noun', '기대/Noun', '바이러스/Noun', '당시/Noun', '흔들리다/Verb', '셰익스피어/Noun', '주먹/Noun', '자의식/Noun', '긴박하다/Adjective', '죠/Josa', '으로써/Josa', '낮다/Adjective', '결론/Noun', '잼잼잼/Noun', '이제껏/Noun', '멋지다/Adjective', '수익/Noun', '난/Noun', '천황/Noun', '책/Noun', '물/Noun', '애드/Noun', '날개/Noun', '늑대인간/Noun', '폐해/Noun', '하루/Noun', '말로/Noun', '꾸준하다/Adjective', '오정/Noun', '고해/Noun', '지루하다/Adjective', '대/Foreign', '숨기다/Verb', '얻다/Verb', '무겁다/Adjective', '심각하다/Adjective', '다/Adverb', '일관/Noun', '중요/Noun', '유심/Noun', '한/Determiner', '시원하다/Adjective', '괜찮다/Adjective', '로운/Josa', '예상/Noun', '총/Modifier', '믿다/Verb', 'document/Alpha', '배다/Verb', '짱/VerbPrefix', '이딴/Modifier', '인생/Noun', '잔인함/Noun', '가볍다/Adjective', '송선미/Noun', '감성/Noun', '진정하다/Adjective', '싸랑/Noun', '여름/Noun', '회상/Noun', '~~/Punctuation', '시나리오작가/Noun', '너무/Adverb', '법/Noun', '울림/Noun', '독립영화/Noun', '인물/Noun', '챔프/Noun', '이번/Noun', '줌/Noun', '남아돌다/Verb', '3/Number', '고급스럽다/Adjective', '지적/Noun', '달려가다/Verb', '엔/Josa', '치고는/Josa', '자체/Noun', '미화/Noun', '조/Noun', '멜로/Noun', '노다메/Noun', '한테/Josa', '끌벌쩍/Noun', '발코니/Noun', '천하/Noun', '불륜/Noun', '따다/Verb', '액션/Noun', '먼저/Noun', '높다/Adjective', '얼/Noun', '아보/Noun', '그냥/Modifier', '앵글/Noun', '뒤/Noun', '순/Modifier', '끊기다/Verb', '만/Modifier', '색깔/Noun', '한/Josa', '생활/Noun', '만화/Noun', '소화/Noun', '추하다/Adjective', '코스트/Noun', '거부/Noun', '잼밌/Noun', '질리다/Verb', '덥다/Adjective', '드라마/Noun', '지겹다/Adjective', 'ㅋㅋㅋ/KoreanParticle', '실망/Noun', '망하다/Adjective', '괜히/Adverb', '놀래다/Adjective', '았/Noun', '린줄/Noun', '훨씬/Adverb', '오억만배/Noun', '악당/Noun', '숭고하다/Adjective', '은행/Noun', '약간/Noun', '1시간/Number', '방화/Noun', '모든/Noun', '인/Josa', '역사/Noun', '글쌔/Noun', '키/Noun', '노잼/Noun', '외/Noun', '다른/Modifier', '정신/Noun', '온/Noun', '런/Noun', '없다/Adjective', '등/Noun', 'D/Alpha', '세븐/Noun', '환상/Noun', '초기/Noun', '별/Noun', '은/Noun', '마지막/Noun', '팀/Noun', '라면/Noun', '성현아/Noun', '♡/Foreign', '허접스럽다/Adjective', '졸리다/Verb', '튀어나오다/Verb', '까메오/Noun', '들어서다/Verb', '닦다/Verb', '칠/Noun', '먹히다/Verb', '단조롭다/Adjective', '난체/Noun', '이라는/Josa', '비구니/Noun', '뭘/Noun', '계기/Noun', 'GDNTOPCLASSINTHECLUB/Alpha', '에요/Josa', '싶다/Verb', '짜다/Verb', '생각나다/Verb', '지키다/Verb', '라울/Noun', '용하다/Adjective', '보통/Noun', '강/Noun', '보더/Noun', '왕초/Noun', '실적/Noun', '나체/Noun', '막장/Noun', '한국/Noun', '상상/Noun', '하아/Exclamation', '잔잔하다/Adjective', '집합소/Noun', '이즈/Noun', '좋다/Adjective', '나오다/Verb', '꼽/Noun', '아끼다/Verb', '알다/Verb', '노동자/Noun', '따로/Adverb', '전개/Noun', '슈렉/Noun', '시도/Noun', '이나마/Josa', '포기/Noun', '결제/Noun', '//Punctuation', '살리다/Verb', '이츠키/Noun', '흘러가다/Verb', '파스타/Noun', '-', \"'\", '나이트메어/Noun', '엔진/Noun', '클럽/Noun', '수채화/Noun', '영국/Noun', '1억/Number', '분위기/Noun', '썸/Noun', '별/Modifier', '빠르다/Adjective', '추다/Verb', '삶다/Verb', '어거지/Noun', '역겹다/Adjective', '퀴어/Noun', '젖다/Verb', '놓다/Verb', '급/Noun', '백만불/Noun', '적/Suffix', '無/Foreign', '마다/Josa', '팬/Noun', '이제/Noun', '정의/Noun', '개판/Noun', '오만/Noun', '와아/Exclamation', '한자/Noun', '안보/Noun', '자연스럽다/Adjective', '매기/Noun', '처/Noun', '줄다리기/Noun', '도서/Noun', '평론/Noun', '예쁘다/Adjective', '박신양/Noun', '보고오다/Verb', '비운/Noun', '지/Modifier', '형편/Noun', '피기/Noun', '영활/Noun', '소재/Noun', '이다/Adjective', '밖/Noun', '악마/Noun', '무슨/Noun', '격전/Noun', '손가락/Noun', '찰나/Noun', '몬스터/Noun', '퐁당/Noun', '협객/Noun', '금요일/Noun', '주다/Verb', '개독/Noun', '일상/Noun', '똥구멍/Noun', '이기/Noun', '첫/Modifier', '충족/Noun', '덫/Noun', '박수/Noun', '아픔/Noun', '무/Noun', '고은정/Noun', '고뇌/Noun', '인거/Josa', '다르덴/Noun', '불쌍하다/Adjective', '거듭/Noun', '비우다/Verb', '뛰어나다/Adjective', '무비/Noun', '심/Noun', '억눌리다/Verb', '그런/Modifier', '왤다/Verb', '젊은이/Noun', '으로/Josa', '따뜻하다/Adjective', '서브/Noun', '가지다/Verb', '미국/Noun', '인터넷/Noun', '고/Josa', '못/Noun', '금보/Noun', 'SF/Alpha', '개다/Verb', '무기/Noun', '정도/Noun', '랄/Noun', '위해/Noun', '달튼/Noun', '달리다/Verb', '불만/Noun', '홍콩영화/Noun', '볼/Noun', '어르다/Verb', 'CG/Alpha', '슬픔/Noun', '흐르다/Verb', '식상하다/Adjective', '평준화/Noun', '한편/Noun', '하/Suffix', '재현/Noun', '협녀/Noun', '보여주다/Verb', '감명/Noun', '.....', '모/Modifier', '오직/Noun', '치/Noun', '맥가이버/Noun', '립/Noun', '어떻다/Adjective', '지배인/Noun', '잊혀지다/Verb', 'ㅎ/KoreanParticle', '넘치다/Adjective', '1/Number', '나/Josa', '그/Determiner', '관람/Noun', '이/Noun', '불다/Verb', '신랑/Noun', '크다/Verb', '그렇다/Adjective', '넘다/Verb', '의도/Noun', '잇다/Verb', '선택/Noun', 'ㅠㅠㅠ/KoreanParticle', '김태희/Noun', '끄다/Verb', '겠다/Verb', '하늘/Noun', '스릴/Noun', '불편하다/Adjective', '개잼남/Noun', '완전/Noun', '오리/Noun', '로봇/Noun', '보다/Verb', '빡치다/Adjective', '여전하다/Adjective', '세면/Noun', '시나리오/Noun', '디자인/Noun', '관객모독/Noun', '시리다/Adjective', '채안돼갑자기/Foreign', '유다인/Noun', '고개/Noun', '데어데블/Noun', '남자에게/Noun', '나은/Noun', ',/Punctuation', '에게/Josa', '짱/Modifier', '톱/Noun', '구성/Noun', '가운데/Noun', '갇히다/Verb', '코/Noun', '예술가/Noun', '제/Noun', '요요/Noun', '블랙코미디/Noun', '아주머니/Noun', '힘들다/Adjective', '신앙심/Noun', '포장/Noun', '특선/Noun', '있다/Adjective', '마틴/Noun', '생물/Noun', '훈훈하다/Adjective', '폐쇄된/Noun', '긴장감/Noun', '떤다/Verb', '너무나/Adverb', '성/Noun', '탄광/Noun', '~~^^/Punctuation', '그리스/Noun', '산/Noun', '만들어지다/Verb', '패/Noun', '100/Number', '이병훈/Noun', '턱/Noun', '학예회/Noun', '해내다/Verb', '이정진/Noun', '그래서/Adverb', '필요없다/Adjective', '영리하다/Adjective', '나왓음/Noun', '즐기다/Verb', '출연/Noun', '보기/Noun', '조합/Noun', '되어다/Verb', '이제야/Noun', '배경음악/Noun', '라고는/Josa', '심오하다/Adjective', '엉/Exclamation', '우려/Noun', '연애/Noun', '민주화/Noun', '큰코다치다/Verb', '여성성/Noun', '쓸다/Verb', '지내다/Verb', '애잔하다/Adjective', '영상/Noun', '말고/Josa', '간닷/Noun', '풍덩/Adverb', '온통/Noun', '이스트/Noun', '인내심/Noun', '연결/Noun', '안나/Noun', '만하/Noun', '진저/Noun', '간지나다/Verb', '아쉽다/Adjective', '어우/Noun', '깊이/Noun', '피/Noun', '싸구려/Noun', '평정하다/Adjective', '불쾌하다/Adjective', '과잉/Noun', '먼지/Noun', '도/Foreign', '드리다/Verb', '뱀파이어/Noun', '상/Noun', '확실하다/Adjective', '당신/Noun', '영/Modifier', 'd/Alpha', '102/Number', '엑기스/Noun', '웃다/Verb', '이성/Noun', '비종/Noun', '중년/Noun', '꽝/Noun', '커플/Noun', '뒤지다/Verb', '이고/Josa', '니까/Josa', '재다/Verb', '위/Noun', '발암/Noun', '고양이/Noun', '준/Noun', '작년/Noun', '리즈시절/Noun', '라도/Josa', '지루함/Noun', '해리포터/Noun', '여서/Josa', '벗기다/Verb', '으/Adverb', '두려움/Noun', '분출/Noun', '추천/Noun', '퀸/Noun', '라고/Josa', '흐뭇하다/Adjective', '스럽게/Josa', ';', '지금/Noun', '맛/Noun', '편도/Noun', '실소/Noun', '발전/Noun', '입생로랑/Noun', '한결같이/Adverb', '파괴/Noun', '몰락/Noun', '밉다/Adjective', '흐름/Noun', '로/Josa', '난후/Noun', '보내다/Verb', '이란시간이흘렀네요/Foreign', '안소니/Noun', '과거/Noun', '팽/Noun', '차라리/Noun', '도덕성/Noun', '사오다/Verb', '대/Modifier', '다가/Noun', '무덤/Noun', '신다/Verb', '5/Number', '가/Josa', '망/Noun', '졸잼/Noun', '찌라시/Noun', '감흥/Noun', '훨났다/Noun', '마/Noun', '퇴보하다/Adjective', '망치다/Verb', '비치/Noun', '해고/Noun', '점/Noun', '이/Foreign', '존경/Noun', '화중/Noun', '멍청하다/Adjective', 'bb/Alpha', '그렇지만/Conjunction', '거기/Noun', 'ㄷ/KoreanParticle', '않다/Verb', '편/Noun', '어렷을때/Noun', '팍팍하다/Adjective', '어디/Noun', '짜릿하다/Adjective', '우롱/Noun', '10년/Number', '또/Noun', '것/Noun', '인정/Noun', '간/Suffix', '고려/Noun', '재미나/Noun', '명품/Noun', '엉뚱하다/Adjective', '도/Josa', '피해/Noun', '다큐/Noun', '가면/Noun', 'naver.com/Email', '노처녀/Noun', '무언가/Noun', '어떻/Modifier', '신뢰/Noun', '양동근/Noun', '디테/Noun', '기다리다/Verb', '설레다/Adjective', '작아지다/Verb', '더불다/Verb', '이/Determiner', '세/Noun', '충실/Noun', '선동/Noun', '보이다/Verb', '남다/Verb', '나소/Noun', '분들/Suffix', '카드/Noun', '일일/Noun', '면/Josa', '은/Foreign', '묘사/Noun', '단어/Noun', '번은/Noun', '나름/Noun', '묻다/Verb', '2시간/Number', '점주/Noun', '물질/Noun', '되다/Verb', '이뿌다/Adjective', '멋있다/Adjective', '한채영/Noun', '기억/Noun', '행복하다/Adjective', '흠/Noun', '감사/Noun', '로그인/Noun', '만점/Noun', '아마/Noun', '문/Modifier', '그리고/Conjunction', '은/Josa', '제대로/Noun', '도라에몽/Noun', '제아/Noun', '작품/Noun', '(', '손현주/Noun', '알바생/Noun', '화/Suffix', '끼다/Verb', '파일/Noun', '과/Josa', '라서/Josa', '21/Number', '완젼/Noun', '재미있다/Adjective', '잔인하다/Adjective', 'cg/Alpha', '안되다/Adjective', '오타루/Noun', '징그럽다/Adjective', '상미/Noun', '마이너스/Noun', '잠/Noun', '만발/Noun', '창의력/Noun', '몇/Modifier', '떠들다/Verb', '레이토/Noun', '어느/Modifier', '란/Noun', '때문/Noun', '포스터/Noun', '여기다/Verb', '마치/Noun', '두/Determiner', '보지/Noun', '코미디/Noun', '이름/Noun', '포착/Noun', '굿/Noun', '씨/Suffix', '조화/Noun', '가슴/Noun', '툭툭/Noun', '추구/Noun', '걱정/Noun', '색감/Noun', '류/Noun', '최악/Noun', '파트/Noun', '공산/Noun', '울음/Noun', '생뚱맞/Noun', '엄청/Adverb', '담기다/Verb', '만/Josa', '으로도/Josa', '인척/Noun', '억지스럽다/Adjective', '힐러리/Noun', '필/Noun', '소중하다/Adjective', '대박/Noun', '지나치다/Verb', 'ㅈ/KoreanParticle', '자막/Noun', '잼슴/Noun', '안/VerbPrefix', '끝나다/Verb', '예수/Noun', '저/Noun', '맨/Noun', '세계보건기구/Noun', '최근/Noun', '를/Josa', '이율/Noun', '쌩까다/Verb', '응/Noun', '귀엽다/Adjective', 'OO/Alpha', '구/Noun', '점도/Noun', '^-^/Punctuation', '몰다/Verb', '대화/Noun', '보심/Noun', '선보이다/Verb', '놈/Noun', '문득/Noun', '법무관/Noun', '심리/Noun', '완/Noun', '분명하다/Adjective', '조차/Josa', '비웃음/Noun', '대중성/Noun', '이지만/Josa', '알바/Noun', '유행/Noun', '간다/Noun', '버튼/Noun', 'ㅡㅡ/KoreanParticle', '옳다/Adjective', '찰지구나/Noun', '갱신/Noun', '허영/Noun', '짜증/Noun', '어울리다/Verb', '한마디/Noun', '네이버/Noun', '아마추어/Noun', '두다/Verb', '부터/Noun', '가안/Noun', '--', '성/Suffix', '계획/Noun', 'But/Alpha', '김문옥/Noun', '끼/Noun', '신경/Noun', '김두한/Noun', '살아오다/Verb', '중국영화/Noun', '엽기적인그녀/Noun', '영어권/Noun', '인연/Noun', '초로/Noun', '아찔하다/Adjective', '흠/Exclamation', '전혀/Noun', '만남/Noun', '주먹질/Noun', '기억나다/Verb', '해변/Noun', '얼마나/Noun', '감동/Noun', '액스멘/Noun', '짧다/Adjective', '지상/Noun', '궁금/Noun', '답답하다/Adjective', '때/Noun', '에서/Josa', '해피엔딩/Noun', '수입/Noun', '봣다/Noun', '성장/Noun', '살/Noun', '느껴지다/Verb', '페이퍼/Noun', '깔리다/Verb', '빌어먹을/Noun', '티모시/Noun', '계시/Noun', '의문/Noun', '자기/Noun', '찾아가다/Verb', '수도/Noun', '끝내다/Verb', '애프터/Noun', '징징/Noun', '후반/Noun', '하고만/Josa', '클린트/Noun', '밥/Noun', '연애/Foreign', '아니다/Adjective', '어슬픈/Noun', '놀/Noun', '진수/Noun', '요즘/Noun', '방울/Noun', '표현/Noun', '쿡/Noun', '무조건/Noun', '아이/Noun', '어쩔/Adverb', '가리다/Verb', '에/Josa', '메딘/Noun', '마사미/Noun', '오빠/Noun', '인간/Noun', '모든/Modifier', '담배/Noun', '풀다/Verb', '빵점/Noun', '채널/Noun', '...', '조로아/Noun', '욕구/Noun', '애기/Noun', '저런/Noun', '별거/Noun', '으로부터/Josa', '매력/Noun', '군인/Noun', '조/Modifier', '우리나라/Noun', '서다/Verb', '주인/Noun', '살아나다/Verb', 'ㅇㅇ/KoreanParticle', '내용/Noun', '눈독/Noun', '당하다/Adjective', '연기자/Noun', '벌써/Noun', '느낌/Noun', '어렵다/Adjective', '어린이/Noun', '제작비/Noun', '어색하다/Adjective', '극장판/Noun', '이불/Noun', '현실/Noun', '젠/Noun', '보고/Noun', '다잡다/Verb', '쫑났다/Noun', '장치/Noun', 'b/Alpha', '해/Noun', '엇/VerbPrefix', '존재/Noun', '코믹/Noun', '회/Noun', '극/Modifier', '우리/Noun', '드/Noun', '네/Josa', '돌려차기/Noun', '오도바이/Noun', '한하유/Noun', '초딩/Noun', '라/Josa', '에지/Noun', '소수자/Noun', '건가/Noun', '필요하다/Adjective', 'sm/Alpha', '돌아보다/Verb', '급/Suffix', '새롭다/Adjective', '외계인/Noun', '에도/Josa', '최대/Noun', '시가/Noun', '탄탄하다/Adjective', '스타/Noun', '3분/Number', '이미/Adverb', '성유리/Noun', '구사해/Noun', '돈/Noun', '력/Suffix', '컴/Noun', '우드/Noun', '이하/Noun', '크게/Noun', '답니/Noun', '개개인/Noun', '관음/Noun', '쉬/Noun', '효과/Noun', '월광보합/Noun', '흡인/Noun', '뚜렷하다/Adjective', '쾌락/Noun', '인지/Josa', '제작/Noun', '6년/Number', '박다/Verb', '졸작/Noun', '이/Josa', '얘/Noun', '연출/Noun', '달달/Noun', '만나다/Verb', '비중/Noun', '노래/Noun', '요한/Noun', '바/Noun', '가지/Noun', '해리스/Noun', '그닥/Noun', '수/Noun', '강지환/Noun', 'ㅎㅎ/KoreanParticle', 'ㅠㅠ/KoreanParticle', '제임스/Noun', '제/Modifier', '개봉/Noun', '년/Noun', '딸/Noun', '가다가/Noun', '목록/Noun', '잔득/Noun', '임용/Noun', '여자애/Noun', '봄/Noun', '눈물/Noun', '낼/Noun', '조무래기/Noun', '뿐/Noun', '이에요/Josa', '인상/Noun', '훨/Noun', '상당하다/Adjective', '안에/Foreign', '로맨스/Noun', '나탈리/Noun', '요술/Noun', '북괴/Noun', '용기/Noun', '님/Suffix', '웃기/Noun', '연관/Noun', '게/Josa', '러브레터/Noun', '아무/Modifier', '진부하다/Adjective', '제목/Noun', '땜/Noun', '야하다/Adjective', '허드/Noun', '어머니/Noun', '해군/Noun', 'OOO/Alpha', '디박/Noun', '100', '도무지/Noun', '신파/Noun', '의미/Noun', '그것/Noun', '자라/Noun', '필드/Noun', '부터/Josa', '불에/Foreign', '막히다/Verb', '나/Noun', '보/Noun', '밀도/Noun', '부분/Noun', '세분/Noun', '진지하다/Adjective', '사별/Noun', '싫다/Adjective', '북/Noun', '오글오글/Adverb', '결말/Noun', '죄송하다/Adjective', '의/Noun', '와/Josa', '라지/Josa', '많다/Adjective', '用/Foreign', '가장/Noun', '어쩜/Noun', '좀/Noun', '공간/Noun', '아오이/Noun', '그저/Adverb', '둘/Noun', '흔들다/Verb', 'ㅋㄲㅈㅁ/KoreanParticle', '화려하다/Adjective', '상징/Noun', '아쉬움/Noun', '코웃음/Noun', '배신/Noun', '얼머/Noun', '뒷/Modifier', '본받다/Verb', '캡틴/Noun', '가득/Noun', '덕분/Noun', '원하다/Adjective', '깜짝깜짝/Adverb', '어줍다/Adjective', '낳다/Verb', '엄마/Noun', '아깝다/Adjective', '변화/Noun', '개/Noun', '이야/Josa', 'ㅜ/KoreanParticle', '예산/Noun', '돼다/Verb', '그려지다/Verb', '퍼/PreEomi', '기/Modifier', '^.^/Punctuation', '골/Noun', '평가/Noun', '오래/Adverb', '소설/Noun', '대동단결/Noun', '러닝/Noun', '기도/Noun', '엠비씨/Noun', '영혼/Noun', '중/Suffix', '격정/Noun', '찝찝하다/Adjective', '티비/Noun', '몰입도/Noun', '전라도/Noun', '우주/Noun', '땡/Noun', 'ost/Alpha', '우미관/Noun', '빨/Noun', '싫어하다/Adjective', '간절하다/Adjective', '부인/Noun', '내/Noun', '의리/Noun', '다섯/Noun', '양산/Noun', '짜임새/Noun', '충격/Noun', '히/Adverb', '컴플렉스/Noun', '모/Noun', '어지럽다/Adjective', '19/Number', '희망/Noun', '꺼/Suffix', '그리다/Verb', '섹스/Noun', '서울/Noun', '엉망/Noun', '예리하다/Adjective', '역시/Noun', '단시간/Noun', '시간/Noun', '가족/Noun', '든/Josa', '집/Noun', '8.5/Number', '올드함/Noun', '재빠르다/Adjective', '가라/Noun', '슈퍼맨/Noun', '댓글/Noun', '다시다/Verb', '황당하다/Adjective', '죽이다/Verb', '열등감/Noun', '쫌/Noun', '순정/Noun', '재/Noun', '이네/Josa', '굳다/Adjective', '찡하다/Adjective', '케이블/Noun', '사만/Noun', '원작/Noun', '정/Noun', '지다/Verb', '신기록/Noun', '주제/Noun', '어설프다/Adjective', '....', '생기다/Verb', '기분/Noun', '모습/Noun', '변신/Noun', '일행/Noun', '수리/Noun', '땅/Noun', '연속/Noun', '실화/Noun', '일/Noun', '안이/Noun', '힘/Noun', '낭비/Noun', '구석/Noun', '내다/Verb', '애니메이션/Noun', '줄/Noun', '꼽는/Noun', '그렇게/Adverb', '름/Noun', '청소년/Noun', '그나마/Adverb', '명/Noun', '풍/Adverb', '현재/Noun', '짖다/Verb', '상영/Noun', '괴담/Noun', '행크스/Noun', '일/Modifier', '들다/Verb', '재미/Noun', '발/Noun', '평보/Noun', '하/Exclamation', 'ㅅㄱ/KoreanParticle', 'tv/Alpha', '반전/Noun', '짱/Noun', '부탁드리다/Adjective', '대체/Noun', '공허하다/Adjective', '깨다/Verb', '전/Modifier', '아무튼/Adverb', '리/Noun', '의/Foreign', '실패하다/Adjective', '함께/Adverb', '이다/Verb', '잃다/Verb', '채/Noun', '50/Number', '박준형/Noun', '한정/Noun', '뎀/Noun', 'dodadan', '잘/VerbPrefix', '제로/Noun', '별로/Noun', '한신/Noun', '시선/Noun', '챙기다/Verb', '위상/Noun', '반년/Noun', '만화영화/Noun', '앞/Noun', '모자라다/Verb', '빠지다/Verb', '도에/Foreign', '깔깔/Noun', '톰/Noun', '성함/Noun', '바르다/Verb', '편의/Noun', '남무/Noun', '훌륭하다/Adjective', '꼴/Noun', '임팩트/Noun', '피다/Verb', '아이디어/Noun', '사람/Noun', '여자/Noun', '졸다/Verb', '성하다/Adjective', '!', '어느/Adverb', '진구/Noun', '짓다/Verb', '면죄부/Noun', 'ㅋㅋ/KoreanParticle', '니/Josa', '행동/Noun', '천/Noun', '이유/Noun', '레인보우/Noun', '부/Noun', '베트남전/Noun', '같다/Adjective', '조로아크/Noun', '사다/Verb', '퉷/Noun', '랑/Josa', 'Biff/Alpha', '감정/Noun', '달다/Verb', '오도방정/Noun', '상업/Noun', '-/Punctuation', '강렬하다/Adjective', '휴/Exclamation', '편이/Noun', '감사하다/Verb', '비다/Verb', '이요원/Noun', '자다/Verb', '시대/Noun', '그림/Noun', '쇼/Noun', '홈/Noun', '배/Noun', '볼때/Noun', '언덕/Noun', '티/Noun', '맥/Noun', '헬레/Noun', '대충/Noun', '능력/Noun', '속/Modifier', '고발/Noun', '인데/Josa', '진중하다/Adjective', '무표정/Noun', '엠버/Noun', '입양/Noun', '이상은/Noun', '척/Noun', '지네/Noun', '해도/Noun', '엉엉/Noun', '이다/Josa', '시사회/Noun', '떨어지다/Verb', '해당/Noun', '도저히/Noun', '도사/Noun', '극적/Noun', \"''\", '/Number', '지나다/Verb', '돋보이다/Verb', '착하다/Adjective', '갈다/Verb', '딱/Adverb', '얼굴/Noun', '히스테리/Noun', '게다가/Noun', '유우/Noun', '울리다/Verb', '씬/Noun', '10/Number', '지/Josa', '핧으/Noun', '유발/Noun', '모건/Noun', '빨리/Adverb', '왜그러지/Noun', '영화/Noun', '무엇/Noun', '착오/Noun', '쟁이/Suffix', '엄청나다/Adjective', '숀튼/Noun', '액숑/Noun', '서버/Noun', '이토준지/Noun', '_-/Punctuation', '대안/Noun', '류작/Noun', '요/Josa', '죽음/Noun', '노답/Noun', '갠/Noun', '짱/Suffix', '乃/Foreign', '만으로/Josa', '엿/Noun', '거/Noun', '하나/Noun', '하여금/Adverb', '학식/Noun', '폼/Noun', '?', '장구/Noun', '흠잡다/Adjective', '이러하다/Adjective', '여주/Noun', '풍경/Noun', '치면/Noun', '전이/Noun', '평/Noun', '걍/Adverb', '벌다/Verb', '등장/Noun', '셨/Noun', '겉/Noun', '삭제/Noun', 'firework/Alpha', '로버트/Noun', '삼/Modifier', '둘째/Noun', '더하다/Adjective', '~/Punctuation', 'ㅁㅊ/KoreanParticle', '성은/Noun', '건지다/Verb', '마련/Noun', 'ㅠㅜㅜ/KoreanParticle', '페넬로페/Noun', '명연기/Noun', '오다/Verb', '약혼자/Noun', '최고봉/Noun', '스펄/Noun', '조금/Noun', '바닥/Noun', '런가/Noun', '주행/Noun', '위악/Noun', '왜/Noun', '어썸/Noun', '이렇게/Adverb', '단순/Noun', '찍다/Verb', '앞서/Noun', '비현실적/Noun', '근데/Adverb', '죠스/Noun', '1956년/Number', '낚/Noun', '/Punctuation', '고어씬/Noun', '~~~~/Punctuation', '깨알/Noun', '도쿄/Noun', '러브스토리/Noun', 'ㅎㅎㅎ/KoreanParticle', '사회/Noun', '103/Number', '참다/Verb', '다시/Noun', '출진/Noun', '늘어놓다/Verb', '낙비/Noun', '차다/Verb', '굉장하다/Adjective', '만에/Josa', '탄생/Noun', '해주다/Verb', '아저씨/Noun', '관객/Noun', '하나같이/Adverb', '진보/Noun', '관계/Noun', '야/Exclamation', '☆/Foreign', 'non/ScreenName', '세상/Noun', '도/Noun', '초/Noun', '살다/Verb', '이리/Adverb', '오히려/Noun', '나라/Noun', '질식/Noun', '전기톱/Noun', '예/Modifier', '입다/Verb', '맡다/Verb', '잔/Noun', '쪼르르/Adverb', '없이/Adverb', '작다/Adjective', '떠나다/Verb', 'x/Alpha', '라스트/Noun', '기본/Noun', '대한민국/Noun', '의식/Noun', '뻔하다/Adjective', '그걸/Adverb', '찌질하다/Adjective', '주적/Noun', '기대하다/Adjective', '거북하다/Adjective', '자/Suffix', '찾아오다/Verb', '이보/Noun', '알/Noun', '마디/Noun', '제일/Noun', '번/Noun', '엄정화/Noun', '하향/Noun', '몇번/Noun', '오버/Noun', '포르/Noun', '평점/Noun', '먹다/Verb', '학생/Noun', '팔마/Noun', '돋다/Verb', '츠지/Noun', '어울림/Noun', '이이해/Noun', '탈/Noun', '게/Noun', '반/Modifier', '아/Josa', '말투/Noun', '뜻/Noun', '결혼/Noun', '자살/Noun', '공유/Noun', '루크/Noun', 'ㅎㄷㄷ/KoreanParticle', '찢다/Verb', '선정/Noun', '위로/Noun', '뭐/Noun', '또한/Noun', '구/Modifier', '어/Suffix', '능글/Noun', '+/Punctuation', '이기다/Verb', '처음/Noun', '로코/Noun', '여/Modifier', '♥/Foreign', '새/Modifier', '경향/Noun', '이라/Josa', '많이/Adverb', '나다/Verb', '댄스/Noun', '얘기/Noun', '아무/Noun', '넣다/Verb', '복선/Noun', '바꾸다/Verb', '회사/Noun', '재능/Noun', '공감/Noun', '갖힌/Noun', '견자단/Noun', '이지/Josa', '보구/Noun', '카메라/Noun', '누구/Noun', '치다/Verb', '매니아/Noun', '잡히다/Verb', '결국/Adverb', '미식축구/Noun', '장면/Noun', '아/Exclamation', '막판/Noun', '키르/Noun', '이해/Noun', '즐겁다/Adjective', '진/Noun', '참여/Noun', '4/Number', '삶/Noun', '``', '느끼다/Verb', '친구/Noun', '설정/Noun', '어떨/Modifier', '밖에/Josa', '벗다/Verb', '만큼/Josa', '10초/Number', '흑역사/Noun', '강추/Noun', '심기/Noun', '펙트/Noun', '찌다/Verb', '상어/Noun', '노출/Noun', '개/Suffix', '빗속/Noun', '개성/Noun', '한은정/Noun', '작/Modifier', '놀라다/Verb', '아버지/Noun', '모르다/Verb', '죽다/Verb', '언어/Noun', '미키/Noun', '첨부/Noun', '전작/Noun', '영적/Noun', '유명하다/Adjective', '신기하다/Adjective', '치고/Josa', 'ㅁ/KoreanParticle', '경력/Noun', '아빠/Noun', '7/Number', '루즈/Noun', '고문/Noun', '관심/Noun', '대입/Noun', '샤크/Noun', '헐다/Verb', '바보/Noun', '정종철/Noun', '잭/Noun', 'noraism/Alpha', '네/Suffix', '펑펑/Noun', '유머러스하다/Adjective', '지만/Josa', '캐릭터/Noun', '비주/Noun', '넘어서다/Verb', '절댜/Noun', '이며/Josa', '믿어지다/Verb', '주의/Noun', '자신/Noun', '영화감독/Noun', '의인/Noun', '소변/Noun', '수준/Noun', '열전/Noun', '잠들다/Verb', '차인표/Noun', '통해/Noun', '초자연적/Noun', 'TV/Alpha', '지난/Noun', '서로/Noun', '부터가/Josa', '에게만/Josa', '사지/Noun', '걸/Noun', '업/Noun', '유쾌하다/Adjective', '고맙다/Adjective', '클래식/Noun', '사실/Noun', '농담/Noun', '9/Number', '다/Josa', '겉멋/Noun', '스스로/Noun', '줄리/Noun', '수염/Noun', '13일/Number', '임/Noun', '지난/Modifier', '같이/Adverb', '향연/Noun', '압축/Noun', '박중훈/Noun', '끼울다/Verb', '부족하다/Adjective', '일생/Noun', '체적/Noun', '상처/Noun', '에는/Josa', '서커스/Noun', '탐험/Noun', '동사서독/Noun', '흥/Noun', '걸작/Noun', '빼다/Verb', '덩어리/Noun', '생애/Noun', '연습/Noun', '애가/Noun', '세지/Noun', '대사/Noun', '연기력/Noun', '부유하다/Adjective', '새끼/Noun', '보다/Josa', '달/Noun', '이르다/Verb', '부채/Noun', '바다/Noun', '원/Modifier', '종교인/Noun', '곳/Noun', '이렇다/Adjective', '엑소시스트/Noun', '%', '다수/Noun', '은빛/Noun', '공겸/Noun', '너구리/Noun', '후회/Noun', '포켓몬스터/Noun', '안해/Noun', '징/Noun', '마음/Noun', '감탄/Noun', '흥미/Noun', '에게도/Josa', '감독/Noun', '순수하다/Adjective', '듯/Noun', '이나/Josa', '꽤/Noun', '중/Noun', '주인공/Noun', '하필/Noun', '첨/Adverb', '시리즈/Noun', '개념/Noun', '윌/Noun', '적극/Noun', '특히/Adverb', '허세/Noun', '양심/Noun', '설명/Noun', '밑/Noun', '만해/Noun', '미래/Noun', '랭크될/Noun', '탈때/Noun', ')', '중학생/Noun', '콩콩/Adverb', '성경/Noun', '버리다/Verb', '달려들다/Verb', '벤자민/Noun', '중간/Noun', '메다/Verb', '기절/Noun', '더멋/Noun', '못/VerbPrefix', '서민/Noun', '한데/Eomi', '이라고/Josa', '좌절/Noun', '내내/Noun', '지지/Noun', '주가/Noun', '너/Noun', '쓰레기/Noun', '개그/Noun', '전쟁영화/Noun', '감상/Noun', '이어지다/Verb', '음성/Noun', '통쾌하다/Adjective', '들/Suffix', '~~~/Punctuation', '소문/Noun', '국적/Noun', '담/Noun', '좋아하다/Adjective', '정말/Noun', 'dj/Alpha', '부각시키다/Verb', '초콜릿/Noun', '수고/Noun', '원형/Noun', '건드리다/Verb', '기술/Noun', '는/Josa', '그동안/Noun', '진정/Noun', '너무도/Adverb', '논스톱/Noun', '최선/Noun', '울다/Verb', '라인/Noun', '약하다/Adjective', '하다/Verb', '막/Noun', '햇살/Noun', './Punctuation', '국수/Noun', '뉴논스톱/Noun', '안/Noun', '중량/Noun', '그/Noun', '면서/Noun', '기다/Verb', '열정/Noun', '해보다/Verb', '무리다/Adjective', '성공/Noun', '스팟/Noun', '여자아이/Noun', '다운/Noun', '~^^/Punctuation', '먹음/Noun', '바라다/Verb', '내리다/Verb', '쵝오/Noun', '신의/Noun', '5분/Number', '잡다/Verb', '당연하다/Adjective', '흉내내/Noun', '차기/Noun', '카/Noun', '춤/Noun', '쇼타/Noun', '취급/Noun', '킬링타임/Noun', '두/Noun', '조차/Noun', '터전/Noun', '유치하다/Adjective', '뭔가/Noun', '독특하다/Adjective', '배우/Noun', '명작/Noun', '4.5/Number', '에서나/Josa', '복/Noun', '프리/Noun', '받다/Verb', '건/Noun', '인지도/Noun', '들어가다/Verb', '직조/Noun', '완전하다/Adjective', '주연/Noun', '때리다/Verb', '마르다/Adjective', '행복/Noun', '식/Suffix', '이런/Modifier', '사이/Noun', '냉정/Noun', '난꽤/Noun', '사회주의/Noun', '배우다/Verb', '터지다/Verb', '장/Suffix', '멀다/Adjective', '맥스/Noun', '그냥/Noun'}\n"
     ]
    }
   ],
   "source": [
    "all_words = set()\n",
    "\n",
    "for tup in test_sent:\n",
    "    sent, label = tup[0], tup[1]\n",
    "    sent = pos_tokenize(sent)\n",
    "    words = word_tokenize(sent)\n",
    "\n",
    "    for word in words:\n",
    "        all_words.add(word)\n",
    "\n",
    "print(all_words)"
   ],
   "metadata": {
    "collapsed": false,
    "pycharm": {
     "name": "#%%\n"
    }
   }
  },
  {
   "cell_type": "code",
   "execution_count": 20,
   "outputs": [],
   "source": [
    "train_features = []\n",
    "\n",
    "for tup in test_sent:\n",
    "    sent, label = tup[0], tup[1]\n",
    "    sent = pos_tokenize(sent)\n",
    "    words = word_tokenize(sent)\n",
    "\n",
    "    tmp = {set_word: (set_word in words) for set_word in all_words}\n",
    "\n",
    "    sent_tup = (tmp, label)\n",
    "    train_features.append(sent_tup)"
   ],
   "metadata": {
    "collapsed": false,
    "pycharm": {
     "name": "#%%\n"
    }
   }
  },
  {
   "cell_type": "code",
   "execution_count": 21,
   "outputs": [
    {
     "name": "stdout",
     "output_type": "stream",
     "text": [
      "Most Informative Features\n",
      "           재밌다/Adjective = True              pos : neg    =      7.8 : 1.0\n",
      "                쓰레기/Noun = True              neg : pos    =      6.9 : 1.0\n",
      "                  뭐/Noun = True              neg : pos    =      5.9 : 1.0\n",
      "                해주다/Verb = True              pos : neg    =      5.2 : 1.0\n",
      "            안/VerbPrefix = True              neg : pos    =      4.8 : 1.0\n",
      "                 최고/Noun = True              pos : neg    =      4.6 : 1.0\n",
      "                  요/Josa = True              pos : neg    =      4.2 : 1.0\n",
      "            내/Determiner = True              neg : pos    =      4.0 : 1.0\n",
      "                  냐/Josa = True              neg : pos    =      4.0 : 1.0\n",
      "                  못/Noun = True              neg : pos    =      4.0 : 1.0\n"
     ]
    }
   ],
   "source": [
    "classifier = nltk.NaiveBayesClassifier.train(train_features)\n",
    "classifier.show_most_informative_features()"
   ],
   "metadata": {
    "collapsed": false,
    "pycharm": {
     "name": "#%%\n"
    }
   }
  },
  {
   "cell_type": "code",
   "execution_count": 22,
   "outputs": [],
   "source": [
    "test_sent = test_sent[1][0]\n",
    "test_sent = pos_tokenize(test_sent)\n",
    "test_words = word_tokenize(test_sent)\n",
    "\n",
    "test_feature = {set_word: (set_word in test_words) for set_word in all_words}"
   ],
   "metadata": {
    "collapsed": false,
    "pycharm": {
     "name": "#%%\n"
    }
   }
  },
  {
   "cell_type": "code",
   "execution_count": 23,
   "outputs": [
    {
     "name": "stdout",
     "output_type": "stream",
     "text": [
      "['굳다/Adjective', 'ㅋ/KoreanParticle']\n"
     ]
    },
    {
     "data": {
      "text/plain": "'pos'"
     },
     "execution_count": 23,
     "metadata": {},
     "output_type": "execute_result"
    }
   ],
   "source": [
    "print(test_words)\n",
    "classifier.classify(test_feature)"
   ],
   "metadata": {
    "collapsed": false,
    "pycharm": {
     "name": "#%%\n"
    }
   }
  }
 ],
 "metadata": {
  "kernelspec": {
   "display_name": "Python 3",
   "language": "python",
   "name": "python3"
  },
  "language_info": {
   "codemirror_mode": {
    "name": "ipython",
    "version": 2
   },
   "file_extension": ".py",
   "mimetype": "text/x-python",
   "name": "python",
   "nbconvert_exporter": "python",
   "pygments_lexer": "ipython2",
   "version": "2.7.6"
  }
 },
 "nbformat": 4,
 "nbformat_minor": 0
}